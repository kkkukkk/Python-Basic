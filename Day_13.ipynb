{
  "nbformat": 4,
  "nbformat_minor": 0,
  "metadata": {
    "colab": {
      "name": "Day 13.ipynb",
      "provenance": [],
      "authorship_tag": "ABX9TyMUt6oz0vkLSoO61cu/7Dw+",
      "include_colab_link": true
    },
    "kernelspec": {
      "name": "python3",
      "display_name": "Python 3"
    },
    "language_info": {
      "name": "python"
    }
  },
  "cells": [
    {
      "cell_type": "markdown",
      "metadata": {
        "id": "view-in-github",
        "colab_type": "text"
      },
      "source": [
        "<a href=\"https://colab.research.google.com/github/kkkukkk/ai/blob/main/Day_13.ipynb\" target=\"_parent\"><img src=\"https://colab.research.google.com/assets/colab-badge.svg\" alt=\"Open In Colab\"/></a>"
      ]
    },
    {
      "cell_type": "code",
      "execution_count": 3,
      "metadata": {
        "colab": {
          "base_uri": "https://localhost:8080/"
        },
        "id": "mRzlG1J52WhR",
        "outputId": "f6c0bc14-5ef2-4349-a9e4-7ef948b1c7ca"
      },
      "outputs": [
        {
          "output_type": "stream",
          "name": "stdout",
          "text": [
            "Enter a number : 1\n",
            "Enter a number : 3\n",
            "Enter a number : 5\n",
            "The last number you entered was a 5\n"
          ]
        }
      ],
      "source": [
        "# Ask the user to enter a number. Keep asking until they enter a value over 5\n",
        "# and then display the message \"The last number you entered was a [number]\"\n",
        "# and stop the program\n",
        "\n",
        "num = 0\n",
        "while num<5:\n",
        "  num = int(input('Enter a number : '))\n",
        "print(f'The last number you entered was a {num}')\n"
      ]
    },
    {
      "cell_type": "code",
      "source": [
        "# Ask the user to enter a number and then enter another number.\n",
        "# Add there two numbers together and then ask\n",
        "# if they want to add another number.\n",
        "\n",
        "a = int(input('Enter a number : '))\n",
        "\n",
        "again = 'y'\n",
        "while again == 'y':\n",
        "  b = int(input('Enter a number : '))\n",
        "  a += b\n",
        "  again = input('Do you want to add another number? y/n ')\n",
        "print(a)"
      ],
      "metadata": {
        "colab": {
          "base_uri": "https://localhost:8080/"
        },
        "id": "Qav9P_hk4vf7",
        "outputId": "80b76a2d-c9d8-48da-9f29-912fb23f5fc5"
      },
      "execution_count": 8,
      "outputs": [
        {
          "output_type": "stream",
          "name": "stdout",
          "text": [
            "Enter a number : 1\n",
            "Enter a number : 4\n",
            "Do you want to add another number? y/n y\n",
            "Enter a number : 2\n",
            "Do you want to add another number? y/n n\n",
            "7\n"
          ]
        }
      ]
    },
    {
      "cell_type": "code",
      "source": [
        "# Ask for the name of sombody the user wants to invite to a party.\n",
        "# After this, display the message '[name] has now been invited'\n",
        "# and add 1 to the count.\n",
        "# then ask if they want to invite somebody else.\n",
        "# Keep repeating this until they no longer want to invite anyone to the\n",
        "# party and then display how many people they have coming\n",
        "\n",
        "cnt = 0\n",
        "\n",
        "ask = 'y'\n",
        "while ask == 'y':\n",
        "  name = input('Enter the name : ')\n",
        "  print(f'{name} has now been invited')\n",
        "  cnt += 1\n",
        "  ask = input('Do you want to invite another people? y/n ')\n",
        "print(f'{cnt} people will come to the party ')"
      ],
      "metadata": {
        "colab": {
          "base_uri": "https://localhost:8080/"
        },
        "id": "8N7jdnQr8nVT",
        "outputId": "2f5cd784-e819-4cad-8131-80d440cf1a24"
      },
      "execution_count": 10,
      "outputs": [
        {
          "output_type": "stream",
          "name": "stdout",
          "text": [
            "Enter the name : park\n",
            "park has now been invited\n",
            "Do you want to invite another people? y/n y\n",
            "Enter the name : jin\n",
            "jin has now been invited\n",
            "Do you want to invite another people? y/n n\n",
            "2 people will come to the party \n"
          ]
        }
      ]
    },
    {
      "cell_type": "code",
      "source": [
        "# Create a variable called compnum and set the value to 50.\n",
        "# Ask the user to enter a number.\n",
        "# while their guess is not the same as the compnum value.\n",
        "# tell them if their guess is too low or too high and ask them to have another guess.\n",
        "# If they enter the same value as compnum, display the message 'Welldone, you took [count]\n",
        "# apptempts\n",
        "\n",
        "import random as rd\n",
        "\n",
        "compnum = rd.randrange(1,101)\n",
        "ans = 0\n",
        "cnt = 1\n",
        "while ans != compnum:\n",
        "  ans = int(input('Enter a number : '))\n",
        "  if ans > compnum:\n",
        "    print('too high!')\n",
        "    cnt += 1\n",
        "  elif ans < compnum:\n",
        "    print('too low!')\n",
        "    cnt += 1\n",
        "  else:\n",
        "    print(f'Welldone, you took {cnt} attempts!')"
      ],
      "metadata": {
        "colab": {
          "base_uri": "https://localhost:8080/"
        },
        "id": "7QjxanbD_sPG",
        "outputId": "5d3082d7-612e-4ca1-ccfa-c3f5172070b2"
      },
      "execution_count": 15,
      "outputs": [
        {
          "output_type": "stream",
          "name": "stdout",
          "text": [
            "Enter a number : 50\n",
            "too low!\n",
            "Enter a number : 75\n",
            "too low!\n",
            "Enter a number : 88\n",
            "too high!\n",
            "Enter a number : 78\n",
            "too low!\n",
            "Enter a number : 80\n",
            "Welldone, you took 5 attempts!\n"
          ]
        }
      ]
    },
    {
      "cell_type": "code",
      "source": [
        "# Using the song '10 green bottles', display the lines\n",
        "\n",
        "# 'There are [num] green bottles hanging on the wall,\n",
        "# [num] green bottles hanging on the wall,\n",
        "# and if 1 green bottle should accidentally fall'\n",
        "\n",
        "# Then ask the question 'how many green bottles will be hainging on the wall?'\n",
        "# If the user answer correctly, display the messsage\n",
        "# 'There will be [num] green bottle hanging on the wall'\n",
        "# 'If they answer incorrectly, display the message\n",
        "# 'No, try again' until they get if right.\n",
        "# When the number of green bottles gets down to 0.\n",
        "# display the message 'There are no more green bottles hanging on the wall'\n",
        "\n",
        "num = 10\n",
        "while num != 0:\n",
        "  print(f'There are {num} green bottles hanging on the wall,')\n",
        "  print(f'{num} green bottles hanging on the wall,')\n",
        "  print(f'and if 1 green bottle should accidentally fall\\n')\n",
        "  ans = int(input(f'how many green bottles will be hanging on the wall? >> '))\n",
        "  if ans == num-1:\n",
        "    print(f'There will be {num-1} green bottles hanging on the wall')\n",
        "    break\n",
        "  else:\n",
        "    print(f'No, try again\\n')\n",
        "    num -= 1\n",
        "    if num == 0:\n",
        "      print(f'There are no more green bottle hanging on the wall')\n",
        "      break"
      ],
      "metadata": {
        "colab": {
          "base_uri": "https://localhost:8080/"
        },
        "id": "XcVlok8JG4N3",
        "outputId": "ef28cbb2-db58-477b-d12f-f435171f1749"
      },
      "execution_count": 30,
      "outputs": [
        {
          "output_type": "stream",
          "name": "stdout",
          "text": [
            "There are 10 green bottles hanging on the wall,\n",
            "10 green bottles hanging on the wall,\n",
            "and if 1 green bottle should accidentally fall\n",
            "\n",
            "how many green bottles will be hanging on the wall? >> 9\n",
            "There will be 9 green bottles hanging on the wall\n"
          ]
        }
      ]
    },
    {
      "cell_type": "code",
      "source": [
        "#######################################\n",
        "# Random : Python can gengerate random values\n",
        "#######################################\n",
        "\n",
        "# Random numbers within a specified range.\n",
        "# A random choice from a range of items that are input\n",
        "\n",
        "# To use these two options, you will need to import the random module.\n",
        "# You do this by tiping import random at the start of your program."
      ],
      "metadata": {
        "id": "Ec4kEEGMNkCs"
      },
      "execution_count": null,
      "outputs": []
    },
    {
      "cell_type": "code",
      "source": [
        "import random\n",
        "\n",
        "num = random.random()\n",
        "print(num)\n",
        "\n",
        "# random floating number between 0 and 1"
      ],
      "metadata": {
        "colab": {
          "base_uri": "https://localhost:8080/"
        },
        "id": "sTXnbr77Sz9P",
        "outputId": "8e0d202d-a111-47ff-9fb1-b9cdbd28ff40"
      },
      "execution_count": 31,
      "outputs": [
        {
          "output_type": "stream",
          "name": "stdout",
          "text": [
            "0.4312950779434648\n"
          ]
        }
      ]
    },
    {
      "cell_type": "code",
      "source": [
        "num = int((random.random())*10)\n",
        "print(num)"
      ],
      "metadata": {
        "colab": {
          "base_uri": "https://localhost:8080/"
        },
        "id": "FBtjbwLYS5uq",
        "outputId": "ab9410bd-0e38-4521-9652-15b65ab4d9fc"
      },
      "execution_count": 32,
      "outputs": [
        {
          "output_type": "stream",
          "name": "stdout",
          "text": [
            "1\n"
          ]
        }
      ]
    },
    {
      "cell_type": "code",
      "source": [
        "# Selects a random whole number between 0 and 9(inclusive)\n",
        "\n",
        "num = random.randint(0,9) #9(inclusive)\n",
        "print(num)"
      ],
      "metadata": {
        "colab": {
          "base_uri": "https://localhost:8080/"
        },
        "id": "qEo7YpcGS-x8",
        "outputId": "0b62c299-1182-417d-c178-4c3482d78f3a"
      },
      "execution_count": 33,
      "outputs": [
        {
          "output_type": "stream",
          "name": "stdout",
          "text": [
            "1\n"
          ]
        }
      ]
    },
    {
      "cell_type": "code",
      "source": [
        "# Picks a random number between the numbers 0 and 100(inclusive) in steps of five\n",
        "\n",
        "num = random.randrange(0,100,5)  # 100(inclusive)\n",
        "print(num)"
      ],
      "metadata": {
        "colab": {
          "base_uri": "https://localhost:8080/"
        },
        "id": "1sOAjrT9TM4O",
        "outputId": "1f85fe5a-1ea7-4ae9-c4ee-ba5052d4c2d7"
      },
      "execution_count": 36,
      "outputs": [
        {
          "output_type": "stream",
          "name": "stdout",
          "text": [
            "40\n"
          ]
        }
      ]
    },
    {
      "cell_type": "code",
      "source": [
        "# Picks a random value from the options....\n",
        "color = random.choice(['red','black','blue','green','white'])\n",
        "print(color)"
      ],
      "metadata": {
        "id": "CAi3OtDDUDjt"
      },
      "execution_count": null,
      "outputs": []
    },
    {
      "cell_type": "code",
      "source": [
        "# Randomly choose either heads or tails ('h' or 't')\n",
        "# Ask the user to make their choice.\n",
        "# If their choice is the same as the randomly selected value,\n",
        "# display the message 'You Win', otherwise display 'Bad luck'\n",
        "# At the end print the answer \n",
        "\n",
        "import random as rd\n",
        "\n",
        "chs = input('Choose heads or tails h/t : ')\n",
        "ans = rd.choice(['h','t'])\n",
        "\n",
        "if chs == ans:\n",
        "  print('You Win')\n",
        "else :\n",
        "  print('Bad luck')\n",
        "\n",
        "print(f'The answer is {ans}')\n"
      ],
      "metadata": {
        "colab": {
          "base_uri": "https://localhost:8080/"
        },
        "id": "3dYzpFG9UhRA",
        "outputId": "2b6159fe-6a5d-47fc-f239-1678d9030a59"
      },
      "execution_count": 40,
      "outputs": [
        {
          "output_type": "stream",
          "name": "stdout",
          "text": [
            "Choose heads or tails h/t : h\n",
            "You Win\n",
            "The answer is h\n"
          ]
        }
      ]
    },
    {
      "cell_type": "code",
      "source": [
        "# Makes a maths quiz that asks five questions by randomly generating two whole numbers\n",
        "# to make the question\n",
        "# Ask the user to enter the answer.\n",
        "# If they get it right add a point to their score.\n",
        "# At the end of the quiz, tell them how many they got correct out of five\n",
        "\n",
        "import random as rd\n",
        "\n",
        "point = 0\n",
        "for i in range(5):\n",
        "  num1 = rd.randint(0,100)\n",
        "  num2 = rd.randint(0,100)\n",
        "  num = num1 + num2\n",
        "  ans = int(input(f'{num1}+{num2} = ? '))\n",
        "  if ans == num:\n",
        "    point += 1\n",
        "print(f'You got {point} points')\n"
      ],
      "metadata": {
        "colab": {
          "base_uri": "https://localhost:8080/"
        },
        "id": "kDyhUkZ4XBXD",
        "outputId": "096dddc4-703c-4102-8055-04af20cde9ab"
      },
      "execution_count": 44,
      "outputs": [
        {
          "output_type": "stream",
          "name": "stdout",
          "text": [
            "89+34 = ? 133\n",
            "43+88 = ? 42\n",
            "58+2 = ? 60\n",
            "99+13 = ? 112\n",
            "79+44 = ? 9\n",
            "You got 2points\n"
          ]
        }
      ]
    },
    {
      "cell_type": "code",
      "source": [
        "# Display five colors and ask the user to pick one.\n",
        "# If they pick the same as the program has chosen,\n",
        "# say 'Well done', otherwise display a witty answer which involves\n",
        "# the correct colors...like...'I bet you are GREEN with envy'\n",
        "# or 'You are probably feeling BLUE right now'.\n",
        "# Ask them to guess again : if they have still not got it right.\n",
        "# keep giving them the same clue and ask the user to enter a color\n",
        "# until they guess it correctly.\n",
        "\n",
        "import random as rd\n",
        "\n",
        "color = rd.choice(['red','black','blue','green','white'])\n",
        "ans = input('Choose one color red, black, blue, green, whilte : ')\n",
        "  \n",
        "first = 'You are probably feeling '+color.upper()+' right now.'\n",
        "second = 'You\\'d better to choose '+color.upper()\n",
        "third = 'I bet you are '+color.upper()+' with envy'\n",
        "fourth = 'Why don\\'t you choose '+color.upper()+'?'\n",
        "fifth = 'Hey! pick '+color.upper()+'!'\n",
        "\n",
        "if ans != color:\n",
        "  while ans != color:\n",
        "    wit = rd.choice([first, second, third, fourth, fifth])\n",
        "    print(wit)\n",
        "    ans = input('Choose one color red, black, blue, green, whilte : ')\n",
        "  print('Well done!')\n",
        "else:\n",
        "  print('Well done!')"
      ],
      "metadata": {
        "colab": {
          "base_uri": "https://localhost:8080/"
        },
        "id": "GIyLqNYOa3k8",
        "outputId": "5a2bf00e-7637-4ae1-f805-92a6ad75583e"
      },
      "execution_count": 77,
      "outputs": [
        {
          "output_type": "stream",
          "name": "stdout",
          "text": [
            "Choose one color red, black, blue, green, whilte : black\n",
            "I bet you are RED with envy\n",
            "Choose one color red, black, blue, green, whilte : red\n",
            "I bet you are BLACK with envy\n",
            "Choose one color red, black, blue, green, whilte : black\n",
            "You are probably feeling RED right now.\n",
            "Choose one color red, black, blue, green, whilte : red\n",
            "Well done!\n"
          ]
        }
      ]
    }
  ]
}