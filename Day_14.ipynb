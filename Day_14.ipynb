{
  "nbformat": 4,
  "nbformat_minor": 0,
  "metadata": {
    "colab": {
      "name": "Day 14.ipynb",
      "provenance": [],
      "collapsed_sections": [],
      "authorship_tag": "ABX9TyMNWBOJtL5pURB8kRrALMWf",
      "include_colab_link": true
    },
    "kernelspec": {
      "name": "python3",
      "display_name": "Python 3"
    },
    "language_info": {
      "name": "python"
    }
  },
  "cells": [
    {
      "cell_type": "markdown",
      "metadata": {
        "id": "view-in-github",
        "colab_type": "text"
      },
      "source": [
        "<a href=\"https://colab.research.google.com/github/kkkukkk/ai/blob/main/Day_14.ipynb\" target=\"_parent\"><img src=\"https://colab.research.google.com/assets/colab-badge.svg\" alt=\"Open In Colab\"/></a>"
      ]
    },
    {
      "cell_type": "code",
      "source": [
        "# Tuple, List and Dict\n",
        "\n",
        "# There are several ways that collections of data canbe stored as a single item.\n",
        "# There of the simpler ones are:\n",
        "# 1. Tuple\n",
        "# 2. List\n",
        "# 3. Dict\n",
        "# (4). Set\n",
        "\n",
        "# Tuple : Once a tuple is defined you cannot change what is stored in it. (immutable)\n",
        "# ()\n",
        "# List : The contents of a list canbe changed while the program is running and lists\n",
        "#        are one of the most common ways to store a collection of data in Python.\n",
        "#        (mutable)\n",
        "# []\n",
        "# DIct : can also be changed while the program is running. mutable \n",
        "#         Each value is given an index or key you can define to help identify \n",
        "#         each piece of data\n",
        "# {}\n",
        "fruit_tuple = ('apple','banana','cherry','orange')\n",
        "print(fruit_tuple[2])\n",
        "print(fruit_tuple.index('cherry'))\n",
        "del fruit_tuple[1]  "
      ],
      "metadata": {
        "id": "BOtdaOcbMumB"
      },
      "execution_count": null,
      "outputs": []
    },
    {
      "cell_type": "code",
      "source": [
        "names_list = ['John','Tim','Sam']\n",
        "del names_list[1]\n",
        "names_list"
      ],
      "metadata": {
        "id": "dAiuL8Q4Mwcf"
      },
      "execution_count": null,
      "outputs": []
    },
    {
      "cell_type": "code",
      "source": [
        "names_list.append(input('Add a name : '))\n",
        "names_list"
      ],
      "metadata": {
        "id": "fthkAgF8MySJ"
      },
      "execution_count": null,
      "outputs": []
    },
    {
      "cell_type": "code",
      "source": [
        "names_list = ['John', 'Sam', 'Austin']\n",
        "print(sorted(names_list))\n",
        "print(names_list)\n"
      ],
      "metadata": {
        "id": "76QBunatMz_J"
      },
      "execution_count": null,
      "outputs": []
    },
    {
      "cell_type": "code",
      "source": [
        "color = {1:'red',2:'blue',3:'green'}\n",
        "\n",
        "# Creates a dict called 'color' , where each item is assigned an index of your choosing\n",
        "\n",
        "print(color[2])"
      ],
      "metadata": {
        "id": "dbXXnPXrM3SA"
      },
      "execution_count": null,
      "outputs": []
    },
    {
      "cell_type": "code",
      "execution_count": 2,
      "metadata": {
        "colab": {
          "base_uri": "https://localhost:8080/"
        },
        "id": "jMCuUgGbpF9o",
        "outputId": "3fa1f897-747b-415c-9443-6e59c861ac35"
      },
      "outputs": [
        {
          "output_type": "stream",
          "name": "stdout",
          "text": [
            "Select one of the countries : KOREA\n",
            "0\n"
          ]
        }
      ],
      "source": [
        "# Create a tuple containing the names of five countries and display the whole tuple\n",
        "# Ask the user to enter one of the countries that have been shown to them and then\n",
        "# display the index number\n",
        "\n",
        "country = ('KOREA','JAPAN','GERMANY','USA','UK')\n",
        "\n",
        "show = input('Select one of the countries KOREA/JAPAN/GERMANY/USA/UK : ')\n",
        "print(country.index(show))"
      ]
    },
    {
      "cell_type": "code",
      "source": [
        "# Add to program above, to ask the user to enter a number and display the\n",
        "# country in that position\n",
        "\n",
        "country = ('KOREA','JAPAN','GERMANY','USA','UK')\n",
        "\n",
        "show = int(input('Select one of number : '))\n",
        "print(country[show])\n"
      ],
      "metadata": {
        "colab": {
          "base_uri": "https://localhost:8080/"
        },
        "id": "FI3tcV3AJJTc",
        "outputId": "24bf5e56-e991-4276-ad5b-12511f28d031"
      },
      "execution_count": 4,
      "outputs": [
        {
          "output_type": "stream",
          "name": "stdout",
          "text": [
            "Select one of number : 2\n",
            "GERMANY\n"
          ]
        }
      ]
    },
    {
      "cell_type": "code",
      "source": [
        "sport = ['soccer','basketball']\n",
        "\n",
        "ask = input('What is your favourite sport')\n",
        "sport.append(ask)\n",
        "print(sorted(sport))"
      ],
      "metadata": {
        "colab": {
          "base_uri": "https://localhost:8080/"
        },
        "id": "g-21KfKmK6_L",
        "outputId": "a4a38940-5dc8-4f1d-9d09-7bd3839d6b03"
      },
      "execution_count": 8,
      "outputs": [
        {
          "output_type": "stream",
          "name": "stdout",
          "text": [
            "What is your favourite sportabk\n",
            "['abk', 'basketball', 'soccer']\n"
          ]
        }
      ]
    },
    {
      "cell_type": "code",
      "source": [
        "dict = {}\n",
        "for i in range(1,5):\n",
        "  fav = input('Enter your 4 favorite food : ')\n",
        "  dict[i] = fav\n",
        "print(dict)\n",
        "\n",
        "ask = int(input('Which index do you want to delete '))\n",
        "del dict[ask]\n",
        "print(sorted(dict.values()))"
      ],
      "metadata": {
        "colab": {
          "base_uri": "https://localhost:8080/"
        },
        "id": "74rrGDsaMcZ3",
        "outputId": "8615ee25-aa0b-498c-e873-c84ca8e02cc4"
      },
      "execution_count": 15,
      "outputs": [
        {
          "output_type": "stream",
          "name": "stdout",
          "text": [
            "Enter your 4 favorite food : aa\n",
            "Enter your 4 favorite food : bb\n",
            "Enter your 4 favorite food : cc\n",
            "Enter your 4 favorite food : dd\n",
            "{1: 'aa', 2: 'bb', 3: 'cc', 4: 'dd'}\n",
            "Which index do you want to delete 3\n",
            "['aa', 'bb', 'dd']\n"
          ]
        }
      ]
    }
  ]
}