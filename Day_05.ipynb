{
  "nbformat": 4,
  "nbformat_minor": 0,
  "metadata": {
    "colab": {
      "name": "Day 5.ipynb",
      "provenance": [],
      "authorship_tag": "ABX9TyPi/fR0zromDrizkLUAkwJ7",
      "include_colab_link": true
    },
    "kernelspec": {
      "name": "python3",
      "display_name": "Python 3"
    },
    "language_info": {
      "name": "python"
    }
  },
  "cells": [
    {
      "cell_type": "markdown",
      "metadata": {
        "id": "view-in-github",
        "colab_type": "text"
      },
      "source": [
        "<a href=\"https://colab.research.google.com/github/kkkukkk/ai/blob/main/Day_5.ipynb\" target=\"_parent\"><img src=\"https://colab.research.google.com/assets/colab-badge.svg\" alt=\"Open In Colab\"/></a>"
      ]
    },
    {
      "cell_type": "code",
      "execution_count": null,
      "metadata": {
        "id": "5UqLr2sdXbGj"
      },
      "outputs": [],
      "source": [
        "##########################\n",
        "#Function\n",
        "##########################\n",
        "\n",
        "# 함수 만들기\n",
        "\n",
        "# 수학에서의 함수와 유사\n",
        "\n",
        "# 딸기(input) -> 믹서기(함수) -> 딸기 주스(output)\n",
        "# 바나나(input) -> 믹서기(함수) -> 바나나 주스(output)\n",
        "# 사과(input) -> 믹서기(함수) -> 사과 주스(output)\n",
        "\n",
        "# 함수의 가장 기본형\n",
        "# def 함수명(input):\n",
        "#   수행\n"
      ]
    },
    {
      "cell_type": "code",
      "source": [
        "def print_3(val):\n",
        "  print(val)\n",
        "  print(val)\n",
        "  print(val)\n",
        "\n",
        "\n",
        "print_3('hi')"
      ],
      "metadata": {
        "colab": {
          "base_uri": "https://localhost:8080/"
        },
        "id": "fDXK5c_gZGyj",
        "outputId": "cbe6d84e-42d3-437c-e845-bda6a7cd9ad9"
      },
      "execution_count": 2,
      "outputs": [
        {
          "output_type": "stream",
          "name": "stdout",
          "text": [
            "hi\n",
            "hi\n",
            "hi\n"
          ]
        }
      ]
    },
    {
      "cell_type": "code",
      "source": [
        "# 매개 변수를 2개 지정했으나 함수를 호출할 때 1개만 넣으면 에러가 발생한다.\n",
        "def print_3(val,n):\n",
        "  for i in range(n):\n",
        "    print(val)\n",
        "print_3('hello',5)"
      ],
      "metadata": {
        "colab": {
          "base_uri": "https://localhost:8080/"
        },
        "id": "FzxUNegaZ_Nm",
        "outputId": "33ab0461-f035-4f38-ee5f-3e7d4ab5ceb8"
      },
      "execution_count": 4,
      "outputs": [
        {
          "output_type": "stream",
          "name": "stdout",
          "text": [
            "hello\n",
            "hello\n",
            "hello\n",
            "hello\n",
            "hello\n"
          ]
        }
      ]
    },
    {
      "cell_type": "code",
      "source": [
        "# 가변 매개 변수\n",
        "# 함수를 선언할 때 매개변수와 함수를 호출할 때 매개변수 같아야만 했다. 적어도 안되고 많아도 안된다.\n",
        "\n",
        "def print_n_times(n, *val): # 개수가 몇 개든 상관없다.\n",
        "  for i in range(n):\n",
        "    for v in val:\n",
        "      print(v)\n",
        "    print()\n",
        "\n",
        "print_n_times(3,'hi','hello','bye')\n",
        "print_n_times(3,'hi','hello')"
      ],
      "metadata": {
        "colab": {
          "base_uri": "https://localhost:8080/"
        },
        "id": "9QJhBMA9b6Eq",
        "outputId": "c26b66b0-7c52-414d-c642-6dd5313f97fc"
      },
      "execution_count": 6,
      "outputs": [
        {
          "output_type": "stream",
          "name": "stdout",
          "text": [
            "hi\n",
            "hello\n",
            "bye\n",
            "\n",
            "hi\n",
            "hello\n",
            "bye\n",
            "\n",
            "hi\n",
            "hello\n",
            "bye\n",
            "\n",
            "hi\n",
            "hello\n",
            "\n",
            "hi\n",
            "hello\n",
            "\n",
            "hi\n",
            "hello\n",
            "\n"
          ]
        }
      ]
    },
    {
      "cell_type": "code",
      "source": [
        "# 입력 받은 정수들을 모두 더한 합을 반환하는 sum_all 함수를 작성하세요\n",
        "\n",
        "\n",
        "def sum_all(*val):\n",
        "  print(sum(val))\n",
        "\n",
        "sum_all(1,2,3,4,5)"
      ],
      "metadata": {
        "colab": {
          "base_uri": "https://localhost:8080/"
        },
        "id": "UMdllh_SdS-q",
        "outputId": "b2e768dc-7060-43c8-936e-46584fefbe08"
      },
      "execution_count": 14,
      "outputs": [
        {
          "output_type": "stream",
          "name": "stdout",
          "text": [
            "15\n"
          ]
        }
      ]
    },
    {
      "cell_type": "code",
      "source": [
        "# 기본 매개변수\n",
        "# 기본 매개변수를 뒤에 위치시켜야 오류 안남\n",
        "\n",
        "def print_3(val, n=2):\n",
        "  for i in range(n):\n",
        "    print(val)\n",
        "\n",
        "print_3('hi')\n",
        "print_3('hi',4)\n"
      ],
      "metadata": {
        "colab": {
          "base_uri": "https://localhost:8080/"
        },
        "id": "qNsx4kl-fIdZ",
        "outputId": "20fa7450-d96f-4bf6-9ec3-cd88d0b4bebd"
      },
      "execution_count": 2,
      "outputs": [
        {
          "output_type": "stream",
          "name": "stdout",
          "text": [
            "hi\n",
            "hi\n",
            "hi\n",
            "hi\n",
            "hi\n",
            "hi\n"
          ]
        }
      ]
    },
    {
      "cell_type": "code",
      "source": [
        "def print_n_time(n, *args):  # 관용적으로 가변매개변수의 이름은 args를 사용한다.\n",
        "  for i in range(n):\n",
        "    for arg in arg:\n",
        "      print(arg)\n",
        "    print()\n",
        "\n",
        "print_n_times(3,'hi','hello','good morning')"
      ],
      "metadata": {
        "id": "Xkk9ZzFIgC7j"
      },
      "execution_count": null,
      "outputs": []
    },
    {
      "cell_type": "code",
      "source": [
        "def test(a, b=10, c=100):\n",
        "  print(a+b+c)\n",
        "\n",
        "#1 기본형태\n",
        "test(10,20,30)\n",
        "\n",
        "#2 모든 매개변수 지정\n",
        "test(a=10,b=20,c=30)\n",
        "\n",
        "#3 순서를 섞어서 지정\n",
        "test(a=10,b=20,c=30)\n",
        "\n",
        "#4 일부만 지정\n",
        "test(10, c= 30)"
      ],
      "metadata": {
        "colab": {
          "base_uri": "https://localhost:8080/"
        },
        "id": "IjI3RPKlk9mq",
        "outputId": "c9dc2021-9355-4d23-fa47-3c1ae07a1c1c"
      },
      "execution_count": 3,
      "outputs": [
        {
          "output_type": "stream",
          "name": "stdout",
          "text": [
            "60\n",
            "60\n",
            "60\n",
            "50\n"
          ]
        }
      ]
    },
    {
      "cell_type": "code",
      "source": [
        "def return_test():\n",
        "  print(\"A위치입니다.\")\n",
        "  return # return을 만나면 끝난다.\n",
        "  print(\"B위치입니다.\") # 실행안됨\n",
        "\n",
        "return_test()"
      ],
      "metadata": {
        "id": "4We8T6m0lysc"
      },
      "execution_count": null,
      "outputs": []
    },
    {
      "cell_type": "code",
      "source": [
        "def return_test():\n",
        "  return 100 # 100을 가지고 나간다.\n",
        "\n",
        "return_test()"
      ],
      "metadata": {
        "colab": {
          "base_uri": "https://localhost:8080/"
        },
        "id": "Fm8U9QLrmJQ3",
        "outputId": "2fb63677-a0c2-4d0d-cd27-978fb98a5dba"
      },
      "execution_count": 4,
      "outputs": [
        {
          "output_type": "execute_result",
          "data": {
            "text/plain": [
              "100"
            ]
          },
          "metadata": {},
          "execution_count": 4
        }
      ]
    },
    {
      "cell_type": "code",
      "source": [
        "def sum_all(start,end):\n",
        "  output = 0\n",
        "  for i in range (start, end+1):\n",
        "    output += i\n",
        "\n",
        "  return output\n",
        "\n",
        "print('0에서 100까지의 합 : ', sum_all(0,100))\n",
        "print('0에서 100까지의 합 : ', sum_all(0,1000))\n",
        "print('0에서 100까지의 합 : ', sum_all(50,100))\n",
        "print('0에서 100까지의 합 : ', sum_all(500,1000))"
      ],
      "metadata": {
        "colab": {
          "base_uri": "https://localhost:8080/"
        },
        "id": "Bixiu_LKmmLU",
        "outputId": "348b98ab-960d-4d6e-b3c7-d14d9fbaea3a"
      },
      "execution_count": 6,
      "outputs": [
        {
          "output_type": "stream",
          "name": "stdout",
          "text": [
            "0에서 100까지의 합 :  5050\n",
            "0에서 100까지의 합 :  500500\n",
            "0에서 100까지의 합 :  3825\n",
            "0에서 100까지의 합 :  375750\n"
          ]
        }
      ]
    },
    {
      "cell_type": "code",
      "source": [
        "# 재귀 함수\n",
        "# 함수가 자기자신을 다시 호출함\n",
        "# 사용을 권장하지 않음\n",
        "\n",
        "def hello():\n",
        "  print('hi')\n",
        "  return hello()\n",
        "\n",
        "hello()\n",
        "\n",
        "\n",
        "\n",
        "hello()"
      ],
      "metadata": {
        "id": "gaBGDDE3n3l_"
      },
      "execution_count": null,
      "outputs": []
    },
    {
      "cell_type": "code",
      "source": [
        "# 반복문으로 팩토리얼 구하기\n",
        "\n",
        "def facto(n):\n",
        "  \n",
        "  output = 1\n",
        "  for i in range (1,n+1):\n",
        "    output *= i\n",
        "  return output\n",
        "\n",
        "\n",
        "print('3! : ', facto(3))\n",
        "print('5! : ', facto(5))\n",
        "print('7! : ', facto(7))"
      ],
      "metadata": {
        "colab": {
          "base_uri": "https://localhost:8080/"
        },
        "id": "sY0mytM2pYXj",
        "outputId": "b5e67584-0408-4bee-beed-57d4d41857f1"
      },
      "execution_count": 19,
      "outputs": [
        {
          "output_type": "stream",
          "name": "stdout",
          "text": [
            "3! :  6\n",
            "5! :  120\n",
            "7! :  5040\n"
          ]
        }
      ]
    },
    {
      "cell_type": "code",
      "source": [
        "# 재귀(recursion)로 팩토리얼 구하기\n",
        "\n",
        "# def facto(n):\n",
        "#   for i in range (1,n):\n",
        "#     n *= i\n",
        "#   return n\n",
        "\n",
        "def facto(n):\n",
        "  if n == 0:\n",
        "    return 1\n",
        "  else:\n",
        "    return n*facto(n-1)\n",
        "\n",
        "print('3! : ', facto(3))\n",
        "print('5! : ', facto(5))\n",
        "print('7! : ', facto(7))\n",
        "\n",
        "# 개발자들 사이에서는 재귀함수를 절대 사용하지 말자 라는 의견도 있다.\n",
        "# 하지만 가독성이 좋고 코드가 간결해 보이는 장점도 있다."
      ],
      "metadata": {
        "colab": {
          "base_uri": "https://localhost:8080/"
        },
        "id": "qsYLfNTSqjgs",
        "outputId": "6db73be0-6e64-4af6-d797-232f6b0bbc42"
      },
      "execution_count": 20,
      "outputs": [
        {
          "output_type": "stream",
          "name": "stdout",
          "text": [
            "3! :  6\n",
            "5! :  120\n",
            "7! :  5040\n"
          ]
        }
      ]
    },
    {
      "cell_type": "code",
      "source": [
        "# 피보나치 수열 ( 토끼의 번식 속도, 바이러스 감염 속도....)\n",
        "\n",
        "def fibo(n):\n",
        "  if n == 1 or n == 2:\n",
        "    return 1\n",
        "  else:\n",
        "    return fibo(n-1) + fibo(n-2)\n",
        "\n",
        "\n",
        "\n",
        "print('fibonacci(1) : ' , fibo(1))\n",
        "print('fibonacci(2) : ' , fibo(2))\n",
        "print('fibonacci(3) : ' , fibo(3))\n",
        "print('fibonacci(4) : ' , fibo(4))\n",
        "print('fibonacci(5) : ' , fibo(5))"
      ],
      "metadata": {
        "colab": {
          "base_uri": "https://localhost:8080/"
        },
        "id": "TtnNbaPCsjT6",
        "outputId": "585d4467-7f82-47df-8f98-3bde83ea30bd"
      },
      "execution_count": 8,
      "outputs": [
        {
          "output_type": "stream",
          "name": "stdout",
          "text": [
            "fibonacci(1) :  1\n",
            "fibonacci(2) :  1\n",
            "fibonacci(3) :  2\n",
            "fibonacci(4) :  3\n",
            "fibonacci(5) :  5\n"
          ]
        }
      ]
    },
    {
      "cell_type": "code",
      "source": [
        "# 튜플과 함수\n",
        "# 튜플은 함수의 리턴에 많이 사용된다. 함수의 리턴에 튜플을 사용하게 되면\n",
        "# 여러개의 값을 리턴하고 할당 할 수 있기 때문이다.\n",
        "\n",
        "\n",
        "def test():\n",
        "  return (10, 20) # 튜플의 (소)괄호는 생략 가능하다.\n",
        "\n",
        "a,b = test()\n",
        "\n",
        "print(a)\n",
        "print(b)"
      ],
      "metadata": {
        "colab": {
          "base_uri": "https://localhost:8080/"
        },
        "id": "iyVwxkIezlV-",
        "outputId": "11fdea80-cd93-4465-d868-a33a08135e58"
      },
      "execution_count": 9,
      "outputs": [
        {
          "output_type": "stream",
          "name": "stdout",
          "text": [
            "10\n",
            "20\n"
          ]
        }
      ]
    },
    {
      "cell_type": "code",
      "source": [
        "def add (a, b): # 그 인수를 담아서 함수에서 사용되는 매개변수 parameters\n",
        "  return a+b\n",
        "\n",
        "a = 3 # 함수로 들어가는 실제값을 인수 arguments\n",
        "b = 4 #\n",
        "c = add(a,b)\n",
        "print(c)\n",
        "\n",
        "# 인수와 매개변수\n",
        "# 함수와 매서드 - 클래스 안에서 선언한 함수를 매서드라고 부름\n",
        "# 객체와 인스턴스 - "
      ],
      "metadata": {
        "colab": {
          "base_uri": "https://localhost:8080/"
        },
        "id": "kgyJO7j10ihj",
        "outputId": "2639c8c2-d91f-4ef9-a071-011f4b137f86"
      },
      "execution_count": 10,
      "outputs": [
        {
          "output_type": "stream",
          "name": "stdout",
          "text": [
            "7\n"
          ]
        }
      ]
    },
    {
      "cell_type": "code",
      "source": [
        "# 함수의 종류 4가지\n",
        "# input 도 있고 output 도 있는 함수 (*****)\n",
        "# input 은 없고 output 은 있는 함수 \n",
        "# input 은 있고 output 은 없는 함수\n",
        "# input 도 없고 output 도 없는 함수"
      ],
      "metadata": {
        "id": "PznSi-kV3DK0"
      },
      "execution_count": null,
      "outputs": []
    },
    {
      "cell_type": "code",
      "source": [
        "# input 도 있고 output 도 있는 함수\n",
        "def add(a,b):\n",
        "  return a+b\n",
        "\n",
        "print(add(1,2))"
      ],
      "metadata": {
        "colab": {
          "base_uri": "https://localhost:8080/"
        },
        "id": "zaMo4Hyu1gBY",
        "outputId": "3d6e2033-0a38-4ef6-c353-2e9f3e1cf117"
      },
      "execution_count": 13,
      "outputs": [
        {
          "output_type": "stream",
          "name": "stdout",
          "text": [
            "3\n"
          ]
        }
      ]
    },
    {
      "cell_type": "code",
      "source": [
        "# input 은 없고 output은 있는 함수\n",
        "\n",
        "def say():\n",
        "  return 'hi'\n",
        "\n",
        "print(say())"
      ],
      "metadata": {
        "colab": {
          "base_uri": "https://localhost:8080/"
        },
        "id": "nUGsFiiI3pTy",
        "outputId": "fb2b1778-a197-410e-f745-c88fb3f3a317"
      },
      "execution_count": 15,
      "outputs": [
        {
          "output_type": "stream",
          "name": "stdout",
          "text": [
            "hi\n"
          ]
        }
      ]
    },
    {
      "cell_type": "code",
      "source": [
        "# input 은 있고 output 은 없는 함수\n",
        "\n",
        "def add(a,b):\n",
        "  print('%d, %d의 합은 %d입니다.' %(a,b, a+b))\n",
        "\n",
        "add(3,4)"
      ],
      "metadata": {
        "colab": {
          "base_uri": "https://localhost:8080/"
        },
        "id": "73ISd5BR336N",
        "outputId": "4fc660dc-bbb3-4bab-da24-a2b301e3373f"
      },
      "execution_count": 18,
      "outputs": [
        {
          "output_type": "stream",
          "name": "stdout",
          "text": [
            "3, 4의 합은 7입니다.\n"
          ]
        }
      ]
    },
    {
      "cell_type": "code",
      "source": [
        "# 4. input 도 없고 output도 없는 함수\n",
        "\n",
        "def say():\n",
        "  print('hi')\n",
        "\n",
        "say()\n"
      ],
      "metadata": {
        "colab": {
          "base_uri": "https://localhost:8080/"
        },
        "id": "64hrmgfi4tJx",
        "outputId": "76dded6a-1c89-4ef8-fba2-03b403f0326c"
      },
      "execution_count": 19,
      "outputs": [
        {
          "output_type": "stream",
          "name": "stdout",
          "text": [
            "hi\n"
          ]
        }
      ]
    },
    {
      "cell_type": "code",
      "source": [
        "def add(a,b):\n",
        "  return a+b\n",
        "\n",
        "\n",
        "print(add(a=3, b=7))\n",
        "print(add(b=7, a=3))"
      ],
      "metadata": {
        "id": "T2o0itPU_hhg"
      },
      "execution_count": null,
      "outputs": []
    },
    {
      "cell_type": "code",
      "source": [
        "def add_many(*args):\n",
        "  result = 0\n",
        "\n",
        "  for arg in args:\n",
        "    result += arg\n",
        "  return result\n",
        "\n",
        "\n",
        "print(add_many(1,2,3)) \n",
        "print(add_many(1,2,3,4,5)) "
      ],
      "metadata": {
        "id": "luZ6VHZw_kPE"
      },
      "execution_count": null,
      "outputs": []
    },
    {
      "cell_type": "code",
      "source": [
        "def add_mul(choice, *args):\n",
        "  if choice == 'add': \n",
        "    result = 0\n",
        "    for i in args: \n",
        "      result += i\n",
        "  elif choice == 'mul': \n",
        "    result = 1\n",
        "    for i in args:\n",
        "      result =  result * i\n",
        "  return result\n",
        "\n",
        "print(add_mul('add',1,2,3,4,5))\n",
        "\n",
        "print(add_mul('mul',1,2,3))"
      ],
      "metadata": {
        "id": "1CqgEGgu_mJJ"
      },
      "execution_count": null,
      "outputs": []
    },
    {
      "cell_type": "code",
      "source": [
        "def add_mul(choice, *args):\n",
        "    if choice == \"add\":\n",
        "        result=0\n",
        "        for i in args:\n",
        "            result += i\n",
        "  \n",
        "    elif choice == \"mul\":\n",
        "        result=1\n",
        "        for i in args:\n",
        "            result = result * i\n",
        "    return result\n",
        "print(add_mul(\"add\",1,2,3,4,5))\n",
        "print(add_mul(\"mul\",1,2,3))"
      ],
      "metadata": {
        "id": "D8YR1D6n_on6"
      },
      "execution_count": null,
      "outputs": []
    },
    {
      "cell_type": "code",
      "source": [
        "def add_and_mul(a,b):\n",
        "  return a+b, a*b\n",
        "\n",
        "result1, result2 = add_and_mul(3,4)\n",
        "print(result1)\n",
        "print(result2)\n"
      ],
      "metadata": {
        "colab": {
          "base_uri": "https://localhost:8080/"
        },
        "id": "0riC0Yp0_K5_",
        "outputId": "1f450ee2-6cef-4351-c1d9-3b304401a49a"
      },
      "execution_count": 22,
      "outputs": [
        {
          "output_type": "stream",
          "name": "stdout",
          "text": [
            "7\n",
            "12\n"
          ]
        }
      ]
    },
    {
      "cell_type": "code",
      "source": [
        "def add_and_mul(a,b):\n",
        "  return a+b\n",
        "  return a*b # return되는 순간 끝\n",
        "\n",
        "result = add_and_mul(3,4)\n",
        "print(result)\n"
      ],
      "metadata": {
        "colab": {
          "base_uri": "https://localhost:8080/"
        },
        "id": "6Z_aHRDI_3dQ",
        "outputId": "76c7e0c7-dffe-4a49-c2cc-362baa29e575"
      },
      "execution_count": 26,
      "outputs": [
        {
          "output_type": "stream",
          "name": "stdout",
          "text": [
            "7\n"
          ]
        }
      ]
    },
    {
      "cell_type": "code",
      "source": [
        "def say_myself(name, old, man = True):\n",
        "  print(\"나의 이름은 %s 입니다.\" % name)\n",
        "  print(f'나의 이름은 {name} 입니다.')\n",
        "  print(\"나는 %d 입니다.\" % old)\n",
        "  print(f'나의 이름은 {old}입니다.')\n",
        "\n",
        "  if man:\n",
        "    print('남자입니다.')\n",
        "  else :\n",
        "    print(\"여자입니다.\")\n",
        "\n",
        "say_myself(\"박응응\",27)\n",
        "say_myself(\"박응응\",27,True)\n",
        "say_myself(\"박응응\",27,False)"
      ],
      "metadata": {
        "colab": {
          "base_uri": "https://localhost:8080/"
        },
        "id": "5VnP3fLlAJvr",
        "outputId": "752b4721-ebe5-481c-f126-0e2d875d0cdb"
      },
      "execution_count": 28,
      "outputs": [
        {
          "output_type": "stream",
          "name": "stdout",
          "text": [
            "나의 이름은 박응응 입니다.\n",
            "나의 이름은 박응응 입니다.\n",
            "나는 27 입니다.\n",
            "나의 이름은 27입니다.\n",
            "남자입니다.\n",
            "나의 이름은 박응응 입니다.\n",
            "나의 이름은 박응응 입니다.\n",
            "나는 27 입니다.\n",
            "나의 이름은 27입니다.\n",
            "남자입니다.\n",
            "나의 이름은 박응응 입니다.\n",
            "나의 이름은 박응응 입니다.\n",
            "나는 27 입니다.\n",
            "나의 이름은 27입니다.\n",
            "여자입니다.\n"
          ]
        }
      ]
    },
    {
      "cell_type": "code",
      "source": [
        "# 매개변수의 순서가 맞지 않으면 오류\n",
        "# 초기값 설정한 매개변수는 항상 뒤쪽에 놓자"
      ],
      "metadata": {
        "id": "Wt-awrlBBXUy"
      },
      "execution_count": 29,
      "outputs": []
    },
    {
      "cell_type": "code",
      "source": [
        "# 지역 변수 local variable와 전역변수 global variable\n",
        "\n",
        "a = 1\n",
        "\n",
        "def vartest(a): # 함수 안의 a와 함수 밖의 a는 다른 변수이다.\n",
        "  a = a + 1\n",
        "\n",
        "vartest(a)\n",
        "print(a)"
      ],
      "metadata": {
        "colab": {
          "base_uri": "https://localhost:8080/"
        },
        "id": "zSafBJUBCJp5",
        "outputId": "38153d44-c8d0-4fd6-8d5b-bd21eb73b703"
      },
      "execution_count": 32,
      "outputs": [
        {
          "output_type": "stream",
          "name": "stdout",
          "text": [
            "1\n"
          ]
        }
      ]
    },
    {
      "cell_type": "code",
      "source": [
        "a = 1\n",
        "\n",
        "def vartest():\n",
        "  global a # 전역 변수 선언 but, 좋은 사용은 아님\n",
        "  a = a + 1\n",
        "\n",
        "vartest()\n",
        "print(a)"
      ],
      "metadata": {
        "colab": {
          "base_uri": "https://localhost:8080/"
        },
        "id": "rXpOyV5-DNFL",
        "outputId": "a8d0eb49-b476-40d2-84f7-18e2e3623bd6"
      },
      "execution_count": 34,
      "outputs": [
        {
          "output_type": "stream",
          "name": "stdout",
          "text": [
            "2\n"
          ]
        }
      ]
    },
    {
      "cell_type": "code",
      "source": [
        "# lambda 를 사용하면 코드를 더 깔끔하게 작성할 수 있고\n",
        "# 코드의 복잡성을 줄여준다.\n",
        "# 반면 재 사용성은 상당히 떨어진다.\n",
        "\n",
        "\n",
        "# def add(a,b):\n",
        "#   return a+b\n",
        "\n",
        "add = lambda a, b: a+b # 위 함수의 람다 형태, return이 없어도 결과값을 돌려준다.\n",
        "\n",
        "print(add(3,4))"
      ],
      "metadata": {
        "colab": {
          "base_uri": "https://localhost:8080/"
        },
        "id": "q4zFU--BEdK3",
        "outputId": "0487d103-cefb-40c2-c48f-f74c881218e6"
      },
      "execution_count": 35,
      "outputs": [
        {
          "output_type": "stream",
          "name": "stdout",
          "text": [
            "7\n"
          ]
        }
      ]
    }
  ]
}
