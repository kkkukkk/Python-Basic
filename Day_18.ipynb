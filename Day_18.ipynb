{
  "nbformat": 4,
  "nbformat_minor": 0,
  "metadata": {
    "colab": {
      "name": "Day 18.ipynb",
      "provenance": [],
      "authorship_tag": "ABX9TyOsBE9LnfCnNoJ1eDEOB4g8",
      "include_colab_link": true
    },
    "kernelspec": {
      "name": "python3",
      "display_name": "Python 3"
    },
    "language_info": {
      "name": "python"
    }
  },
  "cells": [
    {
      "cell_type": "markdown",
      "metadata": {
        "id": "view-in-github",
        "colab_type": "text"
      },
      "source": [
        "<a href=\"https://colab.research.google.com/github/kkkukkk/ai/blob/main/Day_18.ipynb\" target=\"_parent\"><img src=\"https://colab.research.google.com/assets/colab-badge.svg\" alt=\"Open In Colab\"/></a>"
      ]
    },
    {
      "cell_type": "code",
      "execution_count": 9,
      "metadata": {
        "colab": {
          "base_uri": "https://localhost:8080/"
        },
        "id": "Bg8jXclnLoM4",
        "outputId": "bdbfe939-00bf-4688-c725-9aae4302560a"
      },
      "outputs": [
        {
          "output_type": "stream",
          "name": "stdout",
          "text": [
            "1) Addition\n",
            "2) Substraction\n",
            "Enter 1 or 2 : 2\n",
            "40 - 11 = ? 22\n",
            "Incorrect, the answer is 29\n"
          ]
        }
      ],
      "source": [
        "import random as rd\n",
        "\n",
        "def chk(ans,u_ans):\n",
        "  if ans == u_ans:\n",
        "    print('Correct!')\n",
        "  else:\n",
        "    print(f'Incorrect, the answer is {ans}')\n",
        "\n",
        "def game():\n",
        "  print('1) Addition')\n",
        "  print('2) Substraction')\n",
        "  sel = int(input('Enter 1 or 2 : '))\n",
        "  \n",
        "  if sel == 1:\n",
        "    a = rd.randint(5,20)\n",
        "    b = rd.randint(5,20)\n",
        "    ans = a+b\n",
        "    u_ans = int(input(f'{a} + {b} = ? '))\n",
        "    return chk(ans, u_ans)\n",
        "\n",
        "  elif sel == 2:\n",
        "    c = rd.randint(25,50)\n",
        "    d = rd.randint(1,25)\n",
        "    ans = c-d\n",
        "    u_ans = int(input(f'{c} - {d} = ? '))\n",
        "    return chk(ans, u_ans)\n",
        "  \n",
        "  else:\n",
        "    print('Please choose 1 or 2')\n",
        "\n",
        "game()"
      ]
    },
    {
      "cell_type": "code",
      "source": [
        "def add():\n",
        "  name = input('Enter the name that you want to add in list : ')\n",
        "  list.append(name)\n",
        "  print(f'{name} has been appended\\n\\n')\n",
        "\n",
        "def change():\n",
        "  cha = int(input('Enter the index number that you want to chage : '))\n",
        "  c_name = input('Enter the new name : ')\n",
        "  list[cha] = c_name\n",
        "  print(f'{list[cha]} has been changed to {c_name}\\n\\n')\n",
        "\n",
        "def delete():\n",
        "  d_name = int(input('Enter the index number that you want to delete : '))\n",
        "  del list[d_name]\n",
        "  print(f'{d_name} has been deleted\\n\\n')\n",
        "\n",
        "def p_list():\n",
        "  print(list)\n",
        "  print('\\n\\n')\n",
        "\n",
        "def manage_list():\n",
        "  while True:\n",
        "    print('1. add\\n2. change\\n3. delete\\n4. view\\n5. off')\n",
        "    sel = int(input('Select a number : '))\n",
        "    if sel == 1:\n",
        "      add()\n",
        "    elif sel == 2:\n",
        "      change()\n",
        "    elif sel == 3:\n",
        "      delete()\n",
        "    elif sel == 4:\n",
        "      p_list()\n",
        "    elif sel == 5:\n",
        "      break\n",
        "    else:\n",
        "      print(\"Please choose right number!\\n\\n\")\n",
        "\n",
        "list = []\n",
        "\n",
        "manage_list()"
      ],
      "metadata": {
        "colab": {
          "base_uri": "https://localhost:8080/"
        },
        "id": "YqA-lygNS67Q",
        "outputId": "0104a084-8a5f-47a4-8c05-17b3ae525475"
      },
      "execution_count": 17,
      "outputs": [
        {
          "name": "stdout",
          "output_type": "stream",
          "text": [
            "1. add\n",
            "2. change\n",
            "3. delete\n",
            "4. view\n",
            "5. off\n",
            "Select a number : 1\n",
            "Enter the name that you want to add in list : wlsdnr\n",
            "wlsdnr has been appended\n",
            "\n",
            "\n",
            "1. add\n",
            "2. change\n",
            "3. delete\n",
            "4. view\n",
            "5. off\n",
            "Select a number : 1\n",
            "Enter the name that you want to add in list : qkrwlsdnr\n",
            "qkrwlsdnr has been appended\n",
            "\n",
            "\n",
            "1. add\n",
            "2. change\n",
            "3. delete\n",
            "4. view\n",
            "5. off\n",
            "Select a number : 4\n",
            "['wlsdnr', 'qkrwlsdnr']\n",
            "\n",
            "\n",
            "\n",
            "1. add\n",
            "2. change\n",
            "3. delete\n",
            "4. view\n",
            "5. off\n",
            "Select a number : 3\n",
            "Enter the index number that you want to delete : 0\n",
            "0 has been deleted\n",
            "\n",
            "\n",
            "1. add\n",
            "2. change\n",
            "3. delete\n",
            "4. view\n",
            "5. off\n",
            "Select a number : 4\n",
            "['qkrwlsdnr']\n",
            "\n",
            "\n",
            "\n",
            "1. add\n",
            "2. change\n",
            "3. delete\n",
            "4. view\n",
            "5. off\n",
            "Select a number : 5\n"
          ]
        }
      ]
    },
    {
      "cell_type": "code",
      "source": [
        "# GUI graphical user interface\n",
        "# makes the program easier to use.\n",
        "# It allows you, as the programmer, to create screens, text boxes and buttons to help the user\n",
        "# navigate through the program in a more user-friendly way\n",
        "# Tkinter is a library of features in Python that allows you to do this\n",
        "\n",
        "# Tkinter\n",
        "from tkinter import *\n",
        "\n",
        "def Call():\n",
        "  msg = Label(window, text = 'You pressed the button')\n",
        "  msg.place(x = 30, y = 50)\n",
        "  button['bg'] = 'blue'\n",
        "  button['fg'] = 'white'\n",
        "\n",
        "window = Tk()\n",
        "window.geometry('200x110')\n",
        "button = Button(text='Press me', command = call)\n",
        "button.placce(x = 30, y = 20, width = 120, height = 25)\n",
        "window.mainloop()\n",
        "\n",
        "# colab에서 실행 불가 로컬에서 실행"
      ],
      "metadata": {
        "id": "WM8-O4PQdUF8"
      },
      "execution_count": null,
      "outputs": []
    },
    {
      "cell_type": "code",
      "source": [
        "# - input and display data\n",
        "# - lists\n",
        "# - splitting and joining strings\n",
        "# - if statements\n",
        "# - loops (while and for)\n",
        "# - subprograms\n",
        "\n",
        "# Shift Code\n",
        "\n",
        "# A shift code is where a message can be easily encoded and is one of the simplest codes to use.\n",
        "# Each letter is moved forwards through the alphabet\n",
        "# a set number of letters to be represented by a new letter.\n",
        "# For instance, 'abc' becomes  'bcd' when the code is shiftedd by one.\n",
        "\n",
        "# 1) Make a code\n",
        "# 2) Decode a message\n",
        "# 3) Quit\n",
        "\n",
        "# Enter your selection :\n",
        "\n",
        "# Problems you will have to overcome...\n",
        "# 1) Decide if you want to allow both upper and lower case letters \n",
        "# or if you want to convert all the data into one case -> lower\n",
        "\n",
        "# 2) Decide if you are allowing punctuation."
      ],
      "metadata": {
        "colab": {
          "base_uri": "https://localhost:8080/"
        },
        "id": "Icq7b9VXoAmO",
        "outputId": "d8c63fa8-53de-4e43-e2e6-e4c464ddcd58"
      },
      "execution_count": 22,
      "outputs": [
        {
          "output_type": "stream",
          "name": "stdout",
          "text": [
            "\n"
          ]
        }
      ]
    },
    {
      "cell_type": "code",
      "source": [
        "def get_data():\n",
        "  word = input('Enter your message : ')\n",
        "  word = word.lower()\n",
        "  num = int(input('Enter a number (1-26) : '))\n",
        "  if num > 26 or num == 0:\n",
        "    while num > 26 or num == 0:\n",
        "      num = int(input('Enter a number (1-26) : '))\n",
        "  data = (word, num)\n",
        "  return data\n",
        "\n",
        "def make_code(word, num):  # abc  ,  2\n",
        "  new_word = ''\n",
        "  for x in word:\n",
        "    y = alphabet.index(x)\n",
        "    y = y + num\n",
        "    if y > 26:\n",
        "      y = y -27\n",
        "    char = alphabet[y]\n",
        "    new_word = new_word + char\n",
        "  print(new_word)\n",
        "  print()\n",
        "\n",
        "def decode(word, num):\n",
        "  new_word = ''\n",
        "  for x in word:\n",
        "    y = alphabet.index(x)\n",
        "    y = y - num\n",
        "    if y < 0:\n",
        "      y = y + 27\n",
        "    char = alphabet[y]\n",
        "    new_word = new_word + char\n",
        "  print(new_word)\n",
        "  print()\n",
        "\n",
        "\n",
        "\n",
        "def main():\n",
        "  again = True\n",
        "  while again == True:\n",
        "    print('1) Make a code : ')\n",
        "    print('2) Decode a message : ')\n",
        "    print('3) quit')\n",
        "    selection = int(input('Enter your selection : '))\n",
        "    if selection == 1:\n",
        "      (word, num) = get_data()\n",
        "      make_code(word, num)\n",
        "    elif selection == 2:\n",
        "      (word, num) = get_data()\n",
        "      decode(word, num)\n",
        "    elif selection == 3:\n",
        "      again = False\n",
        "    else:\n",
        "      print('Incorrect selection')\n",
        "\n",
        "alphabet = ['a','b','c','d','e','f','g','h','i','j','k','l','m','n','o','p','q','r','s','t','u','v','w','x','y','z',' ']\n",
        "\n",
        "main()"
      ],
      "metadata": {
        "colab": {
          "base_uri": "https://localhost:8080/"
        },
        "id": "9VJT0sbHrX2C",
        "outputId": "6097ad82-8f85-4a7c-a592-58fd040f75d2"
      },
      "execution_count": 29,
      "outputs": [
        {
          "name": "stdout",
          "output_type": "stream",
          "text": [
            "1) Make a code : \n",
            "2) Decode a message : \n",
            "3) quit\n",
            "Enter your selection : 1\n",
            "Enter your message : i love you\n",
            "Enter a number (1-26) : 2\n",
            "kbnqxgb qw\n",
            "\n",
            "1) Make a code : \n",
            "2) Decode a message : \n",
            "3) quit\n",
            "Enter your selection : 2\n",
            "Enter your message : kbnqxgb qw\n",
            "Enter a number (1-26) : 2\n",
            "i love you\n",
            "\n",
            "1) Make a code : \n",
            "2) Decode a message : \n",
            "3) quit\n",
            "Enter your selection : 3\n"
          ]
        }
      ]
    }
  ]
}