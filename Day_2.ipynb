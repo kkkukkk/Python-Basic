{
  "nbformat": 4,
  "nbformat_minor": 0,
  "metadata": {
    "colab": {
      "name": "Day 2.ipynb",
      "provenance": [],
      "collapsed_sections": [],
      "authorship_tag": "ABX9TyO+hYn0dnUef9G0BFUV7M7F",
      "include_colab_link": true
    },
    "kernelspec": {
      "name": "python3",
      "display_name": "Python 3"
    },
    "language_info": {
      "name": "python"
    }
  },
  "cells": [
    {
      "cell_type": "markdown",
      "metadata": {
        "id": "view-in-github",
        "colab_type": "text"
      },
      "source": [
        "<a href=\"https://colab.research.google.com/github/kkkukkk/ai/blob/main/Day_2.ipynb\" target=\"_parent\"><img src=\"https://colab.research.google.com/assets/colab-badge.svg\" alt=\"Open In Colab\"/></a>"
      ]
    },
    {
      "cell_type": "code",
      "execution_count": null,
      "metadata": {
        "id": "OsYKR0GMrzJl"
      },
      "outputs": [],
      "source": [
        "###################################\n",
        "# Review\n",
        "###################################\n",
        "\n",
        "# Comment        주석 - 코드에 대한 설명, 컴퓨터는 읽지 않고 사람만\n",
        "#                읽는 내용, 또 다른 용법으로는 코드를 임시로\n",
        "#                실행하지 않고 감추고 에러를 확인하는 용도로도 사용된다.\n",
        "#                본인이 기록한 내용을 나중에 확인할 때 또는 다른 팀원이\n",
        "#                작성한 내용을 파악하기 용이하게 만든다.\n",
        "\n",
        "# #을 사용하여 주석을 표시한다. ('ctrl + /')\n",
        "\n",
        "# doc string (주석의 용도로도 쓰이는...)\n",
        "'''\n",
        "작성일 : 2022/01/26\n",
        "담당자 : 박진욱\n",
        "비고: jin960828@naver.com\n",
        "'''\n",
        "\"\"\"\n",
        "작성일 : 2022/01/26\n",
        "담당자 : 박진욱\n",
        "비고: jin960828@naver.com\n",
        "\"\"\"\n",
        "# 코드의 위쪽 또는 오른쪽에 주석을 붙인다.\n",
        "print('Hello World')  # 코드의 우측 또는 코드의 윗줄에 적는다.\n"
      ]
    },
    {
      "cell_type": "code",
      "source": [
        "# 변수 Variable\n",
        "# 어떤 값을 저장하는 저장소 (a- 짜리 설명)\n",
        "a = 100\n",
        "print(a)\n",
        "\n",
        "stumath = 350\n",
        "stu_math_sum = 350 # 스네이크 케이스 (단어사이에 _ 를 넣어서 표현) snake_case\n",
        "StuMathSum = 350 # 캐멀 케이스 (첫 단어를 대문자로 표현) CamelCase"
      ],
      "metadata": {
        "id": "1hMWgM7PxAFf"
      },
      "execution_count": null,
      "outputs": []
    },
    {
      "cell_type": "code",
      "source": [
        "# 1a = 100 숫자가 먼저 올 수 없다.\n",
        "a1 = 100"
      ],
      "metadata": {
        "id": "MZHTqG0Xy5eb"
      },
      "execution_count": null,
      "outputs": []
    },
    {
      "cell_type": "code",
      "source": [
        "# _는 변수명으로 사용 가능\n",
        "# 이외 특수문자는 거의 불가능\n",
        "_a = 100\n",
        "print (_a)"
      ],
      "metadata": {
        "colab": {
          "base_uri": "https://localhost:8080/"
        },
        "id": "Z6kTazI3y9CS",
        "outputId": "0daaf072-3803-4ad3-c497-a80bcc0ce10b"
      },
      "execution_count": null,
      "outputs": [
        {
          "output_type": "stream",
          "name": "stdout",
          "text": [
            "100\n"
          ]
        }
      ]
    },
    {
      "cell_type": "code",
      "source": [
        "# 한글 변수명 사용 가능\n",
        "홍길동 = 55\n",
        "# 사용이 가능하지만 아예 쓰지 말자"
      ],
      "metadata": {
        "id": "8bU9p-0mzL_l"
      },
      "execution_count": null,
      "outputs": []
    },
    {
      "cell_type": "code",
      "source": [
        "# 인덱싱 (슬라이싱)\n",
        "\n",
        "s = 'world'\n",
        "print(s[2]) # 문자열 중 두번째 문자 출력 (파이썬은 인덱스 시작이 0)\n",
        "print(s[-1]) # -1은 문자열의 마지막 인덱스\n",
        "print(s[4])\n",
        "\n",
        "ss = '900101-2547389'\n",
        "print(ss[7])\n",
        "addr = '서울시 강남구 역삼동 1번지'\n",
        "print(addr[4:7]) # 컴퓨터는 빈칸도 인덱스로 (슬라이싱)"
      ],
      "metadata": {
        "colab": {
          "base_uri": "https://localhost:8080/"
        },
        "id": "hPznh5G7zmzl",
        "outputId": "2988a5e9-08bf-41fe-8cd1-55db0761a111"
      },
      "execution_count": null,
      "outputs": [
        {
          "output_type": "stream",
          "name": "stdout",
          "text": [
            "r\n",
            "d\n",
            "d\n",
            "2\n",
            "강남구\n"
          ]
        }
      ]
    },
    {
      "cell_type": "code",
      "source": [
        "when = '저녁'\n",
        "print('좋은 ',when,'입니다.')"
      ],
      "metadata": {
        "colab": {
          "base_uri": "https://localhost:8080/"
        },
        "id": "Jv-0FFhS1kpX",
        "outputId": "48e71d50-7e9b-4e72-c481-6dff8d1a7d0d"
      },
      "execution_count": null,
      "outputs": [
        {
          "output_type": "stream",
          "name": "stdout",
          "text": [
            "좋은  저녁 입니다.\n"
          ]
        }
      ]
    },
    {
      "cell_type": "code",
      "source": [
        "when = '저녁'\n",
        "print('좋은',when,'입니다.')\n",
        "\n",
        "print('좋은 %s입니다.' %when)\n",
        "print('좋은 {}입니다.' .format(when))\n",
        "\n",
        "print(f'좋은 {when}입니다.') # *****"
      ],
      "metadata": {
        "id": "UfbOd4qw18Vc",
        "colab": {
          "base_uri": "https://localhost:8080/"
        },
        "outputId": "0957ffd8-90c1-4f0b-802c-c800a06c3e0f"
      },
      "execution_count": 7,
      "outputs": [
        {
          "output_type": "stream",
          "name": "stdout",
          "text": [
            "좋은 저녁 입니다.\n",
            "좋은 저녁입니다.\n",
            "좋은 저녁입니다.\n",
            "좋은 저녁입니다.\n"
          ]
        }
      ]
    },
    {
      "cell_type": "code",
      "source": [
        "##############################################\n",
        "# 리스트 List 튜플 Tuple 딕셔너리 Dict 셋 Set\n",
        "##############################################\n",
        "# 여러개의 값을 한번에 저장하는 자료형이 필요하다.\n",
        "\n",
        "# 리스트 List\n",
        "# 지금까지 사용한 숫자 1, 문자 1 등 개별적, 독립적인 자료가 아닌\n",
        "# 리스트는 이러한 자료들 여러개를 모아서 사용할 수 있게 해준다.\n",
        "# 리스트에 넣는 자료를 요소(element)라고 한다.\n",
        "\n",
        "# 리스트는 []로 구성한다.\n",
        "list = [1,2,3,4,5]\n",
        "print(list)\n",
        "# 리스트는 다양한 자료형의 데이터를 한번에 담을 수 있다.\n",
        "# (but, 하나의 리스트에는 한가지 자료형만 저장하는 것이 오히려 바람직하다)\n",
        "list = [1,2,3,'대한','민국',True,False]\n",
        "print(list)\n",
        "score = [80,90,70,60]\n",
        "print(score)\n",
        "\n",
        "# 리스트는 인덱싱(indexint)과 슬라이싱(slicing)이 가능하다.\n",
        "print(score[0])   # 파이썬은 0부터 시작한다.\n",
        "print(score[0:2]) # 슬라이싱은 0부터 2미만...처럼 끝은 미만을 나타낸다.\n",
        "\n",
        "# 리스트는 수정/삭제 가 가능하다. (mutable) / 튜플은 불가능 (immutable)\n",
        "score[0] = 100\n",
        "print(score)\n",
        "score[-1] = 100\n",
        "print(score)\n",
        "# score[4] # indexerror 아주 많이 접하게 될 에러(예외)\n",
        "\n",
        "# 리스트는 연산이 가능하다.\n",
        "list_a = [1,2,3]\n",
        "list_b = [4,5,6]\n",
        "print('list_a = ', list_a)\n",
        "print('list_b = ', list_b)\n",
        "print(list_a+list_b)\n",
        "print(list_a*3)\n",
        "print(len(list_a))"
      ],
      "metadata": {
        "colab": {
          "base_uri": "https://localhost:8080/"
        },
        "id": "eEYiqQ5E9Vic",
        "outputId": "8e058bef-556f-4b58-a33c-f783e9825c5a"
      },
      "execution_count": 16,
      "outputs": [
        {
          "output_type": "stream",
          "name": "stdout",
          "text": [
            "[1, 2, 3, 4, 5]\n",
            "[1, 2, 3, '대한', '민국', True, False]\n",
            "[80, 90, 70, 60]\n",
            "80\n",
            "[80, 90]\n",
            "[100, 90, 70, 60]\n",
            "[100, 90, 70, 100]\n",
            "list_a =  [1, 2, 3]\n",
            "list_b =  [4, 5, 6]\n",
            "[1, 2, 3, 4, 5, 6]\n",
            "[1, 2, 3, 1, 2, 3, 1, 2, 3]\n",
            "3\n"
          ]
        }
      ]
    },
    {
      "cell_type": "code",
      "source": [
        "# 리스트에 자주 사용되는 함수들...\n",
        "\n",
        "# append() (*****) 리스트에 요소를 추가할 때 사용, 끝에만 추가\n",
        "print(score)\n",
        "score.append(60)\n",
        "print(score)\n",
        "score.append(70)\n",
        "print(score)"
      ],
      "metadata": {
        "colab": {
          "base_uri": "https://localhost:8080/"
        },
        "id": "5p55UwSHFXuy",
        "outputId": "1f38fd7a-df31-4427-af64-5fa2a91fb140"
      },
      "execution_count": 20,
      "outputs": [
        {
          "output_type": "stream",
          "name": "stdout",
          "text": [
            "[100, 90, 70, 100, 60, 60, 70]\n",
            "[100, 90, 70, 100, 60, 60, 70, 60]\n",
            "[100, 90, 70, 100, 60, 60, 70, 60, 70]\n"
          ]
        }
      ]
    },
    {
      "cell_type": "code",
      "source": [
        "# insert() 리스트에 요소를 추가할 때 사용, 특정 위치를 지정하여 추가\n",
        "\n",
        "list = []\n",
        "list.insert(0,10)\n",
        "print(list)\n",
        "\n",
        "list.insert(-1, 50)\n",
        "print(list)\n",
        "\n",
        "# append를 주로 사용한다."
      ],
      "metadata": {
        "colab": {
          "base_uri": "https://localhost:8080/"
        },
        "id": "tJTTDQKlJSku",
        "outputId": "bb371d72-3363-4739-b07e-e431038e5e1e"
      },
      "execution_count": 24,
      "outputs": [
        {
          "output_type": "stream",
          "name": "stdout",
          "text": [
            "[10]\n",
            "[50, 10]\n"
          ]
        }
      ]
    },
    {
      "cell_type": "code",
      "source": [
        "list_a = [1,2,3]\n",
        "list_a.extend([4,5,6]) # extend는 리스트에 여러개를 집어넣을 때 사용\n",
        "\n",
        "print(list_a) # 파괴적 처리"
      ],
      "metadata": {
        "colab": {
          "base_uri": "https://localhost:8080/"
        },
        "id": "WiZeg5GLKPtW",
        "outputId": "f24eb49f-9639-476d-987b-517ba170d82c"
      },
      "execution_count": 27,
      "outputs": [
        {
          "output_type": "stream",
          "name": "stdout",
          "text": [
            "[1, 2, 3, 4, 5, 6]\n"
          ]
        }
      ]
    },
    {
      "cell_type": "code",
      "source": [
        "list_a = [1,2,3]\n",
        "list_b = [4,5,6]\n",
        "print(list_a + list_b)\n",
        "print(list_a)\n",
        "\n",
        "# 덧셈은 결과가 서로 붙긴 하지만 extend 처럼 값이 저장되지 않음\n",
        "# 비파괴적 처리\n",
        "# 리스트 연결만으로는 list_a에 어떠한 영향도 주지 않는다. (비파괴적 처리)\n",
        "# 하지만 extend() 를 사용하면 list_a에 직접적으로 영향을 주게 된다.(파괴적 처리)\n",
        "\n",
        "# 원래 자료를 사용할 때는 비파괴적으로 사용하는 것이 바람직하다.\n",
        "# 가능하면 원본데이터는 그대로 유지하고 사용하는 것이 선택지가 더 넓다."
      ],
      "metadata": {
        "colab": {
          "base_uri": "https://localhost:8080/"
        },
        "id": "MDf9I_P0Kqar",
        "outputId": "c84dfdaf-295a-4301-836d-9d78f71eb578"
      },
      "execution_count": 31,
      "outputs": [
        {
          "output_type": "stream",
          "name": "stdout",
          "text": [
            "[1, 2, 3, 4, 5, 6]\n",
            "[1, 2, 3]\n"
          ]
        }
      ]
    },
    {
      "cell_type": "code",
      "source": [
        "# del() 리스트에서 데이터 삭제\n",
        "\n",
        "list_a = [0,1,2,3,4,5]\n",
        "del list_a[1] # index 값으로 위치값을 삭제\n",
        "list_a\n",
        "\n",
        "del list_a[1:3] # del은 범위 삭제가 가능, (1부터 3미만 즉 2까지 삭제)\n",
        "list_a\n",
        "\n",
        "del list_a[:] # 생략하면 처음부터 끝까지\n",
        "print(list_a)\n",
        "\n",
        "# list_a.clear() 리스트 요소를 전부 한번에 삭제"
      ],
      "metadata": {
        "colab": {
          "base_uri": "https://localhost:8080/"
        },
        "id": "wws_EHA8MYKK",
        "outputId": "c19dffb3-b41e-4078-92be-eeb82b7086dc"
      },
      "execution_count": 33,
      "outputs": [
        {
          "output_type": "execute_result",
          "data": {
            "text/plain": [
              "[0, 2, 3, 4, 5]"
            ]
          },
          "metadata": {},
          "execution_count": 33
        }
      ]
    },
    {
      "cell_type": "code",
      "source": [
        "# pop() 리스트에서 마지막 위치 데이터 삭제\n",
        "list_a.pop()\n",
        "list_a"
      ],
      "metadata": {
        "colab": {
          "base_uri": "https://localhost:8080/"
        },
        "id": "afPG5MEYNDXb",
        "outputId": "c19cf965-2a15-4fd1-ff38-3a195177295f"
      },
      "execution_count": 36,
      "outputs": [
        {
          "output_type": "execute_result",
          "data": {
            "text/plain": [
              "[0, 2]"
            ]
          },
          "metadata": {},
          "execution_count": 36
        }
      ]
    },
    {
      "cell_type": "code",
      "source": [
        "list_a = [0,1,2,3,4,5]\n",
        "list_a.pop(1) # 특정 위치 데이터도 삭제가 가능하지만 마지막 데이터 삭제용으로 주로 사용\n",
        "list_a"
      ],
      "metadata": {
        "colab": {
          "base_uri": "https://localhost:8080/"
        },
        "id": "GxYFX0xXNbpU",
        "outputId": "d72c76a4-b714-4604-81b7-2f3c837f9369"
      },
      "execution_count": 39,
      "outputs": [
        {
          "output_type": "execute_result",
          "data": {
            "text/plain": [
              "[0, 2, 3, 4, 5]"
            ]
          },
          "metadata": {},
          "execution_count": 39
        }
      ]
    },
    {
      "cell_type": "code",
      "source": [
        "# remove 특정 값으로 삭제\n",
        "\n",
        "list_c = [1,2,1,2]\n",
        "                 # remove 는 요소의 값을 찾아 삭제한다. \n",
        "                 # 동일한 값이 여러개 있을때는 하나씩 순차적으로 삭제한다. \n",
        "                 # 리스트에서 중복된 여러개의 값을 제거하려면 반복문을 사용한다.\n",
        "list_c.remove(2)\n",
        "print (list_c)\n",
        "\n",
        "list_c.remove(2)\n",
        "print(list_c)"
      ],
      "metadata": {
        "colab": {
          "base_uri": "https://localhost:8080/"
        },
        "id": "TRZJA_PiPfOs",
        "outputId": "2bfc80c4-862b-479d-9e4f-cd286b49b360"
      },
      "execution_count": 45,
      "outputs": [
        {
          "output_type": "stream",
          "name": "stdout",
          "text": [
            "[1, 1, 2]\n",
            "[1, 1]\n"
          ]
        }
      ]
    },
    {
      "cell_type": "code",
      "source": [
        "list = [1,2,3,4,5]\n",
        "print(list[0]) # indexing 비파괴적으로 동작한다.\n",
        "print(list)\n",
        "\n",
        "print(list.pop()) # pop은 파괴적으로 동작한다.\n",
        "print(list)"
      ],
      "metadata": {
        "colab": {
          "base_uri": "https://localhost:8080/"
        },
        "id": "SeL-XfK9P_uB",
        "outputId": "aeb5f644-9c84-4fed-ad42-bb9b944c34d5"
      },
      "execution_count": 46,
      "outputs": [
        {
          "output_type": "stream",
          "name": "stdout",
          "text": [
            "1\n",
            "[1, 2, 3, 4, 5]\n",
            "5\n",
            "[1, 2, 3, 4]\n"
          ]
        }
      ]
    },
    {
      "cell_type": "code",
      "source": [
        "# in / not in 리스트에 존재하는 요소인지를 확인\n",
        "\n",
        "list = [222,434,65,123,547,876]\n",
        "print(222 in list) # in 리스트에 존재하는지 (있으면 True, 없으면 False)\n",
        "print(221 in list)\n",
        "print(221 not in list) # not in 리스트에 존재하지 않는지 (있으면 False, 없으면 True)\n"
      ],
      "metadata": {
        "colab": {
          "base_uri": "https://localhost:8080/"
        },
        "id": "kA88NXQAQWPy",
        "outputId": "891923a0-028f-4386-f3a9-da51818ba269"
      },
      "execution_count": 52,
      "outputs": [
        {
          "output_type": "stream",
          "name": "stdout",
          "text": [
            "True\n",
            "False\n",
            "True\n"
          ]
        }
      ]
    },
    {
      "cell_type": "code",
      "source": [
        "# 딕셔너리"
      ],
      "metadata": {
        "id": "AIxzzDAaRkkr"
      },
      "execution_count": null,
      "outputs": []
    }
  ]
}