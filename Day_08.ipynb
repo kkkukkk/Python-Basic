{
  "nbformat": 4,
  "nbformat_minor": 0,
  "metadata": {
    "colab": {
      "name": "Day 8.ipynb",
      "provenance": [],
      "collapsed_sections": [],
      "authorship_tag": "ABX9TyN6K48Au37D2gXcUje8aVvM",
      "include_colab_link": true
    },
    "kernelspec": {
      "name": "python3",
      "display_name": "Python 3"
    },
    "language_info": {
      "name": "python"
    }
  },
  "cells": [
    {
      "cell_type": "markdown",
      "metadata": {
        "id": "view-in-github",
        "colab_type": "text"
      },
      "source": [
        "<a href=\"https://colab.research.google.com/github/kkkukkk/ai/blob/main/Day_8.ipynb\" target=\"_parent\"><img src=\"https://colab.research.google.com/assets/colab-badge.svg\" alt=\"Open In Colab\"/></a>"
      ]
    },
    {
      "cell_type": "code",
      "execution_count": 4,
      "metadata": {
        "id": "--WhWbZM7dB_",
        "colab": {
          "base_uri": "https://localhost:8080/"
        },
        "outputId": "d3d461a9-1b0f-4283-f4ef-ba48190d8c04"
      },
      "outputs": [
        {
          "output_type": "stream",
          "name": "stdout",
          "text": [
            "이름\t\t총점\t\t평균\n",
            "슈가\t\t368\t\t92.0\n",
            "진\t\t372\t\t93.0\n",
            "카리\t\t386\t\t96.5\n"
          ]
        }
      ],
      "source": [
        "# 클래스와 객체\n",
        "\n",
        "# C언어를 제외한 대부분의 언어는 객체 지향 프로그래밍 언어이다. (Object Oriented Programming : OOP언어)\n",
        "# 객체 지향 언어는 클래스를 기반으로 객체를 만들고 그 객체들을 우선으로 생각해서 프로그래밍 하는 것을 철학으로 한다.\n",
        "\n",
        "# 객체\n",
        "\n",
        "# 세 학생의 정보를 리스트 안에 딕셔너리 형태로\n",
        "students = [\n",
        "            {'name' : '슈가', 'korean':87, 'math':98, 'eng':88, 'sci':95},\n",
        "            {'name' : '진', 'korean':90, 'math':99, 'eng':86, 'sci':97},\n",
        "            {'name' : '카리', 'korean':99, 'math':89, 'eng':99, 'sci':99}                        \n",
        "]\n",
        "\n",
        "print('이름','총점','평균', sep='\\t\\t')\n",
        "for student in students:\n",
        "  # 학생들의 점수의 총합과 평균을 구하다\n",
        "  score_sum = student['korean'] + student['math'] + student['eng'] + student['sci']\n",
        "  score_avg = score_sum / 4\n",
        "\n",
        "  print(student['name'], score_sum, score_avg, sep='\\t\\t')\n",
        "\n",
        "# 딕셔너리로 학생 한명한명을 표현하고 이를 리스트로 묶어서 학생 전체를 표현했다.\n",
        "# 여러가지 속성을 가질 수 있는 대상을 '객체' object 라고 부른다.\n",
        "# 그런데 딕셔너리로 객체를 하나하나 만들면 복잡하고 귀찮다.\n",
        "# 키를 모르면 사용하기도 어렵다.\n"
      ]
    },
    {
      "cell_type": "code",
      "source": [
        "# 함수 형태로 변형해보자\n",
        "# 딕셔너리로 리턴하는 함수\n",
        "\n",
        "def create_student(name, korean, math, eng, sci):\n",
        "  return {\n",
        "      'name':name,\n",
        "      'korean':korean,\n",
        "      'math':math,\n",
        "      'eng':eng,\n",
        "      'sci':sci\n",
        "  }\n",
        "\n",
        "\n",
        "# 학생들 리스트\n",
        "students = [\n",
        "            create_student('슈가', 87, 98, 88, 95),\n",
        "            create_student('진', 90, 99, 86, 97),\n",
        "            create_student('카리', 99, 89, 99, 99)\n",
        "]\n",
        "\n",
        "# 한명씩 반복\n",
        "\n",
        "\n",
        "print('이름','총점','평균', sep='\\t\\t')\n",
        "for student in students:\n",
        "  # 학생들의 점수의 총합과 평균을 구하다\n",
        "  score_sum = student['korean'] + student['math'] + student['eng'] + student['sci']\n",
        "  score_avg = score_sum / 4\n",
        "  \n",
        "  print(student['name'], score_sum, score_avg, sep='\\t\\t')"
      ],
      "metadata": {
        "colab": {
          "base_uri": "https://localhost:8080/"
        },
        "id": "It-XPH5bFmNO",
        "outputId": "e6ae5ccb-0cdc-4517-abeb-e32c0b7daf84"
      },
      "execution_count": 9,
      "outputs": [
        {
          "output_type": "stream",
          "name": "stdout",
          "text": [
            "이름\t\t총점\t\t평균\n",
            "슈가\t\t368\t\t92.0\n",
            "진\t\t372\t\t93.0\n",
            "카리\t\t386\t\t96.5\n"
          ]
        }
      ]
    },
    {
      "cell_type": "code",
      "source": [
        "# 실행 결과는 이전과 동일하다. 조금 더 변형해보자.\n",
        "# 현재 총점과 평균을 구하는 처리는 학생을 대상으로만 이루어진다.\n",
        "# 따라서 학생을 매개변수로 받는 형태의 함수로 만들면\n",
        "# 코드가 좀 더 균형잡히게 된다.\n",
        "\n",
        "# 딕셔너리로 리턴하는 함수\n",
        "def create_student(name, korean, math, eng, sci):\n",
        "  return {\n",
        "      'name':name,\n",
        "      'korean':korean,\n",
        "      'math':math,\n",
        "      'eng':eng,\n",
        "      'sci':sci\n",
        "  }\n",
        "\n",
        "# 학생들의 점수를 처리하는 부분들도 함수로 만들자.\n",
        "\n",
        "def student_get_sum(student):\n",
        "  return student['korean'] + student['math'] + student['eng'] + student['sci']\n",
        "\n",
        "def student_get_avg(student):\n",
        "  return student_get_sum(student) / 4\n",
        "\n",
        "def student_to_string(student):\n",
        "  return '{}\\t\\t{}\\t\\t{}'.format(student['name'], student_get_sum(student), student_get_avg(student))\n",
        "\n",
        "# 학생 리스트 선언\n",
        "students = [\n",
        "            create_student('슈가', 87, 98, 88, 95),\n",
        "            create_student('진', 90, 99, 86, 97),\n",
        "            create_student('카리', 99, 89, 99, 99)\n",
        "]\n",
        "\n",
        "print('이름','총점','평균', sep='\\t\\t')\n",
        "for student in students:\n",
        "  print(student_to_string(student))\n",
        "\n",
        "\n",
        "# 실행 결과가 이전과 같지만 코드가 분리되고 있다.\n",
        "# 학생이라는 객체와 관련된 기능이 위로 올라갔고\n",
        "# 이 객체들을 사용하는 처리들은 아래로 내려갔다.\n",
        "# 이렇게 하면 '학생 객체와 관련된 기능'을\n",
        "# 별도의 모듈로 빼서 관리할 수도 있다.\n",
        "\n",
        "# 객체와 관련된 코드를 분리할수 있게 하는 것이 객체 지향 프로그래밍의 핵심이다.\n",
        "# 클래스라는 구조를 사용하면 위와 같은 형태의 코드를 좀 더 쉽고 편하게 구현할 수 있다."
      ],
      "metadata": {
        "colab": {
          "base_uri": "https://localhost:8080/"
        },
        "id": "IN-sP_sMHMfl",
        "outputId": "9144b708-846a-43da-d21e-f7432703fca6"
      },
      "execution_count": 15,
      "outputs": [
        {
          "output_type": "stream",
          "name": "stdout",
          "text": [
            "이름\t\t총점\t\t평균\n",
            "슈가\t\t368\t\t92.0\n",
            "진\t\t372\t\t93.0\n",
            "카리\t\t386\t\t96.5\n"
          ]
        }
      ]
    },
    {
      "cell_type": "code",
      "source": [
        "# 클래스 선언\n",
        "\n",
        "class Student:\n",
        "  # 생성자 constructor, 던더, 더블언더바, 더언더\n",
        "  def __init__(self, name, korean, math, eng, sci):\n",
        "    self.name = name\n",
        "    self.korean = korean\n",
        "    self.math = math\n",
        "    self.eng = eng\n",
        "    self.sci = sci\n",
        "\n",
        "  def get_sum(self):\n",
        "    return self.korean + self.math + self.eng + self.sci \n",
        "\n",
        "  def get_avg(self):\n",
        "    return self.get_sum() / 4\n",
        "\n",
        "  def to_string(self):\n",
        "    return '{}\\t\\t{}\\t\\t{}'.format(self.name, self.get_sum(), self.get_avg())\n",
        "\n",
        "\n",
        "# 학생 리스트\n",
        "students = [\n",
        "            Student('슈가', 87, 98, 88, 95),\n",
        "            Student('진', 90, 99, 86, 97),\n",
        "            Student('카리', 99, 89, 99, 99)\n",
        "]\n",
        "\n",
        "print('이름','총점','평균', sep='\\t\\t')\n",
        "for student in students:\n",
        "  print(student.to_string())\n",
        "\n",
        "# 어떤 객체가 지니고 있는 함수(기능)를 명확하게 이해할 수 있으므로 편리하다."
      ],
      "metadata": {
        "colab": {
          "base_uri": "https://localhost:8080/"
        },
        "id": "DPnli9JSKRuR",
        "outputId": "05b719fe-2f5c-4e77-b49b-a11954924eb0"
      },
      "execution_count": 19,
      "outputs": [
        {
          "output_type": "stream",
          "name": "stdout",
          "text": [
            "이름\t\t총점\t\t평균\n",
            "슈가\t\t368\t\t92.0\n",
            "진\t\t372\t\t93.0\n",
            "카리\t\t386\t\t96.5\n"
          ]
        }
      ]
    },
    {
      "cell_type": "code",
      "source": [
        "# 매서드 method\n",
        "# 클래스 안의 함수를 매서드라고 만든다.\n",
        "# 매서드는 첫번째 매개변수로 self를 넣어야 한다.\n",
        "\n",
        "class Student:\n",
        "  # 생성자 constructor, 던더, 더블언더바, 더언더\n",
        "  def __init__(self, name, korean, math, eng, sci):\n",
        "    self.name = name\n",
        "    self.kroean = korean\n",
        "    self.math = math\n",
        "    self.eng = eng\n",
        "    self.sci = sci\n",
        "\n",
        "# 학생 리스트\n",
        "students = [\n",
        "            Student('슈가', 87, 98, 88, 95),\n",
        "            Student('진', 90, 99, 86, 97),\n",
        "            Student('카리', 99, 89, 99, 99)\n",
        "]"
      ],
      "metadata": {
        "id": "Bdyw4U8IOMG_"
      },
      "execution_count": null,
      "outputs": []
    },
    {
      "cell_type": "code",
      "source": [
        "result1 = 0\n",
        "result2 = 0\n",
        "\n",
        "# 입력받은 값을 이전에 계산한 값에 더한 후 돌려주는 함수 정의\n",
        "def add1(num):\n",
        "  global result1\n",
        "  result1 += num\n",
        "  return result1\n",
        "\n",
        "def add2(num):\n",
        "  global result2\n",
        "  result2 += num\n",
        "  return result2\n",
        "\n",
        "\n",
        "\n",
        "print(add1(3))\n",
        "print(add1(5))\n",
        "print(add2(2))\n",
        "print(add2(4))\n",
        "# 값이 섞이지 않고 따로 유지가 된다.\n",
        "\n"
      ],
      "metadata": {
        "colab": {
          "base_uri": "https://localhost:8080/"
        },
        "id": "HG_p2qvCSVsu",
        "outputId": "e4128dcd-170e-4aa1-ddb4-21141e0edea1"
      },
      "execution_count": 22,
      "outputs": [
        {
          "output_type": "stream",
          "name": "stdout",
          "text": [
            "3\n",
            "8\n",
            "2\n",
            "6\n"
          ]
        }
      ]
    },
    {
      "cell_type": "code",
      "source": [
        "class Cal:\n",
        "  # 생성자\n",
        "  def __init__(self):\n",
        "    self.result = 0\n",
        "\n",
        "  def add(self,num):\n",
        "    self.result += num\n",
        "    return self.result\n",
        "\n",
        "  def sub(self,num):\n",
        "    self.result -= num\n",
        "    return self.result\n",
        "\n",
        "cal1 = Cal()\n",
        "cal2 = Cal()\n",
        "\n",
        "print(cal1.add(3))\n",
        "print(cal1.add(4))\n",
        "\n",
        "print(cal2.add(5))\n",
        "print(cal2.add(6))"
      ],
      "metadata": {
        "colab": {
          "base_uri": "https://localhost:8080/"
        },
        "id": "yGBUBI0YT7w2",
        "outputId": "0d3497e2-f412-4745-c56a-9b06b4d7a201"
      },
      "execution_count": 27,
      "outputs": [
        {
          "output_type": "stream",
          "name": "stdout",
          "text": [
            "3\n",
            "7\n",
            "5\n",
            "11\n"
          ]
        }
      ]
    },
    {
      "cell_type": "code",
      "source": [
        "class FourCal:\n",
        "  def setdata(self, first, second):\n",
        "    self.first  = first\n",
        "    self.second = second\n",
        "\n",
        "# self는 들어온 매개변수를 받아 객체별로 구분하기 위해\n",
        "\n",
        "  def add(self):\n",
        "    result = self.first + self.second\n",
        "    return result\n",
        "\n",
        "  def sub(self):\n",
        "    result = self.first - self.second\n",
        "    return result\n",
        "\n",
        "  def mul(self):\n",
        "    result = self.first * self.second\n",
        "    return result\n",
        "\n",
        "  def div(self):\n",
        "    result = self.first / self.second\n",
        "    return result\n",
        "\n",
        "\n",
        "\n",
        "a = FourCal()\n",
        "a.setdata(4, 2)  # 초기값이 있어야 다른 매서드를 사용할 수 있는 경우\n",
        "\n",
        "print(a.add(), a.sub(), a.mul(), a.div())"
      ],
      "metadata": {
        "colab": {
          "base_uri": "https://localhost:8080/"
        },
        "id": "NxiJzPS1WLyE",
        "outputId": "a732ad73-d7b9-4b75-9ef5-5942459f526e"
      },
      "execution_count": 36,
      "outputs": [
        {
          "output_type": "stream",
          "name": "stdout",
          "text": [
            "6 2 8 2.0\n"
          ]
        }
      ]
    },
    {
      "cell_type": "code",
      "source": [
        "# 생성자 consturctor 객체가 생성될 떄 자동으로 호출되는 메서드를 의미한다.\n",
        "\n",
        "class FourCal:\n",
        "  # 생성자\n",
        "  def __init__(self,first,second):\n",
        "    self.first  = first\n",
        "    self.second = second\n",
        "\n",
        "  # def setdata(self,first,second):\n",
        "  #   self.first  = first\n",
        "  #   self.second = second\n",
        "\n",
        "  def add(self):\n",
        "    result = self.first + self.second\n",
        "    return result\n",
        "\n",
        "  def sub(self):\n",
        "    result = self.first - self.second\n",
        "    return result\n",
        "\n",
        "  def mul(self):\n",
        "    result = self.first * self.second\n",
        "    return result\n",
        "\n",
        "  def div(self):\n",
        "    result = self.first / self.second\n",
        "    return result\n",
        "\n",
        "# 위와 다르게 따로 호출을 하지 않아도 객체를 생성한다.\n",
        "a = FourCal(4,2)\n",
        "# a.setdata(4,2)\n",
        "\n",
        "\n",
        "print(a.add(), a.sub(), a.mul(), a.div())"
      ],
      "metadata": {
        "colab": {
          "base_uri": "https://localhost:8080/"
        },
        "id": "MhcldhcadABf",
        "outputId": "e4719ea5-28bd-437a-fe8b-c087d186ed29"
      },
      "execution_count": 37,
      "outputs": [
        {
          "output_type": "stream",
          "name": "stdout",
          "text": [
            "6 2 8 2.0\n"
          ]
        }
      ]
    },
    {
      "cell_type": "code",
      "source": [
        "# 상속 Inheritance\n",
        "# 어떤 클래스를 만들 때 다른 클래스의 기능을 물려받아 사용한다.\n",
        "\n",
        "class MoreFourCal(FourCal):\n",
        "  pass\n",
        "\n",
        "a = MoreFourCal(4,2)\n",
        "\n",
        "a.add()\n",
        "\n"
      ],
      "metadata": {
        "colab": {
          "base_uri": "https://localhost:8080/"
        },
        "id": "qIR4ENXxe0dx",
        "outputId": "3ef0b4e1-c318-4155-9025-4b97e56a1841"
      },
      "execution_count": 39,
      "outputs": [
        {
          "output_type": "execute_result",
          "data": {
            "text/plain": [
              "6"
            ]
          },
          "metadata": {},
          "execution_count": 39
        }
      ]
    },
    {
      "cell_type": "code",
      "source": [
        "# 클래스를 상속받아 기능을 추가할 수도 있다.\n",
        "\n",
        "class MoreFourCal(FourCal):\n",
        "  def pow(self):\n",
        "    result = self.first ** self.first\n",
        "    return result\n",
        "\n",
        "a = MoreFourCal(4,2)\n",
        "\n",
        "a.add()\n"
      ],
      "metadata": {
        "id": "G4dcM4KsgNsQ"
      },
      "execution_count": null,
      "outputs": []
    },
    {
      "cell_type": "code",
      "source": [
        "# 매서드 오버라이딩 method overriding\n",
        "# 덮어쓰기\n",
        "# 부모클래스의 메서드를 수정할 때\n",
        "# 부모클래스에 자식클래스와 동일한 메서드가 있어야함\n",
        "# 자식클래스 메서드가 실행됨\n",
        "\n",
        "class SafeFourCal(FourCal):\n",
        "  def div(self):\n",
        "    if self.second == 0:\n",
        "      return 0\n",
        "    else:\n",
        "      return self.first / self.second\n",
        "\n",
        "a = SafeFourCal(4,0)\n",
        "a.div()"
      ],
      "metadata": {
        "colab": {
          "base_uri": "https://localhost:8080/"
        },
        "id": "aUidwi08gmou",
        "outputId": "4edecddf-0554-499c-b558-d6d07bc5cda5"
      },
      "execution_count": 41,
      "outputs": [
        {
          "output_type": "execute_result",
          "data": {
            "text/plain": [
              "0"
            ]
          },
          "metadata": {},
          "execution_count": 41
        }
      ]
    },
    {
      "cell_type": "code",
      "source": [
        "# 클래스 변수\n",
        "# 객체들이 동일한 값을 서로 공유할 수 있는 것\n",
        "# 그러나 객체지향의 장점이 사라짐\n",
        "\n",
        "# 객체변수는 다른 객체들에 영향받지 않고 독립적으로 그 값을 유지한다\n",
        "\n",
        "class Family:\n",
        "  lastname = '김' # 클래스 변수 선언\n",
        "\n",
        "Family.lastname\n",
        "\n",
        "a = Family()\n",
        "b = Family()\n",
        "\n",
        "print(a.lastname)\n",
        "print(b.lastname)\n",
        "\n",
        "# 클래스 변수를 선언 할 경우 객체가 값을 공유해버림\n",
        "Family.lastname = '박'\n",
        "\n",
        "print(a.lastname)\n",
        "print(b.lastname)\n"
      ],
      "metadata": {
        "colab": {
          "base_uri": "https://localhost:8080/"
        },
        "id": "9fl8L7QYh_v6",
        "outputId": "27da9b50-a685-4cde-d4b1-058de1f8c32b"
      },
      "execution_count": 44,
      "outputs": [
        {
          "output_type": "stream",
          "name": "stdout",
          "text": [
            "김\n",
            "김\n",
            "박\n",
            "박\n"
          ]
        }
      ]
    },
    {
      "cell_type": "code",
      "source": [
        "class Calculator:\n",
        "    def __init__(self):\n",
        "        self.value = 0\n",
        "\n",
        "    def add(self, val):\n",
        "        self.value += val\n",
        "\n",
        "class UpgradeCalculator(Calculator):\n",
        "  def minus(self,val):\n",
        "    self.value -= val\n",
        "\n",
        "cal = UpgradeCalculator()\n",
        "cal.add(10)\n",
        "cal.minus(7)\n",
        "\n",
        "print(cal.value)"
      ],
      "metadata": {
        "colab": {
          "base_uri": "https://localhost:8080/"
        },
        "id": "jwFQFGnikEk2",
        "outputId": "30e8b451-1f97-4a94-8692-b291b716ba1d"
      },
      "execution_count": 46,
      "outputs": [
        {
          "output_type": "stream",
          "name": "stdout",
          "text": [
            "3\n"
          ]
        }
      ]
    }
  ]
}
