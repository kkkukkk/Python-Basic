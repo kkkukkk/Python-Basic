{
  "nbformat": 4,
  "nbformat_minor": 0,
  "metadata": {
    "colab": {
      "name": "Day 12.ipynb",
      "provenance": [],
      "collapsed_sections": [],
      "authorship_tag": "ABX9TyNNw0eVvlBB8M+BeKjTPDm/",
      "include_colab_link": true
    },
    "kernelspec": {
      "name": "python3",
      "display_name": "Python 3"
    },
    "language_info": {
      "name": "python"
    }
  },
  "cells": [
    {
      "cell_type": "markdown",
      "metadata": {
        "id": "view-in-github",
        "colab_type": "text"
      },
      "source": [
        "<a href=\"https://colab.research.google.com/github/kkkukkk/ai/blob/main/Day_12.ipynb\" target=\"_parent\"><img src=\"https://colab.research.google.com/assets/colab-badge.svg\" alt=\"Open In Colab\"/></a>"
      ]
    },
    {
      "cell_type": "code",
      "execution_count": 1,
      "metadata": {
        "colab": {
          "base_uri": "https://localhost:8080/"
        },
        "id": "ZkIJ2_ID6Rfv",
        "outputId": "50f8a14f-0791-4d13-c029-236c7363d289"
      },
      "outputs": [
        {
          "output_type": "stream",
          "name": "stdout",
          "text": [
            "3.14\n"
          ]
        }
      ],
      "source": [
        "# Maths\n",
        "\n",
        "num = 3.141592\n",
        "print(round(num,2)) # Display a number rounded to two decimal places."
      ]
    },
    {
      "cell_type": "code",
      "source": [
        "10 ** 2\n",
        "# To the power of ..."
      ],
      "metadata": {
        "colab": {
          "base_uri": "https://localhost:8080/"
        },
        "id": "qQM0cMBE7H4n",
        "outputId": "26f8c494-f555-4832-ac56-59af6bec08e9"
      },
      "execution_count": 2,
      "outputs": [
        {
          "output_type": "execute_result",
          "data": {
            "text/plain": [
              "100"
            ]
          },
          "metadata": {},
          "execution_count": 2
        }
      ]
    },
    {
      "cell_type": "code",
      "source": [
        "import math\n",
        "\n",
        "math.sqrt(100)\n",
        "\n",
        "# The square root of a number but you must have the line 'import math'\n",
        "# at  the top of your program for this to work."
      ],
      "metadata": {
        "colab": {
          "base_uri": "https://localhost:8080/"
        },
        "id": "bRAlHNVG7OJ9",
        "outputId": "58f15b86-a5c0-4614-dd1a-788f27fcc1a4"
      },
      "execution_count": 4,
      "outputs": [
        {
          "output_type": "execute_result",
          "data": {
            "text/plain": [
              "10.0"
            ]
          },
          "metadata": {},
          "execution_count": 4
        }
      ]
    },
    {
      "cell_type": "code",
      "source": [
        "math.pi\n",
        "\n",
        "# Gives you pi to decimal places, but you must have the line 'import math'"
      ],
      "metadata": {
        "colab": {
          "base_uri": "https://localhost:8080/"
        },
        "id": "11Mmbx0Q7iBt",
        "outputId": "3ba73404-6e75-4a24-dec5-56e1869241f4"
      },
      "execution_count": 5,
      "outputs": [
        {
          "output_type": "execute_result",
          "data": {
            "text/plain": [
              "3.141592653589793"
            ]
          },
          "metadata": {},
          "execution_count": 5
        }
      ]
    },
    {
      "cell_type": "code",
      "source": [
        "15 // 2\n",
        "\n",
        "# Whole number division"
      ],
      "metadata": {
        "id": "w-4Dk_Rd7_ky"
      },
      "execution_count": null,
      "outputs": []
    },
    {
      "cell_type": "code",
      "source": [
        "15 % 2\n",
        "# Fines the remainder"
      ],
      "metadata": {
        "colab": {
          "base_uri": "https://localhost:8080/"
        },
        "id": "SHu6jVUK8V7Q",
        "outputId": "83d59400-7738-4669-a86c-ad0df96b32f9"
      },
      "execution_count": 7,
      "outputs": [
        {
          "output_type": "execute_result",
          "data": {
            "text/plain": [
              "1"
            ]
          },
          "metadata": {},
          "execution_count": 7
        }
      ]
    },
    {
      "cell_type": "code",
      "source": [
        "# Ask the user to enter an integer that is over 500. Work out the square root of\n",
        "# that number and display it to two decimal places\n",
        "import math\n",
        "\n",
        "num = int(input('Enter an integer over 500 : '))\n",
        "print(round(math.sqrt(num),2))"
      ],
      "metadata": {
        "colab": {
          "base_uri": "https://localhost:8080/"
        },
        "id": "Jvf_cXaj8bUJ",
        "outputId": "157fd6bb-ba8e-47b0-bd11-a5af09f9fb29"
      },
      "execution_count": 10,
      "outputs": [
        {
          "output_type": "stream",
          "name": "stdout",
          "text": [
            "Enter an integer over 500512\n",
            "22.63\n"
          ]
        }
      ]
    },
    {
      "cell_type": "code",
      "source": [
        "# Ask the user to enter the radius of a circle.\n",
        "# Work out the area of the circle\n",
        "import math\n",
        "\n",
        "num = int(input('Enter the radius of a circle : '))\n",
        "ans = math.pi * num ** 2\n",
        "print(ans)"
      ],
      "metadata": {
        "colab": {
          "base_uri": "https://localhost:8080/"
        },
        "id": "kwur6tlB-JKa",
        "outputId": "dcf1f703-f8df-4fbe-ef96-e19d8cfe91b6"
      },
      "execution_count": 11,
      "outputs": [
        {
          "output_type": "stream",
          "name": "stdout",
          "text": [
            "Enter the radius of a circle : 9\n",
            "254.46900494077323\n"
          ]
        }
      ]
    },
    {
      "cell_type": "code",
      "source": [
        "# Ask the user to enter two numbers. Use whole number division to divide\n",
        "# the first number by the second and also work out the remainder and thisplay the answer\n",
        "# display the answer in a user-friendly way... if they enter 7 and 2\n",
        "# '7 divided by 2 is 3 with 1 remaining\n",
        "\n",
        "num1 = int(input('Enter a first number : '))\n",
        "num2 = int(input('Enter a second number : '))\n",
        "\n",
        "ans1 = num1 // num2\n",
        "ans2 = num1 % num2\n",
        "\n",
        "print(f'{num1} devided by {num2} is {ans1} with {ans2} remaining')"
      ],
      "metadata": {
        "colab": {
          "base_uri": "https://localhost:8080/"
        },
        "id": "T2XH8RuN-7QC",
        "outputId": "2c8f4b2a-ae39-4dda-bca2-617ae0a6b583"
      },
      "execution_count": 12,
      "outputs": [
        {
          "output_type": "stream",
          "name": "stdout",
          "text": [
            "Enter the number : 7\n",
            "Enter the number : 2\n",
            "7 devided by 2 is 3 with 1 remaining\n"
          ]
        }
      ]
    },
    {
      "cell_type": "code",
      "source": [
        "# Display the following message:\n",
        "          # 1) Square\n",
        "          # 2) Triangle\n",
        "          \n",
        "          # Enter a number :\n",
        "\n",
        "# if the user enters 1, then it should ask them for the length of one of its\n",
        "# sides and display the area.\n",
        "# if they select 2, it should be ask for the base and height of the triangle\n",
        "# and display the area.\n",
        "# If they type in anything else, it should give them a suitable error message\n",
        "\n",
        "num = int(input(f'\\t1) Square\\n\\t2) Triangle\\n\\n\\tEnter a number : '))\n",
        "\n",
        "if num == 1:\n",
        "  rec = int(input('Enter the length of side : '))\n",
        "  print(rec**2)\n",
        "elif num == 2:\n",
        "  base = int(input('Enter the base of triangle '))\n",
        "  height = int(input('Enter the height of triangle '))\n",
        "  print(1/2*base*height)\n",
        "else:\n",
        "  print('You should enter 1 or 2')"
      ],
      "metadata": {
        "colab": {
          "base_uri": "https://localhost:8080/"
        },
        "id": "S4ykvFxK_24h",
        "outputId": "73a14843-24a5-4181-ec30-5ad7656fe527"
      },
      "execution_count": 14,
      "outputs": [
        {
          "output_type": "stream",
          "name": "stdout",
          "text": [
            "\t1) Square\n",
            "\t2) Triangle\n",
            "\n",
            "\tEnter a number : 2\n",
            "Enter the base of triangle 4\n",
            "Enter the height of triangle 5\n",
            "10.0\n"
          ]
        }
      ]
    },
    {
      "cell_type": "code",
      "source": [
        "######################\n",
        "# For\n",
        "######################\n",
        "\n",
        "# The range function is often used in for loops and lists the starting number.\n",
        "# the ending number and can also include the steps\n",
        "\n",
        "# for i in rang(start, stop, step)\n",
        "\n",
        "for i in range(0,5):\n",
        "  print(i)"
      ],
      "metadata": {
        "colab": {
          "base_uri": "https://localhost:8080/"
        },
        "id": "hs6aaKxiDt5s",
        "outputId": "f4d7bcd3-7b12-4d30-9193-01c7b6fb1fab"
      },
      "execution_count": 17,
      "outputs": [
        {
          "output_type": "stream",
          "name": "stdout",
          "text": [
            "0\n",
            "1\n",
            "2\n",
            "3\n",
            "4\n"
          ]
        }
      ]
    },
    {
      "cell_type": "code",
      "source": [
        "for i in range(0,5,1):\n",
        "  print(i)"
      ],
      "metadata": {
        "colab": {
          "base_uri": "https://localhost:8080/"
        },
        "id": "FZDyVq-rJS_J",
        "outputId": "0522c61b-ce51-429b-a9e2-3561dee411a7"
      },
      "execution_count": 18,
      "outputs": [
        {
          "output_type": "stream",
          "name": "stdout",
          "text": [
            "0\n",
            "1\n",
            "2\n",
            "3\n",
            "4\n"
          ]
        }
      ]
    },
    {
      "cell_type": "code",
      "source": [
        "for i in range(5):\n",
        "  print(i)"
      ],
      "metadata": {
        "colab": {
          "base_uri": "https://localhost:8080/"
        },
        "id": "fHE8iCirJWUj",
        "outputId": "1c136968-1e31-4d90-9f4d-0364ab4b1f7f"
      },
      "execution_count": 19,
      "outputs": [
        {
          "output_type": "stream",
          "name": "stdout",
          "text": [
            "0\n",
            "1\n",
            "2\n",
            "3\n",
            "4\n"
          ]
        }
      ]
    },
    {
      "cell_type": "code",
      "source": [
        "for i in range(10,1,-3):\n",
        "  print(i)"
      ],
      "metadata": {
        "colab": {
          "base_uri": "https://localhost:8080/"
        },
        "id": "QbwbsjM9JYWM",
        "outputId": "29cb6d3d-116d-4096-e6e2-db9ca67e9ce7"
      },
      "execution_count": 21,
      "outputs": [
        {
          "output_type": "stream",
          "name": "stdout",
          "text": [
            "10\n",
            "7\n",
            "4\n"
          ]
        }
      ]
    },
    {
      "cell_type": "code",
      "source": [
        "no = [1,2,3,4,5]\n",
        "\n",
        "for i in no:\n",
        "  print(i)"
      ],
      "metadata": {
        "colab": {
          "base_uri": "https://localhost:8080/"
        },
        "id": "mAYDjG77Jj5W",
        "outputId": "ba0ad9e1-dc25-4848-8979-106f8a9af0bd"
      },
      "execution_count": 22,
      "outputs": [
        {
          "output_type": "stream",
          "name": "stdout",
          "text": [
            "1\n",
            "2\n",
            "3\n",
            "4\n",
            "5\n"
          ]
        }
      ]
    },
    {
      "cell_type": "code",
      "source": [
        "# Ask the user to enter their name and then display their name three times.\n",
        "\n",
        "# Alter program. so that it will ask the user to enter their name and a number\n",
        "# and then display their name that number of times.\n",
        "\n",
        "name = input('Enter your name : ')\n",
        "num = int(input('Enter the number : '))\n",
        "\n",
        "for i in range(num):\n",
        "  print(name)"
      ],
      "metadata": {
        "colab": {
          "base_uri": "https://localhost:8080/"
        },
        "id": "cZaGUi_WJ_wO",
        "outputId": "44fcf400-8cb8-4a1d-fb9b-370432c16e77"
      },
      "execution_count": 24,
      "outputs": [
        {
          "output_type": "stream",
          "name": "stdout",
          "text": [
            "Enter your name : ldakf\n",
            "Enter the number : 4\n",
            "ldakf\n",
            "ldakf\n",
            "ldakf\n",
            "ldakf\n"
          ]
        }
      ]
    },
    {
      "cell_type": "code",
      "source": [
        "# Ask the user to enter their name and display each letter in their name on a separate line\n",
        "\n",
        "name = input('Enter your name : ')\n",
        "\n",
        "for i in name:\n",
        "  print(i)"
      ],
      "metadata": {
        "colab": {
          "base_uri": "https://localhost:8080/"
        },
        "id": "ZA9396auMCn_",
        "outputId": "f4272615-d00a-49ed-dd36-f84e2b4d1bd4"
      },
      "execution_count": 26,
      "outputs": [
        {
          "output_type": "stream",
          "name": "stdout",
          "text": [
            "Enter your name : af\n",
            "a\n",
            "f\n"
          ]
        }
      ]
    },
    {
      "cell_type": "code",
      "source": [
        "# Ask for a number below 50 and then count down from 50 to that number.\n",
        "# making sure you show the number they entered in the output\n",
        "\n",
        "num = int(input('Enter the number below 50 : '))\n",
        "\n",
        "for i in range(50,num-1,-1):\n",
        "  print(i)\n"
      ],
      "metadata": {
        "colab": {
          "base_uri": "https://localhost:8080/"
        },
        "id": "3JC2B399M1_w",
        "outputId": "492e320c-d494-4158-a297-0f8caec544b9"
      },
      "execution_count": 28,
      "outputs": [
        {
          "output_type": "stream",
          "name": "stdout",
          "text": [
            "Enter the number below 50 : 19\n",
            "You enter 19\n",
            "50\n",
            "49\n",
            "48\n",
            "47\n",
            "46\n",
            "45\n",
            "44\n",
            "43\n",
            "42\n",
            "41\n",
            "40\n",
            "39\n",
            "38\n",
            "37\n",
            "36\n",
            "35\n",
            "34\n",
            "33\n",
            "32\n",
            "31\n",
            "30\n",
            "29\n",
            "28\n",
            "27\n",
            "26\n",
            "25\n",
            "24\n",
            "23\n",
            "22\n",
            "21\n",
            "20\n",
            "19\n"
          ]
        }
      ]
    },
    {
      "cell_type": "code",
      "source": [
        "# Set a variable called total to 0. Ask the user five numbers and after each\n",
        "# input ask them if they want that number included.\n",
        "# If they do. then add the number to the total.\n",
        "# After they have entered all five number. display the total\n",
        "\n",
        "total = 0\n",
        "\n",
        "for i in range(5):\n",
        "  num = int(input('Enter a number : '))\n",
        "  inc = input('Do you want to include in total? y/n : ')\n",
        "  if inc == 'y' :\n",
        "    total += num\n",
        "\n",
        "print(f'total = {total}')"
      ],
      "metadata": {
        "colab": {
          "base_uri": "https://localhost:8080/"
        },
        "id": "GOFwSpiLOlEP",
        "outputId": "53817e8e-cd40-403a-a1bc-35daab17d3c4"
      },
      "execution_count": 30,
      "outputs": [
        {
          "output_type": "stream",
          "name": "stdout",
          "text": [
            "Enter a number : 1\n",
            "Do you want tp include in total? y/n : n\n",
            "Enter a number : 2\n",
            "Do you want tp include in total? y/n : y\n",
            "Enter a number : 3\n",
            "Do you want tp include in total? y/n : n\n",
            "Enter a number : 4\n",
            "Do you want tp include in total? y/n : y\n",
            "Enter a number : 5\n",
            "Do you want tp include in total? y/n : n\n",
            "6\n"
          ]
        }
      ]
    },
    {
      "cell_type": "code",
      "source": [
        "# Ask which direction the user wants to count (up or down).\n",
        "# If they select up. then ask them for the top number and then count from 1 to that numbers.\n",
        "# If they select down, ask them to enter a number below 20 and then count down from 20\n",
        "# to that number. If they entered something other than up or down\n",
        "# display the message 'I don't understand'\n",
        "\n",
        "print('1 . up')\n",
        "print('2. down')\n",
        "direc = int(input('Select direction : '))\n",
        "\n",
        "if direc == 1:\n",
        "  top = int(input('Enter the top number : '))\n",
        "  for i in range(1,top+1):\n",
        "    print(i)\n",
        "elif direc == 2:\n",
        "  down = int(input('Enter a number below 20 : '))\n",
        "  for i in range(20,down-1,-1):\n",
        "    print(i)\n",
        "else:\n",
        "  print('I don\\'t understand')\n"
      ],
      "metadata": {
        "colab": {
          "base_uri": "https://localhost:8080/"
        },
        "id": "0Y5Vo6BRVVXA",
        "outputId": "d021a99d-0df6-4805-fff5-432fd1229e08"
      },
      "execution_count": 34,
      "outputs": [
        {
          "output_type": "stream",
          "name": "stdout",
          "text": [
            "1 . up\n",
            "2. down\n",
            "Select direction : 1\n",
            "Enter the top number : 18\n",
            "1\n",
            "2\n",
            "3\n",
            "4\n",
            "5\n",
            "6\n",
            "7\n",
            "8\n",
            "9\n",
            "10\n",
            "11\n",
            "12\n",
            "13\n",
            "14\n",
            "15\n",
            "16\n",
            "17\n",
            "18\n"
          ]
        }
      ]
    },
    {
      "cell_type": "code",
      "source": [
        "# Ask how many people the user wants to invite to a party\n",
        "# If they enter a number below 10. ask for the names and after each name display\n",
        "# '[name] has been invited.'\n",
        "# if they enter a number which is 10 or higher. display the message 'Too many people'\n",
        "\n",
        "num = int(input('Enter a number below 10 : '))\n",
        "\n",
        "if num < 10:\n",
        "  for i in range(num):\n",
        "    name = input('Enter the name : ')\n",
        "    print(f'{name} has been invited')\n",
        "else:\n",
        "  print('Too many people')"
      ],
      "metadata": {
        "id": "VYo6XO3MY5KN"
      },
      "execution_count": null,
      "outputs": []
    },
    {
      "cell_type": "code",
      "source": [
        "#################\n",
        "# While\n",
        "#################\n",
        "\n",
        "# A while loop allows code to be repeated an unknown number of times as long as  a condition\n",
        "# This may be 100 times, just the once or even never\n",
        "# It is important. therefore, to make sure the correct conditions are in place\n",
        "# to run the loop before it starts\n",
        "\n",
        "total = 0\n",
        "while total < 100:\n",
        "  num = int(input('Enter a number : '))\n",
        "  total = total + num\n",
        "print('The total is ', total)"
      ],
      "metadata": {
        "colab": {
          "base_uri": "https://localhost:8080/"
        },
        "id": "0Rvn9fZKQIdi",
        "outputId": "bf5b3cd9-293c-4a0f-8e5f-2ea914f19ac4"
      },
      "execution_count": 35,
      "outputs": [
        {
          "output_type": "stream",
          "name": "stdout",
          "text": [
            "Enter a number99\n",
            "Enter a number2\n",
            "The total is  101\n"
          ]
        }
      ]
    },
    {
      "cell_type": "code",
      "source": [
        "# Set the total to 0 to start with, while the total is 50 or less.\n",
        "# ask the user to input a number.\n",
        "# Add that number to the total and\n",
        "# print the message\n",
        "# 'The total is ....[total]. Stop the loop when the total is over 50\n",
        "\n",
        "total = 0\n",
        "\n",
        "while total <= 50:\n",
        "  num = int(input('Enter a number : '))\n",
        "  total += num\n",
        "print(f'The total is {total}.')\n"
      ],
      "metadata": {
        "colab": {
          "base_uri": "https://localhost:8080/"
        },
        "id": "ciI-a5mQdXjU",
        "outputId": "d7c7bcd6-0962-4b48-c140-63252832908e"
      },
      "execution_count": 41,
      "outputs": [
        {
          "output_type": "stream",
          "name": "stdout",
          "text": [
            "Enter a number : 50\n",
            "Enter a number : 50\n",
            "The total is 100.\n"
          ]
        }
      ]
    }
  ]
}