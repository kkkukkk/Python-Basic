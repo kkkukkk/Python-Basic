{
  "nbformat": 4,
  "nbformat_minor": 0,
  "metadata": {
    "colab": {
      "name": "Day 15.ipynb",
      "provenance": [],
      "authorship_tag": "ABX9TyPkuM4v33YO8p31mrt2HlA4",
      "include_colab_link": true
    },
    "kernelspec": {
      "name": "python3",
      "display_name": "Python 3"
    },
    "language_info": {
      "name": "python"
    }
  },
  "cells": [
    {
      "cell_type": "markdown",
      "metadata": {
        "id": "view-in-github",
        "colab_type": "text"
      },
      "source": [
        "<a href=\"https://colab.research.google.com/github/kkkukkk/ai/blob/main/Day_15.ipynb\" target=\"_parent\"><img src=\"https://colab.research.google.com/assets/colab-badge.svg\" alt=\"Open In Colab\"/></a>"
      ]
    },
    {
      "cell_type": "code",
      "execution_count": null,
      "metadata": {
        "colab": {
          "base_uri": "https://localhost:8080/"
        },
        "id": "w9wQEmLbD8fr",
        "outputId": "dafd568a-6343-44ac-8f95-b3d0d7c81696"
      },
      "outputs": [
        {
          "output_type": "stream",
          "name": "stdout",
          "text": [
            "런닝맨 \n",
            "\n",
            "코미디빅리그 \n",
            "\n",
            "싱어게인 \n",
            "\n",
            "대탈출 \n",
            "\n",
            "Enter another show and index : 추노\n",
            "Enter a number between 0 and 3 : 1\n",
            "['대탈출', '런닝맨', '추노', '코미디빅리그', '싱어게인']\n"
          ]
        }
      ],
      "source": [
        "# Create a list containing the titles of four TV programmes and display them on seperate lines.\n",
        "# Ask the user to enter another show and a position they want it inserted into the list\n",
        "# Display the list again, showing all five TV programmes in their new positions.\n",
        "import random as rd\n",
        "\n",
        "prog = ['런닝맨','코미디빅리그','싱어게인','대탈출']\n",
        "for i in prog:\n",
        "  print(i,'\\n')\n",
        "\n",
        "show = input('Enter another show : ')\n",
        "ind = int(input('Enter a number between 0 and 3 : '))\n",
        "prog.insert(ind, show)\n",
        "\n",
        "rd.shuffle(prog)\n",
        "print(prog)"
      ]
    },
    {
      "cell_type": "code",
      "source": [
        "# Create an empty list called 'nums'\n",
        "# Ask the user to enter numbers.\n",
        "# After each number is entered, add it to the end of the nums list and display the list\n",
        "# Once they have entered three numbers,\n",
        "# ask them if they still want the last number they entered saved\n",
        "# If they say 'no' remove the last item from the list\n",
        "# Display the list of numbers.\n",
        "\n",
        "nums = []\n",
        "\n",
        "for i in range(3):\n",
        "  n = int(input('Enter number : '))\n",
        "  nums.append(n)\n",
        "  print(nums)\n",
        "p = input(\"Do you still want the last number you entered saved? yes/no : \")\n",
        "if p == 'no':\n",
        "  nums.pop()\n",
        "\n",
        "print(nums)"
      ],
      "metadata": {
        "colab": {
          "base_uri": "https://localhost:8080/"
        },
        "id": "xdHb99_cII3_",
        "outputId": "5a0e4920-c69e-40d9-ffa8-a1e86568b242"
      },
      "execution_count": null,
      "outputs": [
        {
          "output_type": "stream",
          "name": "stdout",
          "text": [
            "Enter number3\n",
            "[3]\n",
            "Enter number2\n",
            "[3, 2]\n",
            "Enter number1\n",
            "[3, 2, 1]\n",
            "Do you still want the last number you entered saved? yes/no : no\n",
            "[3, 2]\n"
          ]
        }
      ]
    },
    {
      "cell_type": "code",
      "source": [
        "# More String Manipulation 다양한 문자열 처리\n",
        "\n",
        "# Here we have a variable called name which is assigned the value 'Simon'\n",
        "name = 'Simon'\n",
        "\n",
        "# 'Simon' can be thought of as a sequence of individual characters and each character in that string\n",
        "# can be identified by its index.\n",
        "\n",
        "# Note how string s start indexing from 0 and not 1\n",
        "# If the string had a space in it. the space would also be counted as a character"
      ],
      "metadata": {
        "colab": {
          "base_uri": "https://localhost:8080/"
        },
        "id": "Z2BU7aG0PNZ-",
        "outputId": "e9ca8bbc-ca0a-4459-de4d-88aef26b6c8e"
      },
      "execution_count": null,
      "outputs": [
        {
          "output_type": "stream",
          "name": "stdout",
          "text": [
            "Sim\n"
          ]
        }
      ]
    },
    {
      "cell_type": "code",
      "source": [
        "msg = 'HELLo'\n",
        "if msg.isupper():\n",
        "  print('Uppercase')\n",
        "else:\n",
        "  print('This is not in uppercase')"
      ],
      "metadata": {
        "colab": {
          "base_uri": "https://localhost:8080/"
        },
        "id": "2flwtZAKQZTn",
        "outputId": "b3a589b9-ef11-466f-ddd4-bf1804d08f93"
      },
      "execution_count": null,
      "outputs": [
        {
          "output_type": "stream",
          "name": "stdout",
          "text": [
            "This is not in uppercase\n"
          ]
        }
      ]
    },
    {
      "cell_type": "code",
      "source": [
        "msg = 'Hello'\n",
        "for letter in msg:\n",
        "  print(letter, end='*')"
      ],
      "metadata": {
        "colab": {
          "base_uri": "https://localhost:8080/"
        },
        "id": "xo8bMtVgQ5NZ",
        "outputId": "b07c238f-e6f3-488d-f065-44e8f8fe1ee6"
      },
      "execution_count": null,
      "outputs": [
        {
          "output_type": "stream",
          "name": "stdout",
          "text": [
            "H*e*l*l*o*"
          ]
        }
      ]
    },
    {
      "cell_type": "code",
      "source": [
        "# Ask the user to type in a word in upper case.\n",
        "\n",
        "while True:\n",
        "  msg = input('Type the word in upper case :  ')\n",
        "  if msg.islower():\n",
        "    print('Try again')\n",
        "  else:\n",
        "    print(msg)\n",
        "    break"
      ],
      "metadata": {
        "colab": {
          "base_uri": "https://localhost:8080/"
        },
        "id": "R7DWnnb7RTqn",
        "outputId": "8f7ae2f3-1c3c-4fe8-ce0e-658dffeddc0c"
      },
      "execution_count": null,
      "outputs": [
        {
          "output_type": "stream",
          "name": "stdout",
          "text": [
            "Type the word in upper case :  ipip\n",
            "Try again\n",
            "Type the word in upper case :  IPPPPII\n",
            "IPPPPII\n"
          ]
        }
      ]
    },
    {
      "cell_type": "code",
      "source": [
        "from typing import KeysView\n",
        "# Ask the user to enter a new password\n",
        "# Ask them to enter it again.\n",
        "# If the two passwords match,\n",
        "# Display 'Thank you'\n",
        "# If the letters are correct but in the wrong case\n",
        "# display the message ' They must be in same case',\n",
        "# otherwise display the message 'incorrect'\n",
        "\n",
        "key = input('Enter a new password : ')\n",
        "\n",
        "password = input('Enter your password : ')\n",
        "\n",
        "if key == password:\n",
        "  print('Thank you!')\n",
        "elif key.lower() == password.lower():\n",
        "  print('They must be in a same case')\n",
        "else:\n",
        "  print('Incorrect')\n"
      ],
      "metadata": {
        "colab": {
          "base_uri": "https://localhost:8080/"
        },
        "id": "TOXY2QRQVGu6",
        "outputId": "90923c6c-89be-4b2c-9950-b32a579f2a11"
      },
      "execution_count": null,
      "outputs": [
        {
          "output_type": "stream",
          "name": "stdout",
          "text": [
            "Enter a new password : akb99\n",
            "Enter your password : AKB99\n",
            "They must be in a same case\n"
          ]
        }
      ]
    }
  ]
}