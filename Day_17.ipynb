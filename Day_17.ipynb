{
  "nbformat": 4,
  "nbformat_minor": 0,
  "metadata": {
    "colab": {
      "name": "Day 17.ipynb",
      "provenance": [],
      "authorship_tag": "ABX9TyOcYsnkzxtX/GNJYPctsCRV",
      "include_colab_link": true
    },
    "kernelspec": {
      "name": "python3",
      "display_name": "Python 3"
    },
    "language_info": {
      "name": "python"
    }
  },
  "cells": [
    {
      "cell_type": "markdown",
      "metadata": {
        "id": "view-in-github",
        "colab_type": "text"
      },
      "source": [
        "<a href=\"https://colab.research.google.com/github/kkkukkk/ai/blob/main/Day_17.ipynb\" target=\"_parent\"><img src=\"https://colab.research.google.com/assets/colab-badge.svg\" alt=\"Open In Colab\"/></a>"
      ]
    },
    {
      "cell_type": "code",
      "execution_count": 8,
      "metadata": {
        "colab": {
          "base_uri": "https://localhost:8080/"
        },
        "id": "W7NsUA3444JA",
        "outputId": "b45e3685-fcb0-4cb2-a35d-7f0a2b85c423"
      },
      "outputs": [
        {
          "output_type": "stream",
          "name": "stdout",
          "text": [
            "Enter your name : kii\n",
            "Hello kii\n"
          ]
        }
      ],
      "source": [
        "#Function (subprograms)\n",
        "\n",
        "# Blocks of code which perform specific tasks and can be called upon at any time\n",
        "# in the program to run that code.\n",
        "\n",
        "# Advantages\n",
        "# - it can be used and reused at different times during the program.\n",
        "# - it makes the program simpler to understand as the code is grouped together\n",
        "\n",
        "def get_name(): #4\n",
        "  user_name = input('Enter your name : ') #5\n",
        "  return user_name #7\n",
        "\n",
        "def print_Msg(user_name): #9\n",
        "  print(\"Hello\", user_name) #10\n",
        "\n",
        "def main(): #2\n",
        "  user_name = get_name() #3 #7\n",
        "  print_Msg(user_name) #8\n",
        "\n",
        "main() #1\n",
        "\n",
        "# 4 5 6 9 10 2 3 7 1"
      ]
    },
    {
      "cell_type": "code",
      "source": [
        "def get_data(): #4\n",
        "  user_name = input(\"Enter your name\") #5\n",
        "  user_age = int(input('Enter your age')) #6\n",
        "  data_tuple = (user_name, user_age) #7\n",
        "  return data_tuple #8\n",
        "\n",
        "def message(user_name, user_age): #11\n",
        "  if user_age <= 10: # 12\n",
        "    print('Hi', user_name)\n",
        "  else:\n",
        "    print('Hello', user_name) # 13\n",
        "\n",
        "def main(): #2\n",
        "  user_name, user_age = get_data() #3 #9\n",
        "  message(user_name, user_age) #10 (#14)\n",
        "\n",
        "\n",
        "main() #1\n",
        "\n",
        "# 4 5 6 7 8 11 12 13 2 3 9 10 (14)"
      ],
      "metadata": {
        "colab": {
          "base_uri": "https://localhost:8080/"
        },
        "id": "wHVfJ6LbbVr-",
        "outputId": "812e17f0-ad00-4ebb-d674-be7245affa12"
      },
      "execution_count": 12,
      "outputs": [
        {
          "output_type": "stream",
          "name": "stdout",
          "text": [
            "Enter your nameabc\n",
            "Enter your age12\n",
            "Hello abc\n"
          ]
        }
      ]
    },
    {
      "cell_type": "code",
      "source": [
        "# Quiz\n",
        "\n",
        "# Define a subprogram that will ask the user to enter a number and save it as the variable\n",
        "# 'num'. Define another subprogram that will use 'num' and count from 1 to that number.\n",
        "\n",
        "\n",
        "def en():\n",
        "  num = int(input('Enter a number'))\n",
        "  save(num)\n",
        "  \n",
        "def save(num):\n",
        "  n = []\n",
        "  for i in range(1,num+1):\n",
        "    n.append(i)\n",
        "  cnt(n)\n",
        "\n",
        "def cnt(n):\n",
        "  print(len(n))\n",
        "\n",
        "en()"
      ],
      "metadata": {
        "colab": {
          "base_uri": "https://localhost:8080/"
        },
        "id": "tLT9wnPnh5_u",
        "outputId": "98f8da90-fd00-4d33-a2ab-aa8b1a53bda2"
      },
      "execution_count": 21,
      "outputs": [
        {
          "output_type": "stream",
          "name": "stdout",
          "text": [
            "Enter a number10\n",
            "10\n"
          ]
        }
      ]
    },
    {
      "cell_type": "code",
      "source": [
        "import random as rd\n",
        "\n",
        "def pick_num():\n",
        "  low = int(input('Pick a low number'))\n",
        "  high = int(input('Pick a high number'))\n",
        "  comp_num = rd.randrange(low,high)\n",
        "  ist(comp_num)\n",
        "\n",
        "def ist(comp_num):\n",
        "  print(f'I am thinking of a number is {comp_num}')\n",
        "  ans = int(input(\"Guess the number : \"))\n",
        "  check(comp_num,ans)\n",
        "\n",
        "def check(comp_num,ans):\n",
        "    if ans == comp_num:\n",
        "      print('Correct, you win!')\n",
        "    else:\n",
        "      ist(comp_num)\n",
        "\n",
        "pick_num()"
      ],
      "metadata": {
        "colab": {
          "base_uri": "https://localhost:8080/"
        },
        "id": "goLL0UYIkzGw",
        "outputId": "00a54739-5b16-4093-fd49-17fa66a935f2"
      },
      "execution_count": 30,
      "outputs": [
        {
          "output_type": "stream",
          "name": "stdout",
          "text": [
            "Pick a low number10\n",
            "Pick a high number15\n",
            "I am thinking of a number is 14\n",
            "Guess the number : 13\n",
            "I am thinking of a number is 14\n",
            "Guess the number : 14\n",
            "Correct, you win!\n"
          ]
        }
      ]
    }
  ]
}