{
  "nbformat": 4,
  "nbformat_minor": 0,
  "metadata": {
    "colab": {
      "name": "Day 9.ipynb",
      "provenance": [],
      "collapsed_sections": [],
      "authorship_tag": "ABX9TyMr76ZYAjUEsz7w36q9Lv4x",
      "include_colab_link": true
    },
    "kernelspec": {
      "name": "python3",
      "display_name": "Python 3"
    },
    "language_info": {
      "name": "python"
    }
  },
  "cells": [
    {
      "cell_type": "markdown",
      "metadata": {
        "id": "view-in-github",
        "colab_type": "text"
      },
      "source": [
        "<a href=\"https://colab.research.google.com/github/kkkukkk/ai/blob/main/Day_9.ipynb\" target=\"_parent\"><img src=\"https://colab.research.google.com/assets/colab-badge.svg\" alt=\"Open In Colab\"/></a>"
      ]
    },
    {
      "cell_type": "code",
      "execution_count": 5,
      "metadata": {
        "colab": {
          "base_uri": "https://localhost:8080/"
        },
        "id": "bQoDeRn2FmzJ",
        "outputId": "a3ffac49-b61b-4f77-f5bc-5d01ad3ff157"
      },
      "outputs": [
        {
          "output_type": "stream",
          "name": "stdout",
          "text": [
            "숫자를 포함한 문자열을 입력하세요 >>> 19abbbc19c91\n",
            "문자 :  abbbcc\n",
            "숫자 :  191991\n"
          ]
        }
      ],
      "source": [
        "# (영어) 알파파벳과 숫자를 섞어서 입력을 받아서\n",
        "# 숫자와 문자를 분리하여 출력하는 프로그램을 작성하시오\n",
        "\n",
        "# 출력\n",
        "# 문자 :\n",
        "# 숫자 : \n",
        "\n",
        "\n",
        "sen = input('숫자를 포함한 문자열을 입력하세요 >>> ')\n",
        "\n",
        "n=''\n",
        "a=''\n",
        "\n",
        "for i in sen:\n",
        "  if i.isdigit():\n",
        "    n += i\n",
        "  elif i.isalpha():\n",
        "    a += i\n",
        "\n",
        "print('문자 : ',a)\n",
        "print('숫자 : ',n)"
      ]
    },
    {
      "cell_type": "code",
      "source": [
        "# 문자와 숫자의 개수를 포함하여 출력하세요\n",
        "\n",
        "sen = input('숫자를 포함한 문자열을 입력하세요 >>> ')\n",
        "\n",
        "n=''\n",
        "a=''\n",
        "cnt_n = 0\n",
        "cnt_a = 0\n",
        "\n",
        "for i in sen:\n",
        "  if i.isdigit():\n",
        "    n += i\n",
        "    cnt_n += 1\n",
        "  elif i.isalpha():\n",
        "    a += i\n",
        "    cnt_a += 1\n",
        "\n",
        "print(f'문자({cnt_a}) : {a}')\n",
        "print(f'문자({len(a)}) : {a}')\n",
        "\n",
        "print(f'숫자({cnt_n}) : {n}')\n",
        "print(f'문자({len(n)}) : {n}')"
      ],
      "metadata": {
        "colab": {
          "base_uri": "https://localhost:8080/"
        },
        "id": "NWdVf_a_JLmv",
        "outputId": "e686b974-cd83-49ea-d848-cb2aaf5a02e5"
      },
      "execution_count": 9,
      "outputs": [
        {
          "output_type": "stream",
          "name": "stdout",
          "text": [
            "숫자를 포함한 문자열을 입력하세요 >>> 123123aaammmb29\n",
            "문자(7) : aaammmb\n",
            "문자(7) : aaammmb\n",
            "숫자(8) : 12312329\n",
            "문자(8) : 12312329\n"
          ]
        }
      ]
    },
    {
      "cell_type": "code",
      "source": [
        ""
      ],
      "metadata": {
        "id": "F1MOUHTFLKTm"
      },
      "execution_count": null,
      "outputs": []
    },
    {
      "cell_type": "code",
      "source": [
        "# 단, is~~으로 시작하는 함수를 사용하지 않고 작성하시오\n",
        "\n",
        "sen = input('숫자를 포함한 문자열을 입력하세요 >>> ')\n",
        "\n",
        "n=''\n",
        "a=''\n",
        "rest = ''\n",
        "cnt = 0\n",
        "\n",
        "\n",
        "for i in sen:\n",
        "  if 64 < ord(i) < 91 or 96 < ord(i) < 123:                                  # 아스키코드 반환함수 ord()\n",
        "    a += i\n",
        "  elif 47 < ord(i) < 58:\n",
        "    n += i\n",
        "  else:\n",
        "    rest += i\n",
        "    cnt += 1\n",
        "\n",
        "print(f'문자({len(a)}) : {a}')\n",
        "print(f'숫자({len(n)}) : {n}')\n",
        "\n",
        "if cnt > 0 :\n",
        "  print(f'나머지({len(rest)}) : {rest}')"
      ],
      "metadata": {
        "colab": {
          "base_uri": "https://localhost:8080/"
        },
        "id": "EI1XzCYsJ154",
        "outputId": "425bb6bd-2ea8-4adf-d8c1-cf06cb65bb0d"
      },
      "execution_count": 18,
      "outputs": [
        {
          "output_type": "stream",
          "name": "stdout",
          "text": [
            "숫자를 포함한 문자열을 입력하세요 >>> 1231288*akjb&abjj\n",
            "문자(8) : akjbabjj\n",
            "숫자(7) : 1231288\n",
            "나머지(2) : *&\n"
          ]
        }
      ]
    },
    {
      "cell_type": "code",
      "source": [
        "######################\n",
        "# 알고리즘\n",
        "######################\n",
        "# 알고리즘은 문제나 과제를 해결하기 위한 처리절차를 구체적인 순서로 표현한 아이디어나 생각\n",
        "# 알고리즘 표현 방법은 수도코드(pseudo code),  순서도(flow chart)가 있다.\n",
        "\n",
        "# 프로그램 작성 순서\n",
        "# 기록 - 설계(알고리즘) - 프로그래밍 - 디버그 - 문서작성\n",
        "\n",
        "# 좋은 알고리즘\n",
        "# 알기 쉽고, 속도가 빠르고, 효율적이고(메모리를 적게 사용), 재이용이 쉽다.\n",
        "\n",
        "# 왜 알고리즘??\n",
        "# 좋은 프로그램 만들 수 있고, 좋은 프로그램인지 판단할 수 있고\n",
        "# 프로그램 작성을 효율적으로 할 수 있고, 프로그래밍 기술을 향상시키는데 큰 도움이 된다.\n",
        "\n",
        "# 알고리즘의 조건\n",
        "# 결과를 얻을 수 있어야 하고, 반드시 종료되어야 한다.\n",
        "\n",
        "# 알고리즘 세가지 기본형\n",
        "# 1. 순차구조 : 처음부터 순서대로 처리\n",
        "# 2. 선택구조 : 조건식 if\n",
        "# 3. 반복구조 : 반복문 for while\n",
        "\n",
        "# 순서도 flow 차트, 흐름도\n",
        "# 프로그래밍 언어를 사용하지 않고 알고리즘을 기술하는 방법\n",
        "# 처리와 절차를 시각적으로 표현 한다.\n",
        "# 자신이 생각하고 있는 알고리즘이 올바른지, 처리와 절차에 문제가 없는지를\n",
        "# 눈으로 확인할 수 있고 다른 사람에게도 쉽게 전달할 수 있는 특징이 있다.\n",
        "# 주의사항\n",
        "# 처리 기호나 판단 기호가 많아지면 흐름이 복잡하게 꼬인다.\n",
        "# 1. 입력은 반드시 위에서 들어가도록 만든다.\n",
        "# 2. 판단기호로부터 나오는 흐름선에는 yes no 를 확실하게 기입한다.\n",
        "# 3. 입력선이나 출력선이 없는 처리 기호는 만들지 않는다.\n",
        "\n",
        "\n"
      ],
      "metadata": {
        "id": "GE4yg6AqVY6r"
      },
      "execution_count": null,
      "outputs": []
    },
    {
      "cell_type": "markdown",
      "source": [
        "![기본.jpg](data:image/jpeg;base64,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)"
      ],
      "metadata": {
        "id": "R34IbQETc4aO"
      }
    },
    {
      "cell_type": "code",
      "source": [
        "# 유명한 알고리즘이란??\n",
        "# 유명한 알고리즘을 배우는 것은 프로그래밍 기술 향상에 커다란 도움이 된다.\n",
        "# 탐색 : Linear Search, Binary Search, Hash Search\n",
        "# 정렬 : Selection Sort, Bubble Sort, Insertion Sort, Quick Sort\n",
        "# Sieve of Eratothenes, Euclid\n",
        "\n",
        "# 가우스 소거법, 사다리꼴 법칙, 다익스트라 알고리즘, 이분법, 뉴턴법\n",
        "# KMP 알고리즘, BM알고리즘.."
      ],
      "metadata": {
        "id": "0OlO5LdUc6jL"
      },
      "execution_count": null,
      "outputs": []
    },
    {
      "cell_type": "code",
      "source": [
        "# 선형탐색법 Linear Search\n",
        "\n",
        "# 맨 앞부터 순서대로 찾는 값이 나올 때까지 순차적으로 조사하는 알고리즘\n",
        "# 알고리즘은 단순하여 이해는 쉽지만 탐색 효율 자체는 그다지 좋은 편은 아니다.\n",
        "\n",
        "# 처음부터 순차적으로 하나씩 확인한다.\n"
      ],
      "metadata": {
        "id": "k4q2tRiOiNe1"
      },
      "execution_count": null,
      "outputs": []
    },
    {
      "cell_type": "code",
      "source": [
        "# 이진 탐색법 Binary Search\n",
        "\n",
        "# 탐색 대상 데이터들이 미리 오름차순 또는 내림차순으로 정렬이 되어 있어야만 한다.\n",
        "# 탐색하는 범위를 절반씩 추려나가면서 탐색을 한다.\n",
        "# 정렬되어 있다는 전제조건이 있으므로 찾고있는 데이터가 아닐경우\n",
        "# 이후 모든 데이터는 찾고있는 데이터가 될 수 없다."
      ],
      "metadata": {
        "id": "iUj3iWxO8bxt"
      },
      "execution_count": null,
      "outputs": []
    },
    {
      "cell_type": "code",
      "source": [
        "# 이진 탐색법의 알고리즘\n",
        "# 1. 가운데 요소를 선택하는 처리(인덱스의 평균을 계산하여 구한다)\n",
        "# 2. 가운데 데이터와 찾는 데이터를 비교하는 처리\n",
        "# 3. 탐색 범위를 절반으로 줄이는 처리\n",
        "\n",
        "# 요소의 갯수가 짝수일 때는 가운데 요소가 2개라는 것을 알 수 있다.\n",
        "# 이 경우 어느쪽을 선택해야 한다고 정해진 것은 없다.\n",
        "# 단지 둘 중 하나만 선택하면 된다.\n",
        "# (0+5) / 2 = 2.5\n",
        "# 소수를 정수화 하는 방법으로는 1.반올림 2. 올림 3. 버림\n",
        "# 제일 간단한 방법은 버림이다.\n",
        "# 정수형 변수에 넣기만 하면 소수 부분은 잘려나가므로\n",
        "# 쉽게 정수 부분반 얻을 수 있다."
      ],
      "metadata": {
        "id": "lgS8uiYo-0f2"
      },
      "execution_count": 25,
      "outputs": []
    },
    {
      "cell_type": "code",
      "source": [
        "# 단순 선택법\n",
        "# 1. 탐색 범위의 최소값을 찾는 처리\n",
        "# 2. 찾을 최소값을 맨 앞의 요소와 교환하는 처리"
      ],
      "metadata": {
        "id": "aLHHsGws_c4U"
      },
      "execution_count": null,
      "outputs": []
    },
    {
      "cell_type": "code",
      "source": [
        "# 단순 교환법 Bubble Sort\n",
        "# 인접한 2개의 데이터를 교환하는 처리를 반복하여 전체를 정렬한다.\n",
        "# 속도가 느린 알고리즘\n",
        "\n",
        "# 알고리즘\n",
        "# 1. 오른쪽 끝 요소부터 차례로 인접한 데이터를 오름차순 정렬하여 교환한다\n",
        "# 2. 왼쪽 끝부터 순서대로 하나씩 데이터를 정렬하여 확정시킨다.\n"
      ],
      "metadata": {
        "id": "uc1XT0_bmWpC"
      },
      "execution_count": null,
      "outputs": []
    }
  ]
}