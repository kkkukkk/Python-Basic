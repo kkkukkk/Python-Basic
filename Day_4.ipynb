{
 "cells": [
  {
   "cell_type": "code",
   "execution_count": 4,
   "id": "a3463ecb",
   "metadata": {},
   "outputs": [
    {
     "name": "stdout",
     "output_type": "stream",
     "text": [
      "5\n"
     ]
    }
   ],
   "source": [
    "# 문자열의 길이 구하기\n",
    "\n",
    "print(len('안녕하세요'))"
   ]
  },
  {
   "cell_type": "code",
   "execution_count": 7,
   "id": "c9e6b645",
   "metadata": {},
   "outputs": [
    {
     "name": "stdout",
     "output_type": "stream",
     "text": [
      "True\n"
     ]
    }
   ],
   "source": [
    "# 조건문\n",
    "\n",
    "# bool&if\n",
    "\n",
    "print(True)"
   ]
  },
  {
   "cell_type": "code",
   "execution_count": 12,
   "id": "c167e322",
   "metadata": {},
   "outputs": [
    {
     "name": "stdout",
     "output_type": "stream",
     "text": [
      "False\n",
      "True\n",
      "True\n",
      "False\n"
     ]
    }
   ],
   "source": [
    "print(10==100)\n",
    "print(10!=100)\n",
    "print(10<100)\n",
    "print(10>100)"
   ]
  },
  {
   "cell_type": "code",
   "execution_count": 15,
   "id": "a76eb99b",
   "metadata": {},
   "outputs": [
    {
     "name": "stdout",
     "output_type": "stream",
     "text": [
      "True\n",
      "False\n",
      "True\n",
      "False\n",
      "True\n"
     ]
    }
   ],
   "source": [
    "print(\"가방\" == \"가방\")\n",
    "print('가방' == '백')\n",
    "print('가방' != '백')\n",
    "print('가방' > '백') # 한글은 사전 순서(가나다순)\n",
    "print('가방' < '백')"
   ]
  },
  {
   "cell_type": "code",
   "execution_count": 17,
   "id": "4baf62c4",
   "metadata": {},
   "outputs": [
    {
     "name": "stdout",
     "output_type": "stream",
     "text": [
      "정수를 입력 하세요 >> 0\n",
      "0입니다.\n"
     ]
    }
   ],
   "source": [
    "# if 조건문...\n",
    "# 조건에 따라 특정 코드를 실행하거나 특정 코드를 실행하지 않게 만들고 싶을 때 사용\n",
    "# 코드의 실행 흐름을 변경시키는 것을 조건 분기 라고 부른다.\n",
    "\n",
    "num = int(input('정수를 입력 하세요 >> '))\n",
    "\n",
    "if num > 0:\n",
    "    print('양수입니다.')\n",
    "    \n",
    "if num < 0:\n",
    "    print('음수입니다.')\n",
    "    \n",
    "if num == 0:\n",
    "    print('0입니다.')"
   ]
  },
  {
   "cell_type": "code",
   "execution_count": 26,
   "id": "e73b2cd6",
   "metadata": {},
   "outputs": [
    {
     "name": "stdout",
     "output_type": "stream",
     "text": [
      "2022-01-28 14:33:08.431673\n",
      "2022 년\n",
      "1 월\n",
      "28 일\n",
      "14 시\n",
      "33 분\n",
      "8 초\n"
     ]
    }
   ],
   "source": [
    "# 날짜/시간관 관련된 기능을 가져온다.\n",
    "\n",
    "import datetime  # import는 만들어져있는 기능을 가져옴\n",
    "\n",
    "# 현재의 날짜와 시간을 구하는 함수\n",
    "now = datetime.datetime.now()\n",
    "\n",
    "print(now)\n",
    "print(now.year,'년')\n",
    "print(now.month,'월')\n",
    "print(now.day,'일')\n",
    "print(now.hour,'시')\n",
    "print(now.minute,'분')\n",
    "print(now.second,'초')"
   ]
  },
  {
   "cell_type": "code",
   "execution_count": 30,
   "id": "9c6c0550",
   "metadata": {},
   "outputs": [
    {
     "name": "stdout",
     "output_type": "stream",
     "text": [
      "현재 시각은 14시 36분 오후입니다.\n"
     ]
    }
   ],
   "source": [
    "# 현재 시각은 14시 33분으로 오후입니다.\n",
    "\n",
    "import datetime\n",
    "now = datetime.datetime.now()\n",
    "c = ''\n",
    "\n",
    "if now.hour < 12:\n",
    "    c = '오전'\n",
    "else:\n",
    "    c = '오후'\n",
    "    \n",
    "print(f'현재 시각은 {now.hour}시 {now.minute}분 {c}입니다.')\n",
    "    "
   ]
  },
  {
   "cell_type": "code",
   "execution_count": 42,
   "id": "2662f1f1",
   "metadata": {},
   "outputs": [
    {
     "name": "stdout",
     "output_type": "stream",
     "text": [
      "이번 달은 1월로 겨울입니다.\n"
     ]
    }
   ],
   "source": [
    "# 이번 달은 1월로 겨울 입니다.\n",
    "import datetime\n",
    "now = datetime.datetime.now()\n",
    "c = ''\n",
    "\n",
    "if 3<= now.month <=5:\n",
    "    c = '봄'\n",
    "    \n",
    "if 6<= now.month <= 8:\n",
    "    c = '여름'\n",
    "    \n",
    "if 9<= now.month <= 11:\n",
    "    c = '가을'\n",
    "\n",
    "if now.month == 12 or 1<=now.month<=2:\n",
    "    c = '겨울'\n",
    "\n",
    "\n",
    "print(f'이번 달은 {now.month}월로 {c}입니다.')"
   ]
  },
  {
   "cell_type": "code",
   "execution_count": 58,
   "id": "1515b518",
   "metadata": {},
   "outputs": [
    {
     "name": "stdout",
     "output_type": "stream",
     "text": [
      "정수를 입력하세요 >>> 11999\n",
      "홀수입니다.\n"
     ]
    }
   ],
   "source": [
    "# % 연산자를 사용하지 않고\n",
    "# 정수를 입력받아 그 수가 짝수인지 홀수인지 알려주는 프로그램\n",
    "\n",
    "n = input('정수를 입력하세요 >>> ')\n",
    "\n",
    "\n",
    "if n[-1] in '02468': # 마지막 자리수가 짝수이면 짝수이므로\n",
    "    print('짝수입니다.')\n",
    "else:\n",
    "    print('홀수입니다.')"
   ]
  },
  {
   "cell_type": "code",
   "execution_count": 59,
   "id": "787b4b7f",
   "metadata": {},
   "outputs": [
    {
     "name": "stdout",
     "output_type": "stream",
     "text": [
      "정수 입력 >>> 12\n"
     ]
    }
   ],
   "source": [
    "# pass\n",
    "\n",
    "number = int(input('정수 입력 >>> '))\n",
    "if number > 0:\n",
    "    pass\n",
    "else:\n",
    "    pass\n",
    "\n",
    "# 그냥 넘어가라는 표시"
   ]
  },
  {
   "cell_type": "code",
   "execution_count": 64,
   "id": "7e94b6e5",
   "metadata": {},
   "outputs": [
    {
     "name": "stdout",
     "output_type": "stream",
     "text": [
      "3\n",
      "4\n",
      "5\n"
     ]
    }
   ],
   "source": [
    "# 리스트와 반복문\n",
    "\n",
    "li = {1,2,3,4,5} # collection, mutable, ordered\n",
    "\n",
    "for i in li:\n",
    "    if i >= 3:\n",
    "        print(i)"
   ]
  },
  {
   "cell_type": "code",
   "execution_count": 66,
   "id": "03027892",
   "metadata": {},
   "outputs": [
    {
     "name": "stdout",
     "output_type": "stream",
     "text": [
      "이몽룡\n"
     ]
    }
   ],
   "source": [
    "# 딕셔너리와 반복문\n",
    "\n",
    "dict = {\n",
    "    1:'홍길동',\n",
    "    2:'이몽룡'\n",
    "}\n",
    "\n",
    "print(dict[2])"
   ]
  },
  {
   "cell_type": "code",
   "execution_count": 72,
   "id": "053523e4",
   "metadata": {},
   "outputs": [
    {
     "name": "stdout",
     "output_type": "stream",
     "text": [
      "1\n",
      "2\n",
      "홍길동\n",
      "이몽룡\n"
     ]
    }
   ],
   "source": [
    "for i in dict: # 키값 뽑아내기\n",
    "    print(i)\n",
    "    \n",
    "for i in dict: # value 값 뽑아내기\n",
    "    print(dict[i])"
   ]
  },
  {
   "cell_type": "code",
   "execution_count": 74,
   "id": "b5ac16bd",
   "metadata": {},
   "outputs": [
    {
     "data": {
      "text/plain": [
       "[0, 2, 4]"
      ]
     },
     "execution_count": 74,
     "metadata": {},
     "output_type": "execute_result"
    }
   ],
   "source": [
    "# for : 반복횟수를 정확히 알고 있을 때 주로 사용\n",
    "# while : 반복횟수를 정확히 알 수 없을 때 주로 사용\n",
    "\n",
    "list(range(0,5,2)) # 시작을 생략하면 0부터 5 미만 까지, 증감을 생략하면 1씩 증가"
   ]
  },
  {
   "cell_type": "code",
   "execution_count": 1,
   "id": "552feb8f",
   "metadata": {},
   "outputs": [
    {
     "name": "stdout",
     "output_type": "stream",
     "text": [
      "0번째 반복\n",
      "1번째 반복\n",
      "2번째 반복\n",
      "0번째 반복\n",
      "1번째 반복\n",
      "2번째 반복\n"
     ]
    }
   ],
   "source": [
    "# while로 한번\n",
    "# for로 한번\n",
    "\n",
    "# 0번째 반복\n",
    "# 1번째 반복\n",
    "\n",
    "for i in range(3):\n",
    "    print (f'{i}번째 반복')\n",
    "\n",
    "i = 0;\n",
    "while i < 3:\n",
    "    print(f'{i}번째 반복')\n",
    "    i += 1"
   ]
  },
  {
   "cell_type": "code",
   "execution_count": 5,
   "id": "4d3660d5",
   "metadata": {},
   "outputs": [
    {
     "name": "stdout",
     "output_type": "stream",
     "text": [
      "0번째 반복입니다.\n",
      "종료할까요(y) >> n\n",
      "1번째 반복입니다.\n",
      "종료할까요(y) >> n\n",
      "2번째 반복입니다.\n",
      "종료할까요(y) >> n\n",
      "3번째 반복입니다.\n",
      "종료할까요(y) >> n\n",
      "4번째 반복입니다.\n",
      "종료할까요(y) >> n\n",
      "5번째 반복입니다.\n",
      "종료할까요(y) >> y\n",
      "반복을 종료합니다.\n"
     ]
    }
   ],
   "source": [
    "# break / continue\n",
    "\n",
    "# break 반복문 종료\n",
    "\n",
    "i = 0\n",
    "\n",
    "while True:\n",
    "    print(f'{i}번째 반복입니다.')\n",
    "    i += 1\n",
    "          \n",
    "    inp = input('종료할까요(y) >> ')\n",
    "    if inp in ['Y', 'y']:\n",
    "          print('반복을 종료합니다.')\n",
    "          break"
   ]
  },
  {
   "cell_type": "code",
   "execution_count": 8,
   "id": "bb9695ad",
   "metadata": {},
   "outputs": [
    {
     "name": "stdout",
     "output_type": "stream",
     "text": [
      "1\n",
      "3\n",
      "5\n",
      "7\n",
      "9\n"
     ]
    }
   ],
   "source": [
    "# continue 현재 반복을 중지하고 다음 반복으로 넘어 갈때 사용\n",
    "# 전체 반복에서 부분을 빼고 실행할 때 주로 사용\n",
    "\n",
    "\n",
    "for num in range(1,11):\n",
    "    if  num % 2 == 0:\n",
    "        continue\n",
    "    print(num)"
   ]
  },
  {
   "cell_type": "code",
   "execution_count": 18,
   "id": "f8d118e7",
   "metadata": {},
   "outputs": [
    {
     "name": "stdout",
     "output_type": "stream",
     "text": [
      "1번 진구\n",
      "2번 철수\n",
      "3번 미애\n",
      "4번 형구\n",
      "5번 진수\n"
     ]
    }
   ],
   "source": [
    "# enumerate() 리스트의 요소를 반복할 때 인덱스가 몇 번쨰 인지 확인\n",
    "\n",
    "student = ['진구','철수','미애','형구','진수']\n",
    "\n",
    "# 0번 진구\n",
    "# 1번 철수\n",
    "# 2번 미애\n",
    "\n",
    "# num = 0\n",
    "# for i in student:\n",
    "#     print(f'{num}번 {i}')\n",
    "#     num += 1\n",
    "\n",
    "for no, name in enumerate(student): # 꺼내면서 넘버링까지 해준다.\n",
    "    print(f'{no+1}번 {name}')"
   ]
  },
  {
   "cell_type": "code",
   "execution_count": 21,
   "id": "ba3df4f6",
   "metadata": {},
   "outputs": [
    {
     "name": "stdout",
     "output_type": "stream",
     "text": [
      "홍길동의 키는 185입니다.\n",
      "이몽룡의 키는 189입니다.\n",
      "성춘향의 키는 168입니다.\n"
     ]
    }
   ],
   "source": [
    "# items() 딕셔너리는 items() 함수를 사용하여 key와 value 값을\n",
    "# 한번에 추출할 수 있다.\n",
    "\n",
    "\n",
    "dict = {\n",
    "    '홍길동':185,\n",
    "    '이몽룡':189,\n",
    "    '성춘향':168\n",
    "}\n",
    "\n",
    "# for i in dict:\n",
    "#     print(f'{i}의 키는 {dict[i]}입니다.')\n",
    "\n",
    "for name, height in dict.items(): # 딕셔너리에서 key와 value를 넘버링 하여 뽑아낸다.\n",
    "    print(f'{name}의 키는 {height}입니다.')\n"
   ]
  },
  {
   "cell_type": "code",
   "execution_count": 24,
   "id": "2d644ec3",
   "metadata": {},
   "outputs": [
    {
     "name": "stdout",
     "output_type": "stream",
     "text": [
      "[0, 2, 4, 6, 8, 10, 12, 14, 16, 18]\n"
     ]
    }
   ],
   "source": [
    "# 리스트 내포 list comprehensions\n",
    "\n",
    "array = []\n",
    "\n",
    "for i in range(0, 20, 2):\n",
    "    array.append(i)\n",
    "    \n",
    "print(array)"
   ]
  },
  {
   "cell_type": "code",
   "execution_count": 25,
   "id": "92ba8d41",
   "metadata": {},
   "outputs": [
    {
     "name": "stdout",
     "output_type": "stream",
     "text": [
      "[0, 2, 4, 6, 8, 10, 12, 14, 16, 18]\n"
     ]
    }
   ],
   "source": [
    "array = [i for i in range(0, 20, 2)]\n",
    "print(array)"
   ]
  },
  {
   "cell_type": "code",
   "execution_count": 27,
   "id": "b76beabb",
   "metadata": {},
   "outputs": [
    {
     "name": "stdout",
     "output_type": "stream",
     "text": [
      "['사과', '체리', '바나나']\n"
     ]
    }
   ],
   "source": [
    "array = ['사과','체리','바나나','과자']\n",
    "\n",
    "output = [i    for i in array   if i != '과자'] #조건을 설정할 수 있음\n",
    "\n",
    "print(output)"
   ]
  },
  {
   "cell_type": "code",
   "execution_count": 70,
   "id": "594faf9a",
   "metadata": {},
   "outputs": [
    {
     "name": "stdout",
     "output_type": "stream",
     "text": [
      "1\n",
      "2\n",
      "짝\n",
      "4\n",
      "5\n",
      "짝\n",
      "7\n",
      "8\n",
      "짝\n",
      "10\n",
      "11\n",
      "12\n",
      "짝\n",
      "14\n",
      "15\n",
      "짝\n",
      "17\n",
      "18\n",
      "짝\n",
      "20\n",
      "21\n",
      "22\n",
      "짝\n",
      "24\n",
      "25\n",
      "짝\n",
      "27\n",
      "28\n",
      "짝\n",
      "짝\n",
      "짝\n",
      "짝\n",
      "짝짝\n",
      "짝\n",
      "짝\n",
      "짝짝\n",
      "짝\n",
      "짝\n",
      "짝짝\n",
      "40\n",
      "41\n",
      "42\n",
      "짝\n",
      "44\n",
      "45\n",
      "짝\n",
      "47\n",
      "48\n",
      "짝\n",
      "50\n",
      "51\n",
      "52\n",
      "짝\n",
      "54\n",
      "55\n",
      "짝\n",
      "57\n",
      "58\n",
      "짝\n",
      "짝\n",
      "짝\n",
      "짝\n",
      "짝짝\n",
      "짝\n",
      "짝\n",
      "짝짝\n",
      "짝\n",
      "짝\n",
      "짝짝\n",
      "70\n",
      "71\n",
      "72\n",
      "짝\n",
      "74\n",
      "75\n",
      "짝\n",
      "77\n",
      "78\n",
      "짝\n",
      "80\n",
      "81\n",
      "82\n",
      "짝\n",
      "84\n",
      "85\n",
      "짝\n",
      "87\n",
      "88\n",
      "짝\n",
      "짝\n",
      "짝\n",
      "짝\n",
      "짝짝\n",
      "짝\n",
      "짝\n",
      "짝짝\n",
      "짝\n",
      "짝\n",
      "짝짝\n"
     ]
    }
   ],
   "source": [
    "# 1~99 까지 369게임\n",
    "\n",
    "# 1~99까지 범위를 정한다.\n",
    "# 3,6,9 가 들어가면 짝 출력\n",
    "# 문자열로 검사하기 위해 변환\n",
    "# 3,6,9 가 두번 들어가면 짝을 두번 출력해야 하므로\n",
    "# 다른 변수에 짝 개수 저장\n",
    "# 짝이 나오면 cnt + 1\n",
    "# cnt와 짝 곱한만큼 짝 출력\n",
    "\n",
    "for i in range(1,100):\n",
    "    s_i = str(i)\n",
    "    cnt = 0\n",
    "    for j in s_i:\n",
    "        if '3' in j or '6' in j or '9' in j:\n",
    "            cnt += 1\n",
    "    if cnt == 0:\n",
    "        print(s_i)\n",
    "    else:\n",
    "        print('짝' * cnt )\n",
    "        \n",
    "# 모양정리 다음에"
   ]
  },
  {
   "cell_type": "code",
   "execution_count": 50,
   "id": "c025d5b8",
   "metadata": {},
   "outputs": [
    {
     "name": "stdout",
     "output_type": "stream",
     "text": [
      "1 2\n"
     ]
    }
   ],
   "source": [
    "a = str(12)\n",
    "print(a[0],a[1])"
   ]
  }
 ],
 "metadata": {
  "kernelspec": {
   "display_name": "Python 3 (ipykernel)",
   "language": "python",
   "name": "python3"
  },
  "language_info": {
   "codemirror_mode": {
    "name": "ipython",
    "version": 3
   },
   "file_extension": ".py",
   "mimetype": "text/x-python",
   "name": "python",
   "nbconvert_exporter": "python",
   "pygments_lexer": "ipython3",
   "version": "3.9.7"
  }
 },
 "nbformat": 4,
 "nbformat_minor": 5
}
