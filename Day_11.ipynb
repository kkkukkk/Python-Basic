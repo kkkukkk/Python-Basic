{
  "nbformat": 4,
  "nbformat_minor": 0,
  "metadata": {
    "colab": {
      "name": "Day 11.ipynb",
      "provenance": [],
      "authorship_tag": "ABX9TyNqzJCO+SvWjAeAJho08TvX",
      "include_colab_link": true
    },
    "kernelspec": {
      "name": "python3",
      "display_name": "Python 3"
    },
    "language_info": {
      "name": "python"
    }
  },
  "cells": [
    {
      "cell_type": "markdown",
      "metadata": {
        "id": "view-in-github",
        "colab_type": "text"
      },
      "source": [
        "<a href=\"https://colab.research.google.com/github/kkkukkk/ai/blob/main/Day_11.ipynb\" target=\"_parent\"><img src=\"https://colab.research.google.com/assets/colab-badge.svg\" alt=\"Open In Colab\"/></a>"
      ]
    },
    {
      "cell_type": "code",
      "execution_count": 1,
      "metadata": {
        "colab": {
          "base_uri": "https://localhost:8080/"
        },
        "id": "bg7e-BQPkGrV",
        "outputId": "eaa00b7d-40ab-4555-fbe8-87fe041c5f7c"
      },
      "outputs": [
        {
          "output_type": "stream",
          "name": "stdout",
          "text": [
            "First Name : ab\n",
            "Hello ab\n"
          ]
        }
      ],
      "source": [
        "# 001 Ask for the user's first name and display the output message\n",
        "# (output) Hello [First Name]\n",
        "# (input) First Name :\n",
        "\n",
        "fname = input('First Name : ')\n",
        "print('Hello', fname)"
      ]
    },
    {
      "cell_type": "code",
      "source": [
        "# 002 Ask for the user's first name and then as for their surname and display the output message\n",
        "# (output) Hello [First Name] [Surname]\n",
        "# (input) please enter your surname\n",
        "# (input) please enter your firstname\n",
        "\n",
        "sname = input('Please enter your surname : ')\n",
        "fname = input('Please enter your firstname : ')\n",
        "\n",
        "print(f'Hello {fname} {sname}')"
      ],
      "metadata": {
        "colab": {
          "base_uri": "https://localhost:8080/"
        },
        "id": "dkcNccY_kp7Z",
        "outputId": "d3711946-8ba5-459b-d11d-7bea1bf2662a"
      },
      "execution_count": 3,
      "outputs": [
        {
          "output_type": "stream",
          "name": "stdout",
          "text": [
            "Please enter your surname : jinuk\n",
            "Please enter your firstname : park\n",
            "Hello park jinuk\n"
          ]
        }
      ]
    },
    {
      "cell_type": "code",
      "source": [
        "# 003 Ask the user to enter two numbers. Add them together and display the answer as\n",
        "# (output) The total is [answer]\n",
        "# (input)\n",
        "\n",
        "num1 = int(input('Please enter your first number : '))\n",
        "num2 = int(input('Please enter your second number : '))\n",
        "\n",
        "print(f'The total is {num1+num2}')"
      ],
      "metadata": {
        "colab": {
          "base_uri": "https://localhost:8080/"
        },
        "id": "fNtMGOyDltRl",
        "outputId": "dc18570f-cd20-4047-d530-75a3d797a4d2"
      },
      "execution_count": 5,
      "outputs": [
        {
          "output_type": "stream",
          "name": "stdout",
          "text": [
            "Please enter your first number : 1\n",
            "Please enter your second number : 2\n",
            "The total is 3\n"
          ]
        }
      ]
    },
    {
      "cell_type": "code",
      "source": [
        "# 004  Ask how many slices of pizza the user started with and ask how many slices they have eaten.\n",
        "# Work out how many slices they have left and display the answer\n",
        "\n",
        "\n",
        "pizza = int(input('Enter the number of slices of pizza you started with '))\n",
        "num = int(input('How many slices have you eaten? '))\n",
        "\n",
        "print(f'The answer is {pizza - num}')"
      ],
      "metadata": {
        "colab": {
          "base_uri": "https://localhost:8080/"
        },
        "id": "DOkgElO_nLwk",
        "outputId": "b4078d31-387d-4d37-bff6-d539d4bf188b"
      },
      "execution_count": 6,
      "outputs": [
        {
          "output_type": "stream",
          "name": "stdout",
          "text": [
            "Enter the number of slices of pizza you started with10\n",
            "How many slices have you eaten?5\n",
            "The answer is 5\n"
          ]
        }
      ]
    },
    {
      "cell_type": "code",
      "source": [
        "# 005 Write a program that will ask for a number of days and then will show \n",
        "# how many hours, minutes and seconds ar in that number of days\n",
        "\n",
        "days = int(input('Enter the number of days : '))\n",
        "\n",
        "hours = days*24\n",
        "minutes = days*24*60\n",
        "seconds = days*24*60*60\n",
        "\n",
        "print(f'In {days} days there are...\\n{hours} hours,\\n{minutes} minutes,\\n{seconds} seconds')"
      ],
      "metadata": {
        "colab": {
          "base_uri": "https://localhost:8080/"
        },
        "id": "oyCWz0JDo5Wc",
        "outputId": "5d6e8ba1-ed7f-40a8-9c0c-ee509a606cab"
      },
      "execution_count": 9,
      "outputs": [
        {
          "output_type": "stream",
          "name": "stdout",
          "text": [
            "Enter the number of days : 12\n",
            "In 12 days there are...\n",
            "288 hours,\n",
            "17280 minutes,\n",
            "1036800 seconds\n"
          ]
        }
      ]
    },
    {
      "cell_type": "code",
      "source": [
        "# 006 Task the user to enter a number over 100 and the enter a number\n",
        "# under 10 and tell them how many times the smaller number goes into the larger\n",
        "# number in a user-friendly format.\n",
        "\n",
        "num_l = int(input('Enter the number over 100 : '))\n",
        "num_s = int(input('Enter the number under 10 : '))\n",
        "\n",
        "print(f'{num_s} goes into {num_l} answer {num_l // num_s}')\n"
      ],
      "metadata": {
        "colab": {
          "base_uri": "https://localhost:8080/"
        },
        "id": "zPkZ0tresq7G",
        "outputId": "c4a0d106-8234-444b-bb1d-8b5630208572"
      },
      "execution_count": 12,
      "outputs": [
        {
          "output_type": "stream",
          "name": "stdout",
          "text": [
            "Enter the number over 100 : 100\n",
            "Enter the number under 10 : 7\n",
            "7 goes into 100 answer 14\n"
          ]
        }
      ]
    },
    {
      "cell_type": "code",
      "source": [
        "#007 \n",
        "# Ask for two numbers. If the first one is larger than the second, display the second number first and\n",
        "# then the first number, otherwise show the first number first and then the second.\n",
        "\n",
        "num1 = int(input('Enter first number : '))\n",
        "num2 = int(input('Enter second number : '))\n",
        "\n",
        "if num1 > num2:\n",
        "  print(f'{num1} {num2}')\n",
        "else:\n",
        "  print(f'{num2} {num1}')"
      ],
      "metadata": {
        "colab": {
          "base_uri": "https://localhost:8080/"
        },
        "id": "0eFtc8JDxxgb",
        "outputId": "2d562e8b-0a3e-4cc9-83d3-ce4742dcb701"
      },
      "execution_count": 14,
      "outputs": [
        {
          "output_type": "stream",
          "name": "stdout",
          "text": [
            "Enter first number : 3\n",
            "Enter second number : 2\n",
            "3 2\n"
          ]
        }
      ]
    },
    {
      "cell_type": "code",
      "source": [
        "# 008\n",
        "# Ask the user to enter a number between 10 and 20\n",
        "# If they enter a number within this range,\n",
        "# display the message 'Thank you' otherwise\n",
        "\n",
        "num = int(input('Enter a number between 10 and 20 '))\n",
        "\n",
        "if 10 <= num <= 20:\n",
        "  print('Thank you')\n",
        "else :\n",
        "  print('incorrect number')"
      ],
      "metadata": {
        "colab": {
          "base_uri": "https://localhost:8080/"
        },
        "id": "YroFxo6l2Bzy",
        "outputId": "13244e40-1683-4078-af77-7577826e0461"
      },
      "execution_count": 16,
      "outputs": [
        {
          "output_type": "stream",
          "name": "stdout",
          "text": [
            "Enter a number between 10 and 20 19\n",
            "Thank you\n"
          ]
        }
      ]
    },
    {
      "cell_type": "code",
      "source": [
        "# 009\n",
        "# Ask the user to enter their favorite color.\n",
        "# If they enter 'red', 'Red', or 'Red'\n",
        "# display the massage 'I like red too', otherwise display the message 'I don't like [color], I prefer red'\n",
        "\n",
        "color = input('Enter your favorite color ')\n",
        "\n",
        "# if color in ['red','RED','Red']:\n",
        "if color == 'red' or color == 'RED' or color == 'Red':\n",
        "  print (f'I like red too')\n",
        "else :\n",
        "  print(f'I don\\'t like {color}, I prefer red')"
      ],
      "metadata": {
        "colab": {
          "base_uri": "https://localhost:8080/"
        },
        "id": "TTJKZ22A4ZRK",
        "outputId": "00c3745a-f145-4432-f60c-1850d19450ef"
      },
      "execution_count": 21,
      "outputs": [
        {
          "output_type": "stream",
          "name": "stdout",
          "text": [
            "Enter your favorite color black\n",
            "I don't like black, I prefer red\n"
          ]
        }
      ]
    },
    {
      "cell_type": "code",
      "source": [
        "# Ask the user if it is raining and convert their to lower case so it doesn't matter\n",
        "# what case they it in. If they answer 'yes', ask if it is windy. \n",
        "# If they answer 'yes' to this second question,\n",
        "# display the answer 'It is too windy for an umbrella', otherwise\n",
        "# display the message 'Take an umbrelal' If they did not answer yes to the first question,\n",
        "# display the answer 'Enjoy your day'.\n",
        "\n",
        "wet = input('Is it raining? ')\n",
        "wet = wet.lower()\n",
        "\n",
        "if wet == 'yes':\n",
        "  win = input('Is it windy? ')\n",
        "  win = win.lower()\n",
        "  if win == 'yes':\n",
        "    print('It is too windy for an umbrella')\n",
        "  else:\n",
        "    print('Take an umbrella')\n",
        "else:\n",
        "  print('Enjoy your day')"
      ],
      "metadata": {
        "colab": {
          "base_uri": "https://localhost:8080/"
        },
        "id": "nCi3Zi5K5vD6",
        "outputId": "04b318b8-9138-4540-cda5-3bd1c8a84259"
      },
      "execution_count": 23,
      "outputs": [
        {
          "output_type": "stream",
          "name": "stdout",
          "text": [
            "Is it raining? YES\n",
            "Is it windy?\n",
            "Is it windy? YES\n",
            "It is too windy for an umbrella\n"
          ]
        }
      ]
    },
    {
      "cell_type": "code",
      "source": [
        "# Ask the user's age. If they are 18 or over, display the message 'You can vote',\n",
        "# if they are aged 17, display the message 'You can learn to drive', \n",
        "# if they are 16, display the message 'You can buy a lottery tickey',\n",
        "# if they are under 16, display the message 'You can go Trick or Treating'\n",
        "\n",
        "age = int(input('Enter your age : '))\n",
        "\n",
        "if age >= 18:\n",
        "  print('You can vote')\n",
        "elif age == 17:\n",
        "  print('You can learn to drive')\n",
        "elif age == 16:\n",
        "  print('You can buy a lottery ticket')\n",
        "else:\n",
        "  print('You can go Trick or Treating')"
      ],
      "metadata": {
        "colab": {
          "base_uri": "https://localhost:8080/"
        },
        "id": "NBU8LwVJB-4O",
        "outputId": "abc4224a-89cb-4088-8ad7-be4ea2a87645"
      },
      "execution_count": 26,
      "outputs": [
        {
          "output_type": "stream",
          "name": "stdout",
          "text": [
            "Enter your age : 145\n",
            "You can vote\n"
          ]
        }
      ]
    },
    {
      "cell_type": "code",
      "source": [
        "# Ask the user to enter their name and then dis[lay the length of their name\n",
        "\n",
        "name = input('Enter your name : ')\n",
        "print(len(name))"
      ],
      "metadata": {
        "colab": {
          "base_uri": "https://localhost:8080/"
        },
        "id": "jgUY6luCE0l0",
        "outputId": "1d41c2a7-8a75-4651-b213-c14c736d1080"
      },
      "execution_count": 27,
      "outputs": [
        {
          "output_type": "stream",
          "name": "stdout",
          "text": [
            "Enter your name박진욱\n",
            "3\n"
          ]
        }
      ]
    },
    {
      "cell_type": "code",
      "source": [
        "# Ask the user to enter their first name and lastname in lower case\n",
        "# Change the case to title case and join them together.\n",
        "# Display the case to title case and join them together.\n",
        "\n",
        "fname = input('Enter your first name : ')\n",
        "lname = input('Enter your last name : ')\n",
        "\n",
        "fname = fname.capitalize()\n",
        "lname = lname.capitalize()\n",
        "\n",
        "name = fname + \" \" + lname\n",
        "print(name)"
      ],
      "metadata": {
        "colab": {
          "base_uri": "https://localhost:8080/"
        },
        "id": "jg_c3WjtFUt9",
        "outputId": "ed017860-3a04-4b45-ffd4-5d0c956d4118"
      },
      "execution_count": 35,
      "outputs": [
        {
          "output_type": "stream",
          "name": "stdout",
          "text": [
            "Enter your first name : PARK\n",
            "Enter your last name : JINUK\n",
            "Park Jinuk\n"
          ]
        }
      ]
    },
    {
      "cell_type": "code",
      "source": [
        "# Ask the user to enter their first name. If the length of their first name is under five characters,\n",
        "# ask them to enter their last name and join them together (without a space) and display the name\n",
        "# in upper case, If the length of the first name is five or more characters, display their firstname in lower case\n",
        "\n",
        "fname = input('Enter your first name : ')\n",
        "\n",
        "if len(fname) < 5:\n",
        "  lname = input('Enter your last name : ')\n",
        "  name = (fname+lname).upper()\n",
        "else:\n",
        "  name = fname.lower()\n",
        "\n",
        "print(name)"
      ],
      "metadata": {
        "colab": {
          "base_uri": "https://localhost:8080/"
        },
        "id": "UzCm9ocxHhEI",
        "outputId": "d68b805f-43e9-4c79-d589-83ab0fe5a0c8"
      },
      "execution_count": 48,
      "outputs": [
        {
          "output_type": "stream",
          "name": "stdout",
          "text": [
            "Enter your first name : aadddd\n",
            "aadddd\n"
          ]
        }
      ]
    },
    {
      "cell_type": "code",
      "source": [
        "# Pig Latin takes the first character of a word\n",
        "# moves it to the end of the word and adds on an 'ay'.\n",
        "# If a word begins with a vowel you just add 'way' to the end.\n",
        "# ex) pig becomes igpay, banna becomes ananabay, and aadvark becomes\n",
        "# aaddvarkway.\n",
        "# Create a program that will ask the user to enter a word and\n",
        "# change it into Pig Latin. Make sure the new word is displalyed in lower case.\n",
        "\n",
        "word = input('Input word : ')\n",
        "\n",
        "if word[0] in {'a','e','i','o','u'}:\n",
        "  print((word+'way').lower())\n",
        "else:\n",
        "  print((word[1:]+word[0]+'ay').lower())"
      ],
      "metadata": {
        "colab": {
          "base_uri": "https://localhost:8080/"
        },
        "id": "mNcEkSaePXgT",
        "outputId": "e4d0e289-be0c-4b20-d4ac-2a6d98e08803"
      },
      "execution_count": 54,
      "outputs": [
        {
          "output_type": "stream",
          "name": "stdout",
          "text": [
            "Input word : dddbb\n",
            "ddbbday\n"
          ]
        }
      ]
    }
  ]
}