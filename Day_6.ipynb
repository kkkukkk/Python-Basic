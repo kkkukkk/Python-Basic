{
  "nbformat": 4,
  "nbformat_minor": 0,
  "metadata": {
    "colab": {
      "name": "Day 6.ipynb",
      "provenance": [],
      "collapsed_sections": [],
      "authorship_tag": "ABX9TyOys9DzJ2BV9BltGI8jtO2Y",
      "include_colab_link": true
    },
    "kernelspec": {
      "name": "python3",
      "display_name": "Python 3"
    },
    "language_info": {
      "name": "python"
    }
  },
  "cells": [
    {
      "cell_type": "markdown",
      "metadata": {
        "id": "view-in-github",
        "colab_type": "text"
      },
      "source": [
        "<a href=\"https://colab.research.google.com/github/kkkukkk/ai/blob/main/Day_6.ipynb\" target=\"_parent\"><img src=\"https://colab.research.google.com/assets/colab-badge.svg\" alt=\"Open In Colab\"/></a>"
      ]
    },
    {
      "cell_type": "code",
      "execution_count": 1,
      "metadata": {
        "colab": {
          "base_uri": "https://localhost:8080/",
          "height": 133
        },
        "id": "jkmFpnoC9Ykl",
        "outputId": "6e50e422-147e-4cbb-bb47-607a5b511fda"
      },
      "outputs": [
        {
          "output_type": "error",
          "ename": "SyntaxError",
          "evalue": "ignored",
          "traceback": [
            "\u001b[0;36m  File \u001b[0;32m\"<ipython-input-1-6278d4f35e17>\"\u001b[0;36m, line \u001b[0;32m10\u001b[0m\n\u001b[0;31m    print(' # 예외를 강제로 발생)\u001b[0m\n\u001b[0m                         ^\u001b[0m\n\u001b[0;31mSyntaxError\u001b[0m\u001b[0;31m:\u001b[0m EOL while scanning string literal\n"
          ]
        }
      ],
      "source": [
        "#####################\n",
        "# 예외처리\n",
        "#####################\n",
        "\n",
        "# 예외 처리 (에러 처리, 오류 처리, 버그 처리...)\n",
        "\n",
        "# 프로그램 실행 전에 발생하는 오류 - 구문 오류 syntax error\n",
        "# 프로그램 실행 중에 발생하는 오류 - 런타임 오류 runtime error, 예외 exception\n",
        "\n",
        "print(' # 예외를 강제로 발생)\n",
        "# EOL End of Line 실행 조차 되지 않는 오류\n",
        "# Syntax Error"
      ]
    },
    {
      "cell_type": "code",
      "source": [
        "print('프로그램이 시작되었습니다.')\n",
        "list[0]"
      ],
      "metadata": {
        "colab": {
          "base_uri": "https://localhost:8080/",
          "height": 203
        },
        "id": "FuUXxjlP-lWr",
        "outputId": "d5e76171-d6d3-48fe-e80e-840ac1412072"
      },
      "execution_count": 2,
      "outputs": [
        {
          "output_type": "stream",
          "name": "stdout",
          "text": [
            "프로그램이 시작되었습니다.\n"
          ]
        },
        {
          "output_type": "error",
          "ename": "TypeError",
          "evalue": "ignored",
          "traceback": [
            "\u001b[0;31m---------------------------------------------------------------------------\u001b[0m",
            "\u001b[0;31mTypeError\u001b[0m                                 Traceback (most recent call last)",
            "\u001b[0;32m<ipython-input-2-d3cf0e937ae4>\u001b[0m in \u001b[0;36m<module>\u001b[0;34m()\u001b[0m\n\u001b[1;32m      1\u001b[0m \u001b[0mprint\u001b[0m\u001b[0;34m(\u001b[0m\u001b[0;34m'프로그램이 시작되었습니다.'\u001b[0m\u001b[0;34m)\u001b[0m\u001b[0;34m\u001b[0m\u001b[0;34m\u001b[0m\u001b[0m\n\u001b[0;32m----> 2\u001b[0;31m \u001b[0mlist\u001b[0m\u001b[0;34m[\u001b[0m\u001b[0;36m0\u001b[0m\u001b[0;34m]\u001b[0m\u001b[0;34m\u001b[0m\u001b[0;34m\u001b[0m\u001b[0m\n\u001b[0m",
            "\u001b[0;31mTypeError\u001b[0m: 'type' object is not subscriptable"
          ]
        }
      ]
    },
    {
      "cell_type": "code",
      "source": [
        "num_input = int(input('정수 입력 >'))\n",
        "\n",
        "print('원의 반지름 : ', num_input)\n",
        "print('원의 둘레 : ', 2*3.14*num_input)\n",
        "print('원의 넓이 : ', 3.14 * num_input * num_input)"
      ],
      "metadata": {
        "colab": {
          "base_uri": "https://localhost:8080/",
          "height": 255
        },
        "id": "z-ZYM7ko_UYr",
        "outputId": "3a257990-989c-4b20-f42b-93897e86e50c"
      },
      "execution_count": 4,
      "outputs": [
        {
          "name": "stdout",
          "output_type": "stream",
          "text": [
            "정수 입력 >3센티\n"
          ]
        },
        {
          "output_type": "error",
          "ename": "ValueError",
          "evalue": "ignored",
          "traceback": [
            "\u001b[0;31m---------------------------------------------------------------------------\u001b[0m",
            "\u001b[0;31mValueError\u001b[0m                                Traceback (most recent call last)",
            "\u001b[0;32m<ipython-input-4-f9afab2a0d83>\u001b[0m in \u001b[0;36m<module>\u001b[0;34m()\u001b[0m\n\u001b[0;32m----> 1\u001b[0;31m \u001b[0mnum_input\u001b[0m \u001b[0;34m=\u001b[0m \u001b[0mint\u001b[0m\u001b[0;34m(\u001b[0m\u001b[0minput\u001b[0m\u001b[0;34m(\u001b[0m\u001b[0;34m'정수 입력 >'\u001b[0m\u001b[0;34m)\u001b[0m\u001b[0;34m)\u001b[0m\u001b[0;34m\u001b[0m\u001b[0;34m\u001b[0m\u001b[0m\n\u001b[0m\u001b[1;32m      2\u001b[0m \u001b[0;34m\u001b[0m\u001b[0m\n\u001b[1;32m      3\u001b[0m \u001b[0mprint\u001b[0m\u001b[0;34m(\u001b[0m\u001b[0;34m'원의 반지름 : '\u001b[0m\u001b[0;34m,\u001b[0m \u001b[0mnum_input\u001b[0m\u001b[0;34m)\u001b[0m\u001b[0;34m\u001b[0m\u001b[0;34m\u001b[0m\u001b[0m\n\u001b[1;32m      4\u001b[0m \u001b[0mprint\u001b[0m\u001b[0;34m(\u001b[0m\u001b[0;34m'원의 둘레 : '\u001b[0m\u001b[0;34m,\u001b[0m \u001b[0;36m2\u001b[0m\u001b[0;34m*\u001b[0m\u001b[0;36m3.14\u001b[0m\u001b[0;34m*\u001b[0m\u001b[0mnum_input\u001b[0m\u001b[0;34m)\u001b[0m\u001b[0;34m\u001b[0m\u001b[0;34m\u001b[0m\u001b[0m\n\u001b[1;32m      5\u001b[0m \u001b[0mprint\u001b[0m\u001b[0;34m(\u001b[0m\u001b[0;34m'원의 넓이 : '\u001b[0m\u001b[0;34m,\u001b[0m \u001b[0;36m3.14\u001b[0m \u001b[0;34m*\u001b[0m \u001b[0mnum_input\u001b[0m \u001b[0;34m*\u001b[0m \u001b[0mnum_input\u001b[0m\u001b[0;34m)\u001b[0m\u001b[0;34m\u001b[0m\u001b[0;34m\u001b[0m\u001b[0m\n",
            "\u001b[0;31mValueError\u001b[0m: invalid literal for int() with base 10: '3센티'"
          ]
        }
      ]
    },
    {
      "cell_type": "code",
      "source": [
        "# if로 예외 처리하기, 잘 안쓰이는 방법\n",
        "num_input = input('정수 입력>')\n",
        "\n",
        "if num_input.isdigit(): \n",
        "\n",
        "  num_a = int(num_input)\n",
        "\n",
        "  print('원의 반지름 : ', num_input)\n",
        "  print('원의 둘레 : ', 2*3.14*num_input)\n",
        "  print('원의 넓이 : ', 3.14 * num_input * num_input)\n",
        "\n",
        "else:\n",
        "  print('정수를 입력하세요')"
      ],
      "metadata": {
        "colab": {
          "base_uri": "https://localhost:8080/"
        },
        "id": "3qIqXvgaAtE1",
        "outputId": "d66cfac1-50db-4234-b56c-e007e7077a1f"
      },
      "execution_count": 7,
      "outputs": [
        {
          "output_type": "stream",
          "name": "stdout",
          "text": [
            "정수 입력>19센티\n",
            "정수를 입력하세요\n"
          ]
        }
      ]
    },
    {
      "cell_type": "code",
      "source": [
        "# try except 구문\n",
        "# 오류가 발생하면 except case로 \n",
        "\n",
        "try:\n",
        "  num_input = input('정수 입력>')\n",
        "\n",
        "  num_a = int(num_input)\n",
        "\n",
        "  print('원의 반지름 : ', num_input)\n",
        "  print('원의 둘레 : ', 2*3.14*num_input)\n",
        "  print('원의 넓이 : ', 3.14 * num_input * num_input)\n",
        "\n",
        "except:\n",
        "  print('정수를 입력하세요')"
      ],
      "metadata": {
        "id": "rj1V4ya5CzS8"
      },
      "execution_count": null,
      "outputs": []
    },
    {
      "cell_type": "code",
      "source": [
        "# 숫자만 추출하는 프로그램\n",
        "\n",
        "list_all = ['52','273','32','스파이','103']\n",
        "\n",
        "list_num = []\n",
        "\n",
        "for i in list_all:\n",
        "  try:\n",
        "    float(i)\n",
        "    list_num.append(i)\n",
        "\n",
        "  except:\n",
        "    pass\n",
        "\n",
        "print(list_num)\n",
        "\n"
      ],
      "metadata": {
        "colab": {
          "base_uri": "https://localhost:8080/"
        },
        "id": "ywCs9uMbDzZQ",
        "outputId": "b368387b-88dd-45a0-f5d2-8a59aa96825f"
      },
      "execution_count": 10,
      "outputs": [
        {
          "output_type": "stream",
          "name": "stdout",
          "text": [
            "['52', '273', '32', '103']\n"
          ]
        }
      ]
    },
    {
      "cell_type": "code",
      "source": [
        "try:\n",
        "# 예외가 발생할 가능성이 있는 코드\n",
        "except:\n",
        "# 예외가 발생할 때 실행할 코드\n",
        "else:\n",
        "# 예외가 발생하지 않았을 때 실행할 코드"
      ],
      "metadata": {
        "id": "K6pA27B_I4JL"
      },
      "execution_count": null,
      "outputs": []
    },
    {
      "cell_type": "code",
      "source": [
        "# try except finally\n",
        "try:\n",
        "  num = int(input(\"정수를 입력하세요 > \"))\n",
        "except:\n",
        "  print(\"정수를 입력하지 않았습니다.\")\n",
        "else :\n",
        "  print('입력한 정수는 ', num,'입니다.')\n",
        "\n",
        "\n",
        "\n",
        "# try except 구문에서 else는 다른 대부분의 언어에서는 없다. else 사용을 권장하지는 않는다.\n"
      ],
      "metadata": {
        "colab": {
          "base_uri": "https://localhost:8080/"
        },
        "id": "GJgQ7U-1JAlg",
        "outputId": "dcc19a34-213f-4384-83a3-f5018fa518ac"
      },
      "execution_count": 4,
      "outputs": [
        {
          "output_type": "stream",
          "name": "stdout",
          "text": [
            "정수를 입력하세요 > rmfwk\n",
            "정수를 입력하지 않았습니다.\n"
          ]
        }
      ]
    },
    {
      "cell_type": "code",
      "source": [
        "# finally\n",
        "\n",
        "try:\n",
        "# 예외가 발생할 가능성이 있는 코드\n",
        "except:\n",
        "# 예외가 발생할 때 실행할 코드\n",
        "else:\n",
        "# 예외가 발생하지 않았을 때 실행할 코드\n",
        "finally:\n",
        "# 항상 실행시킬 코드\n",
        "\n",
        "# try + except\n",
        "# try + except + else\n",
        "# try + except + finally\n",
        "# try + except + else + finally\n",
        "# try + finally\n"
      ],
      "metadata": {
        "id": "a47anJC9JFf2"
      },
      "execution_count": null,
      "outputs": []
    },
    {
      "cell_type": "code",
      "source": [
        "try:\n",
        "  num = int(input(\"정수를 입력하세요 > \"))\n",
        "except:\n",
        "  print(\"정수를 입력하지 않았습니다.\")\n",
        "else :\n",
        "  print('입력한 정수는', num,'입니다.')\n",
        "finally:\n",
        "  print('프로그램이 완전히 종료되었습니다.')  # 다른 언어에도 존재"
      ],
      "metadata": {
        "colab": {
          "base_uri": "https://localhost:8080/"
        },
        "id": "HN0F0ZebKaSk",
        "outputId": "0574000f-9af0-4221-a1b6-dc42fb880a76"
      },
      "execution_count": 7,
      "outputs": [
        {
          "output_type": "stream",
          "name": "stdout",
          "text": [
            "정수를 입력하세요 > 에러\n",
            "정수를 입력하지 않았습니다.\n",
            "프로그램이 완전히 종료되었습니다.\n"
          ]
        }
      ]
    },
    {
      "cell_type": "code",
      "source": [
        "def test():\n",
        "  print('test()함수의 첫 줄입니다.')\n",
        "  try:\n",
        "    print('try 구문이 실행되었습니다.')\n",
        "    return\n",
        "    print('try 구문의 return 아래입니다.')\n",
        "  except:\n",
        "    print('except 구문이 실행되었습니다.')\n",
        "  else:\n",
        "    print('else 구문이 실행되었습니다.')\n",
        "  finally:\n",
        "    print('finally 구문이 실행되었습니다.')\n",
        "  print('test()함수의 마지막 줄입니다.')\n",
        "\n",
        "test()\n",
        "# return위까지의 구문과 finally 구문만 실행됨"
      ],
      "metadata": {
        "colab": {
          "base_uri": "https://localhost:8080/"
        },
        "id": "BErO1bSZLv9W",
        "outputId": "ae4e0a02-aaa4-42f5-f938-0578a3fb908a"
      },
      "execution_count": 8,
      "outputs": [
        {
          "output_type": "stream",
          "name": "stdout",
          "text": [
            "test()함수의 첫 줄입니다.\n",
            "try 구문이 실행되었습니다.\n",
            "finally 구문이 실행되었습니다.\n"
          ]
        }
      ]
    },
    {
      "cell_type": "code",
      "source": [
        "# 예외 만들기\n",
        "\n",
        "class MyError(Exception): # 상속\n",
        "  pass\n",
        "\n",
        "def say_nick(nick):\n",
        "  if nick == '바보':\n",
        "    raise MyError()\n",
        "  print(nick)\n",
        "\n",
        "try:\n",
        "  say_nick('천사')\n",
        "  say_nick('바보')\n",
        "except MyError:\n",
        "  print('허용되지 않은 별명입니다.')\n"
      ],
      "metadata": {
        "colab": {
          "base_uri": "https://localhost:8080/"
        },
        "id": "J9fPCFa2NYLz",
        "outputId": "9c71bf00-c5b7-46ab-a147-8145f995ef93"
      },
      "execution_count": 11,
      "outputs": [
        {
          "output_type": "stream",
          "name": "stdout",
          "text": [
            "천사\n",
            "허용되지 않은 별명입니다.\n"
          ]
        }
      ]
    }
  ]
}