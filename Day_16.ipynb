{
  "nbformat": 4,
  "nbformat_minor": 0,
  "metadata": {
    "colab": {
      "name": "Day 16.ipynb",
      "provenance": [],
      "collapsed_sections": [],
      "authorship_tag": "ABX9TyOEOixeRbBX+dYNk+PYUrEF",
      "include_colab_link": true
    },
    "kernelspec": {
      "name": "python3",
      "display_name": "Python 3"
    },
    "language_info": {
      "name": "python"
    }
  },
  "cells": [
    {
      "cell_type": "markdown",
      "metadata": {
        "id": "view-in-github",
        "colab_type": "text"
      },
      "source": [
        "<a href=\"https://colab.research.google.com/github/kkkukkk/ai/blob/main/Day_16.ipynb\" target=\"_parent\"><img src=\"https://colab.research.google.com/assets/colab-badge.svg\" alt=\"Open In Colab\"/></a>"
      ]
    },
    {
      "cell_type": "code",
      "execution_count": null,
      "metadata": {
        "colab": {
          "base_uri": "https://localhost:8080/"
        },
        "id": "S8j-LFpQNz1v",
        "outputId": "25d29225-acf3-40c4-c7d5-18185e70d6d7"
      },
      "outputs": [
        {
          "output_type": "execute_result",
          "data": {
            "text/plain": [
              "21"
            ]
          },
          "metadata": {},
          "execution_count": 2
        }
      ],
      "source": [
        "# Fibonacci\n",
        "\n",
        "#1 일반식\n",
        "\n",
        "def fib(n): # n 번째의 피보나치 수열 값을 찾는 함수\n",
        "  a,b = 1,1\n",
        "  if n ==1 or n==2: # 1번째와 2번째의 값은 1\n",
        "    return 1\n",
        "  for i in range(1,n): # 1번째 부터 n번째 까지\n",
        "    a,b = b,a+b\n",
        "  return a\n",
        "\n",
        "fib(8)"
      ]
    },
    {
      "cell_type": "code",
      "source": [
        "# 2 재귀 Recursive\n",
        "\n",
        "def fib(n) : # n번째의 피보나치 수열 값을 찾는 함수\n",
        "  if n == 1 or n == 2:\n",
        "    return 1\n",
        "  else:\n",
        "    return fib(n-1) + fib(n-2)\n",
        "\n",
        "fib(4)"
      ],
      "metadata": {
        "colab": {
          "base_uri": "https://localhost:8080/"
        },
        "id": "DuY4xwftQZkE",
        "outputId": "d21a897d-d6ad-4cf0-f900-98f1fbf4369f"
      },
      "execution_count": null,
      "outputs": [
        {
          "output_type": "execute_result",
          "data": {
            "text/plain": [
              "3"
            ]
          },
          "metadata": {},
          "execution_count": 3
        }
      ]
    },
    {
      "cell_type": "code",
      "source": [
        "# 3 람다\n",
        "\n",
        "fib = lambda n: 1 if n <=2 else fib(n-1) + fib(n-2)\n",
        "fib(5)"
      ],
      "metadata": {
        "id": "kYGyvedfYgDM"
      },
      "execution_count": null,
      "outputs": []
    },
    {
      "cell_type": "code",
      "source": [
        "list = []\n",
        "\n",
        "def fib(n):\n",
        "  x,y = 0,1\n",
        "  if n == 1 or n == 2:\n",
        "    list.append(n)\n",
        "  for i in range(1,n+1):\n",
        "    x,y = y,x+y\n",
        "    list.append(x)\n",
        "  return list\n",
        "\n",
        "fib(10)\n"
      ],
      "metadata": {
        "colab": {
          "base_uri": "https://localhost:8080/"
        },
        "id": "GIjK6gcSYgJ8",
        "outputId": "d56be717-2993-4ac1-89ad-52bcbd9c55fc"
      },
      "execution_count": null,
      "outputs": [
        {
          "output_type": "execute_result",
          "data": {
            "text/plain": [
              "[1, 1, 2, 3, 5, 8, 13, 21, 34, 55]"
            ]
          },
          "metadata": {},
          "execution_count": 14
        }
      ]
    },
    {
      "cell_type": "code",
      "source": [
        "# 2D lists 2차원 리스트 vs pandas's dataframe\n",
        "#           math    korean\n",
        "# austin    90         80\n",
        "# rick       80         85\n",
        "# andy    100         70\n",
        "\n",
        "grade = [[90,80],[80,85],[100,70]]\n",
        "\n",
        "grade[2][0]"
      ],
      "metadata": {
        "colab": {
          "base_uri": "https://localhost:8080/"
        },
        "id": "RotcT1yTYr6T",
        "outputId": "1c76a018-a29f-49d1-fb61-075b12419a7e"
      },
      "execution_count": null,
      "outputs": [
        {
          "output_type": "execute_result",
          "data": {
            "text/plain": [
              "100"
            ]
          },
          "metadata": {},
          "execution_count": 15
        }
      ]
    },
    {
      "cell_type": "code",
      "source": [
        "# Ask the user to enter the name, age and shoe size for four people.\n",
        "# Ask for the name of one of people in the list and\n",
        "# display their age and shoe size\n",
        "\n",
        "info = []\n",
        "for i in range(4):\n",
        "  n = input('Enter your name : ')\n",
        "  a = input('Enter your age : ')\n",
        "  s = input('Enter your shoe size : ')\n",
        "  info.append([n,a,s])\n",
        "ask = input('Enter name of people : ')\n",
        "for i in info:\n",
        "  if i[0]==ask:\n",
        "    print(f'Age is : {i[1]}')\n",
        "    print(f'Shoe size is : {i[2]}')"
      ],
      "metadata": {
        "colab": {
          "base_uri": "https://localhost:8080/"
        },
        "id": "wQeXR1-JZrWy",
        "outputId": "031d6d32-0af6-4f92-a3a5-f4e47e38ece8"
      },
      "execution_count": null,
      "outputs": [
        {
          "output_type": "stream",
          "name": "stdout",
          "text": [
            "Enter your name : 1\n",
            "Enter your age : 2\n",
            "Enter your shoe size3\n",
            "Enter your name : 4\n",
            "Enter your age : 5\n",
            "Enter your shoe size6\n",
            "Enter your name : 7\n",
            "Enter your age : 8\n",
            "Enter your shoe size9\n",
            "Enter your name : 10\n",
            "Enter your age : 11\n",
            "Enter your shoe size12\n",
            "Enter name of people : 4\n",
            "Age is : 5\n",
            "Shoe size is : 6\n"
          ]
        }
      ]
    },
    {
      "cell_type": "code",
      "source": [
        "# After gathering the four names, ages and shoe sizes,\n",
        "# ask the user to enter the name of person they want to move from the dict.\n",
        "# Delete this row from the data and display the other rows on seperate lines.\n",
        "\n",
        "dict = {}\n",
        "for i in range(3):\n",
        "  n = input('Enter your name : ')\n",
        "  a = input('Enter your age : ')\n",
        "  s = input('Enter your shoe size : ')\n",
        "  dict[n]={'Age':a,'Shoe':s}\n",
        "ask = input('Enter the name of people : ')\n",
        "del(dict[ask])\n",
        "\n",
        "for i in dict:\n",
        "  print(i, dict[i]['Age'], dict[i]['Shoe'])"
      ],
      "metadata": {
        "colab": {
          "base_uri": "https://localhost:8080/"
        },
        "id": "JYf4UKaUdQfW",
        "outputId": "cbc08350-5e9f-45a4-d9bf-dc410fe1e456"
      },
      "execution_count": null,
      "outputs": [
        {
          "output_type": "stream",
          "name": "stdout",
          "text": [
            "Enter your name : a\n",
            "Enter your age : 2\n",
            "Enter your shoe size : 3\n",
            "Enter your name : b\n",
            "Enter your age : 2\n",
            "Enter your shoe size : 3\n",
            "Enter your name : c\n",
            "Enter your age : 2\n",
            "Enter your shoe size : 3\n",
            "Enter the name of people : b\n",
            "a 2 3\n",
            "c 2 3\n"
          ]
        }
      ]
    },
    {
      "cell_type": "code",
      "source": [
        "# Reading and Writing to a File\n",
        "\n",
        "# It is all very well being able to define a list, make changes and add new data,\n",
        "# but if the next time the probram is run it returns to the original data and your\n",
        "# changes are lost then it is not a lot of use.\n",
        "# Therefore, It is sometimes necessary to save the data outside of the program\n",
        "# and this way the data can be stored.\n",
        "# along with any changes that are made.\n",
        "\n",
        "# write\n",
        "file = open('Countries.txt', 'w')\n",
        "file.write('Italy\\n')\n",
        "file.write('Germany\\n')\n",
        "file.write('Spain\\n')\n",
        "file.close()"
      ],
      "metadata": {
        "id": "XiD-fHlwgIrN"
      },
      "execution_count": null,
      "outputs": []
    },
    {
      "cell_type": "code",
      "source": [
        "# read\n",
        "file = open('Countries.txt','r')\n",
        "print(file.read())"
      ],
      "metadata": {
        "colab": {
          "base_uri": "https://localhost:8080/"
        },
        "id": "uPs6YgH0heS7",
        "outputId": "70c1f81d-f2d2-4e29-aef3-a340f4e57dee"
      },
      "execution_count": null,
      "outputs": [
        {
          "output_type": "stream",
          "name": "stdout",
          "text": [
            "Italy\n",
            "Germany\n",
            "Spain\n",
            "France\n",
            "\n"
          ]
        }
      ]
    },
    {
      "cell_type": "code",
      "source": [
        "# 수정\n",
        "file = open('Countries.txt','a')\n",
        "file.write('France\\n')\n",
        "file.close()"
      ],
      "metadata": {
        "id": "QT8cTc-5h4IR"
      },
      "execution_count": null,
      "outputs": []
    },
    {
      "cell_type": "code",
      "source": [
        "while True :\n",
        "  print('----------------------------------')\n",
        "  print('1) Create a new file')\n",
        "  print('2) Display the file')\n",
        "  print('3) Add a new item to the file')\n",
        "  print('----------------------------------')\n",
        "  sel = int(input('Make a selection 1,2, or 3, if you want to quit, enter 4 : '))\n",
        "  if sel == 1:\n",
        "    sub = input('Enter the subject name : ')\n",
        "    try:\n",
        "      file = open(f'{sub}.txt','x')\n",
        "      file.close()\n",
        "      print('Complete!')\n",
        "    except:\n",
        "      print('File already exists Please enter another name!')\n",
        "  elif sel == 2:\n",
        "    name = input('Enter the file name : ')\n",
        "    file = open(f'{name}.txt','r')\n",
        "    print(file.read(),'\\n')\n",
        "  elif sel == 3:\n",
        "    ask = input('Enter a file name : ')\n",
        "    file = open(f'{ask}.txt','a')\n",
        "    todo = input('Enter anything you want to append in file : ')\n",
        "    file.write(f'{todo}\\n')\n",
        "    file.close()\n",
        "    file = open(f'{ask}.txt','r')\n",
        "    print(file.read(),'\\n')\n",
        "  elif sel == 4:\n",
        "    print('Bye!')\n",
        "    break\n",
        "  else:\n",
        "    print('Please select 1,2,3 or 4')"
      ],
      "metadata": {
        "colab": {
          "base_uri": "https://localhost:8080/"
        },
        "id": "VBzhW3OfiWfx",
        "outputId": "e828282c-bfde-4624-f696-1e1216087916"
      },
      "execution_count": 31,
      "outputs": [
        {
          "output_type": "stream",
          "name": "stdout",
          "text": [
            "----------------------------------\n",
            "1) Create a new file\n",
            "2) Display the file\n",
            "3) Add a new item to the file\n",
            "----------------------------------\n",
            "Make a selection 1,2, or 3, if you want to quit, enter 4 : 4\n",
            "Bye!\n"
          ]
        }
      ]
    }
  ]
}