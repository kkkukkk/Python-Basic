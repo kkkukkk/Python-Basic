{
  "nbformat": 4,
  "nbformat_minor": 0,
  "metadata": {
    "colab": {
      "name": "Day 1.ipynb",
      "provenance": [],
      "collapsed_sections": [],
      "authorship_tag": "ABX9TyPhh0eENcNj8MyTnywUUKBy",
      "include_colab_link": true
    },
    "kernelspec": {
      "name": "python3",
      "display_name": "Python 3"
    },
    "language_info": {
      "name": "python"
    }
  },
  "cells": [
    {
      "cell_type": "markdown",
      "metadata": {
        "id": "view-in-github",
        "colab_type": "text"
      },
      "source": [
        "<a href=\"https://colab.research.google.com/github/kkkukkk/ai/blob/main/Day_1.ipynb\" target=\"_parent\"><img src=\"https://colab.research.google.com/assets/colab-badge.svg\" alt=\"Open In Colab\"/></a>"
      ]
    },
    {
      "cell_type": "code",
      "execution_count": 6,
      "metadata": {
        "colab": {
          "base_uri": "https://localhost:8080/"
        },
        "id": "q3xH1rU8w93A",
        "outputId": "77ce44a4-f9f5-4a96-d0bb-11ead3bca397"
      },
      "outputs": [
        {
          "output_type": "stream",
          "name": "stdout",
          "text": [
            "Hellow World\n"
          ]
        }
      ],
      "source": [
        "'''\n",
        "작성자 : 박진욱\n",
        "작성일 : 2022-01-25\n",
        "버전 : 0.1\n",
        "'''\n",
        "\n",
        "\"\"\"\n",
        "작성자 : 박진욱\n",
        "작성일 : 2022-01-25\n",
        "버전 : 0.1\n",
        "\"\"\"\n",
        "\n",
        "# 보통 삼중 따옴표 주석은 \n",
        "# 여러줄을 주석으로 \n",
        "# 사용할 때 사용한다.\n",
        "\n",
        "# 주석 붙이는 위치\n",
        "print('Hellow World') # 보통 행의 우측 또는 위에 주석을 붙인다.\n",
        "\n",
        "\n"
      ]
    },
    {
      "cell_type": "code",
      "source": [
        "################\n",
        "# 변수 Variable\n",
        "################\n",
        "\n",
        "score = 200 #score 변수에 200 값 저장\n",
        "print(score)#score 변수에 저장된 값 출력\n",
        "\n",
        "score = 300\n",
        "\n",
        "print(score)"
      ],
      "metadata": {
        "colab": {
          "base_uri": "https://localhost:8080/"
        },
        "id": "g_6UFzzJ_YIF",
        "outputId": "49e0b7ec-57c9-4c23-9f72-44bdb8994c4e"
      },
      "execution_count": 8,
      "outputs": [
        {
          "output_type": "stream",
          "name": "stdout",
          "text": [
            "200\n",
            "300\n"
          ]
        }
      ]
    },
    {
      "cell_type": "code",
      "source": [
        "a = 1\n",
        "A = 2\n",
        "\n",
        "print(a)\n",
        "print(A)"
      ],
      "metadata": {
        "colab": {
          "base_uri": "https://localhost:8080/"
        },
        "id": "FwYGY0ztAgKW",
        "outputId": "25b3ae51-b1be-4574-af97-b7ce792cf3b2"
      },
      "execution_count": 10,
      "outputs": [
        {
          "output_type": "stream",
          "name": "stdout",
          "text": [
            "1\n",
            "2\n"
          ]
        }
      ]
    },
    {
      "cell_type": "code",
      "source": [
        "a1 = 'hi'\n",
        "print(a1)"
      ],
      "metadata": {
        "colab": {
          "base_uri": "https://localhost:8080/"
        },
        "id": "8oN41jDpAizP",
        "outputId": "7376d3bd-294c-47f3-a6e6-eed6d9ee31ed"
      },
      "execution_count": 12,
      "outputs": [
        {
          "output_type": "stream",
          "name": "stdout",
          "text": [
            "hi\n"
          ]
        }
      ]
    },
    {
      "cell_type": "code",
      "source": [
        "1a = 'hi' #변수명 앞에 숫자가 붙으면 오류\n",
        "print(1a)"
      ],
      "metadata": {
        "colab": {
          "base_uri": "https://localhost:8080/",
          "height": 136
        },
        "id": "CcFbx9XyA1pl",
        "outputId": "b3aa125d-0596-4193-f1a8-615eaa19d596"
      },
      "execution_count": 14,
      "outputs": [
        {
          "output_type": "error",
          "ename": "SyntaxError",
          "evalue": "ignored",
          "traceback": [
            "\u001b[0;36m  File \u001b[0;32m\"<ipython-input-14-f75e95cdb916>\"\u001b[0;36m, line \u001b[0;32m1\u001b[0m\n\u001b[0;31m    1a = 'hi'\u001b[0m\n\u001b[0m     ^\u001b[0m\n\u001b[0;31mSyntaxError\u001b[0m\u001b[0;31m:\u001b[0m invalid syntax\n"
          ]
        }
      ]
    },
    {
      "cell_type": "code",
      "source": [
        "a = 20\n",
        "b = 1500\n",
        "\n",
        "student_avg = 20\n",
        "math_sum = 1500\n"
      ],
      "metadata": {
        "id": "nu3q7w_7Bf_L"
      },
      "execution_count": 15,
      "outputs": []
    },
    {
      "cell_type": "code",
      "source": [
        "name = 'Alice'\n",
        "age = 25\n",
        "adress = '''우편번호 12345\n",
        "서울시 영등포구 여의도동\n",
        "서울빌딩 501호'''\n",
        "boyfriend = None\n",
        "height = 168.5\n",
        "\n",
        "print(name)\n",
        "print(age)\n",
        "print(address)\n",
        "print(boyfriend)\n",
        "print(height)\n"
      ],
      "metadata": {
        "colab": {
          "base_uri": "https://localhost:8080/",
          "height": 282
        },
        "id": "kyYeJ6RrCoyq",
        "outputId": "9bc10c2b-e841-42a5-d54e-0c0bb9efefe0"
      },
      "execution_count": 18,
      "outputs": [
        {
          "output_type": "stream",
          "name": "stdout",
          "text": [
            "Alice\n",
            "25\n"
          ]
        },
        {
          "output_type": "error",
          "ename": "NameError",
          "evalue": "ignored",
          "traceback": [
            "\u001b[0;31m---------------------------------------------------------------------------\u001b[0m",
            "\u001b[0;31mNameError\u001b[0m                                 Traceback (most recent call last)",
            "\u001b[0;32m<ipython-input-18-778ca4c19933>\u001b[0m in \u001b[0;36m<module>\u001b[0;34m()\u001b[0m\n\u001b[1;32m      9\u001b[0m \u001b[0mprint\u001b[0m\u001b[0;34m(\u001b[0m\u001b[0mname\u001b[0m\u001b[0;34m)\u001b[0m\u001b[0;34m\u001b[0m\u001b[0;34m\u001b[0m\u001b[0m\n\u001b[1;32m     10\u001b[0m \u001b[0mprint\u001b[0m\u001b[0;34m(\u001b[0m\u001b[0mage\u001b[0m\u001b[0;34m)\u001b[0m\u001b[0;34m\u001b[0m\u001b[0;34m\u001b[0m\u001b[0m\n\u001b[0;32m---> 11\u001b[0;31m \u001b[0mprint\u001b[0m\u001b[0;34m(\u001b[0m\u001b[0maddress\u001b[0m\u001b[0;34m)\u001b[0m\u001b[0;34m\u001b[0m\u001b[0;34m\u001b[0m\u001b[0m\n\u001b[0m\u001b[1;32m     12\u001b[0m \u001b[0mprint\u001b[0m\u001b[0;34m(\u001b[0m\u001b[0mboyfriend\u001b[0m\u001b[0;34m)\u001b[0m\u001b[0;34m\u001b[0m\u001b[0;34m\u001b[0m\u001b[0m\n\u001b[1;32m     13\u001b[0m \u001b[0mprint\u001b[0m\u001b[0;34m(\u001b[0m\u001b[0mheight\u001b[0m\u001b[0;34m)\u001b[0m\u001b[0;34m\u001b[0m\u001b[0;34m\u001b[0m\u001b[0m\n",
            "\u001b[0;31mNameError\u001b[0m: name 'address' is not defined"
          ]
        }
      ]
    },
    {
      "cell_type": "code",
      "source": [
        "###################\n",
        "# 기본 자료형 type\n",
        "###################\n",
        "\n",
        "a = int(1.9)\n",
        "print(a)\n",
        "\n",
        "b = int(True)\n",
        "print(b)\n",
        "\n",
        "c = int(False)\n",
        "print(c)"
      ],
      "metadata": {
        "colab": {
          "base_uri": "https://localhost:8080/"
        },
        "id": "6f0PVZuTDwte",
        "outputId": "b82e1085-5011-40c2-e13a-4bda0aeb98ed"
      },
      "execution_count": 21,
      "outputs": [
        {
          "output_type": "stream",
          "name": "stdout",
          "text": [
            "1\n",
            "1\n",
            "0\n"
          ]
        }
      ]
    },
    {
      "cell_type": "code",
      "source": [
        "a = 100\n",
        "b = '100'\n",
        "print(type(a))\n",
        "print(type(b))\n",
        "\n",
        "print(a)\n",
        "print(b)\n",
        "print(a==b)\n",
        "\n",
        "c = int(b)\n",
        "print(type(c))\n",
        "print(a==c)\n"
      ],
      "metadata": {
        "colab": {
          "base_uri": "https://localhost:8080/"
        },
        "id": "Pe5sxui5E8rP",
        "outputId": "6c76e0fd-75c0-4e47-e0d2-a2ab3640e96e"
      },
      "execution_count": 32,
      "outputs": [
        {
          "output_type": "stream",
          "name": "stdout",
          "text": [
            "<class 'int'>\n",
            "<class 'str'>\n",
            "100\n",
            "100\n",
            "False\n",
            "<class 'int'>\n",
            "True\n"
          ]
        }
      ]
    },
    {
      "cell_type": "code",
      "source": [
        "# 실수 float\n",
        "\n",
        "a = float(1)\n",
        "print(a)\n",
        "\n",
        "b = float(True)\n",
        "print(b)\n",
        "\n",
        "c = float('3.14')\n",
        "print(c)\n",
        "\n",
        "d = float('100')\n",
        "print(d)\n"
      ],
      "metadata": {
        "colab": {
          "base_uri": "https://localhost:8080/"
        },
        "id": "bArFBxr9GZy2",
        "outputId": "708951c3-d963-4e0b-d094-eb8983fd4baf"
      },
      "execution_count": 39,
      "outputs": [
        {
          "output_type": "stream",
          "name": "stdout",
          "text": [
            "1.0\n",
            "1.0\n",
            "3.14\n",
            "100.0\n"
          ]
        }
      ]
    },
    {
      "cell_type": "code",
      "source": [
        "# bool 논리 True or False\n",
        "\n",
        "a = bool(0)\n",
        "print(a)\n",
        "\n",
        "b = bool()\n",
        "print(b)\n",
        "\n",
        "c = bool([])\n",
        "print(c)\n",
        "\n",
        "d = bool([100]) #bool형은 값이 존재하면 True, *bool형은 대문자*\n",
        "print(d)"
      ],
      "metadata": {
        "colab": {
          "base_uri": "https://localhost:8080/"
        },
        "id": "rHqsU6WqaWhK",
        "outputId": "32e0fce1-5d0e-4693-e146-8c4f1f671ed3"
      },
      "execution_count": 47,
      "outputs": [
        {
          "output_type": "stream",
          "name": "stdout",
          "text": [
            "False\n",
            "False\n",
            "False\n",
            "True\n"
          ]
        }
      ]
    },
    {
      "cell_type": "code",
      "source": [
        "################\n",
        "# 문자열 String\n",
        "################\n",
        "\n",
        "a = '대한민국'\n",
        "a = \"대한민국\"\n",
        "\n",
        "b = str(100)\n",
        "print(b)\n",
        "print(type(b))\n",
        "\n",
        "c = str(True)\n",
        "print(c)\n",
        "print(type(c))"
      ],
      "metadata": {
        "colab": {
          "base_uri": "https://localhost:8080/"
        },
        "id": "k4ylU1-RbN7X",
        "outputId": "cea64089-988d-4ee8-dd92-6c11a69455a6"
      },
      "execution_count": 51,
      "outputs": [
        {
          "output_type": "stream",
          "name": "stdout",
          "text": [
            "100\n",
            "<class 'str'>\n",
            "True\n",
            "<class 'str'>\n"
          ]
        }
      ]
    },
    {
      "cell_type": "code",
      "source": [
        "# 문자열 인덱싱\n",
        "\n",
        "# hello 파이썬은 0에서 시작한다.\n",
        "\n",
        "\n",
        "s = 'Hello'\n",
        "print(s[4])  # -> o는 4번째 인덱스\n",
        "\n",
        "print(s[-1]) # 거꾸로 표현해도 동일한 위치가 나온다.(마지막 index는 -1)\n",
        "print(s[-5])\n",
        "\n",
        "print(s[-5]==s[0])\n",
        "\n",
        "ss = \"990211-1005432\"\n",
        "print(ss[7])"
      ],
      "metadata": {
        "colab": {
          "base_uri": "https://localhost:8080/"
        },
        "id": "nASwzUBLa5b6",
        "outputId": "ebd142e7-9533-4a55-a2d3-5ac299501b5e"
      },
      "execution_count": 57,
      "outputs": [
        {
          "output_type": "stream",
          "name": "stdout",
          "text": [
            "o\n",
            "o\n",
            "H\n",
            "True\n",
            "1\n"
          ]
        }
      ]
    },
    {
      "cell_type": "code",
      "source": [
        "ss = \"990211-1005432\"\n",
        "print(ss[0:2]) # 0번째 부터 2번째 미만까지...[start:stop:step]\n",
        "print(ss[0:2]) # step 은 생략 가능...\n",
        "print(ss[0:10:2]) # step 은 생략 가능..."
      ],
      "metadata": {
        "colab": {
          "base_uri": "https://localhost:8080/"
        },
        "id": "t7Gdr07eeh0x",
        "outputId": "320ca0a6-d3df-4db5-fd34-237b68f3daff"
      },
      "execution_count": 64,
      "outputs": [
        {
          "output_type": "stream",
          "name": "stdout",
          "text": [
            "99\n",
            "99\n",
            "901-0\n"
          ]
        }
      ]
    },
    {
      "cell_type": "code",
      "source": [
        "# print\n",
        "\n",
        "print('Hello 'World'')"
      ],
      "metadata": {
        "colab": {
          "base_uri": "https://localhost:8080/",
          "height": 136
        },
        "id": "X3c0nq6mgJ1l",
        "outputId": "2b180b63-8910-4ac4-d846-7825242eb49d"
      },
      "execution_count": 68,
      "outputs": [
        {
          "output_type": "error",
          "ename": "SyntaxError",
          "evalue": "ignored",
          "traceback": [
            "\u001b[0;36m  File \u001b[0;32m\"<ipython-input-68-3344c3a601f8>\"\u001b[0;36m, line \u001b[0;32m3\u001b[0m\n\u001b[0;31m    print('Hello 'World'')\u001b[0m\n\u001b[0m                      ^\u001b[0m\n\u001b[0;31mSyntaxError\u001b[0m\u001b[0;31m:\u001b[0m invalid syntax\n"
          ]
        }
      ]
    },
    {
      "cell_type": "code",
      "source": [
        "print(\"Hello 'World'\")"
      ],
      "metadata": {
        "colab": {
          "base_uri": "https://localhost:8080/"
        },
        "id": "hkbEaaiwhD1g",
        "outputId": "ead3f0d5-c24c-47a4-861a-2a7d7f2c53a8"
      },
      "execution_count": 70,
      "outputs": [
        {
          "output_type": "stream",
          "name": "stdout",
          "text": [
            "Hello 'World'\n"
          ]
        }
      ]
    },
    {
      "cell_type": "code",
      "source": [
        "print(\"Hello \\\"World\\\"\") # \\ 기호(back slash) 뒤의 문자는 글자로 취급한다.\n",
        "print('Hello \\'World\\'')\n",
        "print('Hello \"World\"')"
      ],
      "metadata": {
        "colab": {
          "base_uri": "https://localhost:8080/"
        },
        "id": "A-doDLOThLA5",
        "outputId": "6d91b783-da6b-4c5c-b57b-1d2b1c05db46"
      },
      "execution_count": 76,
      "outputs": [
        {
          "output_type": "stream",
          "name": "stdout",
          "text": [
            "Hello \"World\"\n",
            "Hello 'World'\n",
            "Hello \"World\"\n"
          ]
        }
      ]
    },
    {
      "cell_type": "code",
      "source": [
        "print('Hello \\n\"World\"') # \\n 줄 바꿈"
      ],
      "metadata": {
        "colab": {
          "base_uri": "https://localhost:8080/"
        },
        "id": "Kz5cDmp0iFya",
        "outputId": "c678263e-2873-43b7-846c-6275f2f4835a"
      },
      "execution_count": 79,
      "outputs": [
        {
          "output_type": "stream",
          "name": "stdout",
          "text": [
            "Hello \n",
            "\"World\"\n"
          ]
        }
      ]
    },
    {
      "cell_type": "code",
      "source": [
        "print('이름 \\n전화')"
      ],
      "metadata": {
        "colab": {
          "base_uri": "https://localhost:8080/"
        },
        "id": "WeHGDbObiY2M",
        "outputId": "1ce4276d-76cd-45dc-f3e4-72eef3d0773c"
      },
      "execution_count": 84,
      "outputs": [
        {
          "output_type": "stream",
          "name": "stdout",
          "text": [
            "이름 \n",
            "전화\n"
          ]
        }
      ]
    },
    {
      "cell_type": "code",
      "source": [
        "print('이름\\t연락처') # \\t 일정로 띄어쓰기(Tab)\n",
        "print('홍길동\\t010-2020-2903')"
      ],
      "metadata": {
        "colab": {
          "base_uri": "https://localhost:8080/"
        },
        "id": "a89UIcc2iu6B",
        "outputId": "3d3a6719-fa5b-438c-e0d7-997698657210"
      },
      "execution_count": 86,
      "outputs": [
        {
          "output_type": "stream",
          "name": "stdout",
          "text": [
            "이름\t연락처\n",
            "홍길동\t010-2020-2903\n"
          ]
        }
      ]
    },
    {
      "cell_type": "code",
      "source": [
        "print('재미있는','파이썬')"
      ],
      "metadata": {
        "colab": {
          "base_uri": "https://localhost:8080/"
        },
        "id": "aRAkogM4jkNc",
        "outputId": "7c49b2a6-85b2-4475-bed6-d4bd1ee9efc6"
      },
      "execution_count": 88,
      "outputs": [
        {
          "output_type": "stream",
          "name": "stdout",
          "text": [
            "재미있는 파이썬\n"
          ]
        }
      ]
    },
    {
      "cell_type": "code",
      "source": [
        "print('평점',end=':') # end = '문자' 밑이 아닌 옆에서 출력해라\n",
        "print('5점')\n",
        "print('안녕',end) # end 옆에 무언가 있어야함\n",
        "print('하세요')"
      ],
      "metadata": {
        "colab": {
          "base_uri": "https://localhost:8080/",
          "height": 245
        },
        "id": "LYIuslccjmlD",
        "outputId": "cdfdab75-c540-4ed8-e417-b612dfec1513"
      },
      "execution_count": 96,
      "outputs": [
        {
          "output_type": "stream",
          "name": "stdout",
          "text": [
            "평점:5점\n"
          ]
        },
        {
          "output_type": "error",
          "ename": "NameError",
          "evalue": "ignored",
          "traceback": [
            "\u001b[0;31m---------------------------------------------------------------------------\u001b[0m",
            "\u001b[0;31mNameError\u001b[0m                                 Traceback (most recent call last)",
            "\u001b[0;32m<ipython-input-96-c1412df86250>\u001b[0m in \u001b[0;36m<module>\u001b[0;34m()\u001b[0m\n\u001b[1;32m      1\u001b[0m \u001b[0mprint\u001b[0m\u001b[0;34m(\u001b[0m\u001b[0;34m'평점'\u001b[0m\u001b[0;34m,\u001b[0m\u001b[0mend\u001b[0m\u001b[0;34m=\u001b[0m\u001b[0;34m':'\u001b[0m\u001b[0;34m)\u001b[0m \u001b[0;31m# end = '문자' 밑이 아닌 옆에서 출력해라\u001b[0m\u001b[0;34m\u001b[0m\u001b[0;34m\u001b[0m\u001b[0m\n\u001b[1;32m      2\u001b[0m \u001b[0mprint\u001b[0m\u001b[0;34m(\u001b[0m\u001b[0;34m'5점'\u001b[0m\u001b[0;34m)\u001b[0m\u001b[0;34m\u001b[0m\u001b[0;34m\u001b[0m\u001b[0m\n\u001b[0;32m----> 3\u001b[0;31m \u001b[0mprint\u001b[0m\u001b[0;34m(\u001b[0m\u001b[0;34m'안녕'\u001b[0m\u001b[0;34m,\u001b[0m\u001b[0mend\u001b[0m\u001b[0;34m)\u001b[0m \u001b[0;31m# end 옆에 무언가 있어야함\u001b[0m\u001b[0;34m\u001b[0m\u001b[0;34m\u001b[0m\u001b[0m\n\u001b[0m\u001b[1;32m      4\u001b[0m \u001b[0mprint\u001b[0m\u001b[0;34m(\u001b[0m\u001b[0;34m'하세요'\u001b[0m\u001b[0;34m)\u001b[0m\u001b[0;34m\u001b[0m\u001b[0;34m\u001b[0m\u001b[0m\n",
            "\u001b[0;31mNameError\u001b[0m: name 'end' is not defined"
          ]
        }
      ]
    },
    {
      "cell_type": "code",
      "source": [
        "print('국어','영어','수학')\n",
        "print('국어','영어','수학',sep='/') # sep = 중간에 ''안의 문자를 넣어 구분\n",
        "print('국어','영어','수학',sep=',')\n",
        "print('국어','영어','수학',sep='\\n')\n",
        "print('\\n국어\\n영어\\n수학')"
      ],
      "metadata": {
        "colab": {
          "base_uri": "https://localhost:8080/"
        },
        "id": "NjRe9PflkZAT",
        "outputId": "271d10f7-f0bf-4fe4-b736-1808fd5d953b"
      },
      "execution_count": 106,
      "outputs": [
        {
          "output_type": "stream",
          "name": "stdout",
          "text": [
            "국어 영어 수학\n",
            "국어/영어/수학\n",
            "국어,영어,수학\n",
            "국어\n",
            "영어\n",
            "수학\n",
            "\n",
            "국어\n",
            "영어\n",
            "수학\n"
          ]
        }
      ]
    },
    {
      "cell_type": "code",
      "source": [
        "# %연산자\n",
        "\n",
        "print(10)\n",
        "print('%d' %10) # %d decimal 정수\n",
        "print('%f' %3.14) # %f float 실수\n",
        "print('%s' %'학생') # %s string 문자열\n",
        "\n",
        "print('%d 을 입력하세요' %10) # %d decimal 정수\n",
        "print('원주율은 %f 입니다.' %3.14) # %f float 실수\n",
        "print('저는 %s 입니다.' %'학생') # %s string 문자열\n",
        "\n",
        "std = \"대학생\"\n",
        "print ('저는 %s 입니다.' %std)\n",
        "\n",
        "print('%s 을 입력하세요' %10) # 어짜피 string으로 출력하므로 string으로 통일할 수 있다.\n",
        "print('원주율은 %s 입니다.' %3.14)\n",
        "print('저는 %s 입니다.' %'학생')\n",
        "\n",
        "print('저는',std,'입니다.') # 변수를 넣어서도 출력 가능하다.(기본적으로 띄어쓰기 포함)"
      ],
      "metadata": {
        "colab": {
          "base_uri": "https://localhost:8080/"
        },
        "id": "A9m57W9bp8l1",
        "outputId": "ff287eaa-6570-4e11-ccfc-e6f0358f817d"
      },
      "execution_count": 115,
      "outputs": [
        {
          "output_type": "stream",
          "name": "stdout",
          "text": [
            "10\n",
            "10\n",
            "3.140000\n",
            "학생\n",
            "10 을 입력하세요\n",
            "원주율은 3.140000 입니다.\n",
            "저는 학생 입니다.\n",
            "저는 대학생 입니다.\n",
            "10 을 입력하세요\n",
            "원주율은 3.14 입니다.\n",
            "저는 학생 입니다.\n",
            "저는 대학생 입니다.\n"
          ]
        }
      ]
    },
    {
      "cell_type": "code",
      "source": [
        "print(\"%d\" % 1)\n",
        "print(\"%5d\" % 1) # 5자리를 확보해서 오른쪽에 출력\n",
        "print(\"%-5d\" %1) # 5자리를 확보해서 왼쪽에 출력\n",
        "print(\"%5d\" %11)\n",
        "print(\"%-5d\" %1)"
      ],
      "metadata": {
        "colab": {
          "base_uri": "https://localhost:8080/"
        },
        "id": "svBIw3A7tQVO",
        "outputId": "a3af919c-c7ce-4d0c-8921-e00d10439f56"
      },
      "execution_count": 121,
      "outputs": [
        {
          "output_type": "stream",
          "name": "stdout",
          "text": [
            "1\n",
            "    1\n",
            "1    \n",
            "   11\n",
            "1    \n"
          ]
        }
      ]
    },
    {
      "cell_type": "code",
      "source": [
        "print('원주율은 %5f입니다.' % 3.14)\n",
        "print('원주율은 %5.1f입니다.' % 3.14) # 5자리를 확보한 뒤 소숫점 1자리까지 출력\n",
        "print('원주율은 %5.2f입니다.' % 3.14) # 5자리를 확보한 뒤 소숫점 2자리까지 출력\n",
        "print('원주율은 %.2f입니다.' % 3.14) # 소숫점 2자리까지 출력"
      ],
      "metadata": {
        "colab": {
          "base_uri": "https://localhost:8080/"
        },
        "id": "BEP4nekpuCtu",
        "outputId": "d3b6473f-fbd3-4f4a-b2fc-0969d2e4f79f"
      },
      "execution_count": 133,
      "outputs": [
        {
          "output_type": "stream",
          "name": "stdout",
          "text": [
            "원주율은 3.140000입니다.\n",
            "원주율은   3.1입니다.\n",
            "원주율은  3.14입니다.\n",
            "원주율은 3.14입니다.\n"
          ]
        }
      ]
    },
    {
      "cell_type": "code",
      "source": [
        "name = 'kai'\n",
        "print('내 이름은 %s 입니다.' % name)"
      ],
      "metadata": {
        "colab": {
          "base_uri": "https://localhost:8080/"
        },
        "id": "rpQt8FfqvLJa",
        "outputId": "439511cc-4159-4147-86ed-35adc68d4b6c"
      },
      "execution_count": 134,
      "outputs": [
        {
          "output_type": "stream",
          "name": "stdout",
          "text": [
            "내 이름은 kai 입니다.\n"
          ]
        }
      ]
    },
    {
      "cell_type": "code",
      "source": [
        "height = 185.5\n",
        "print('내 키는 %.1f 입니다.' % height) # 결과는 같지만 세밀한 조정이 필요할경우\n",
        "print('내 키는 %s 입니다.' % height)\n",
        "print('내 키는 %s이고 이름은 %s입니다.' %(height, name))\n",
        "print('내 키는 {}이고 이름은 {}입니다.' .format(height,name))"
      ],
      "metadata": {
        "colab": {
          "base_uri": "https://localhost:8080/"
        },
        "id": "soim-k9IvZPZ",
        "outputId": "b0598c51-76da-4786-97fd-cf2e5a827137"
      },
      "execution_count": 146,
      "outputs": [
        {
          "output_type": "stream",
          "name": "stdout",
          "text": [
            "내 키는 185.5 입니다.\n",
            "내 키는 185.5 입니다.\n",
            "내 키는 185.5이고 이름은 kai입니다.\n",
            "내 키는 185.5이고 이름은 kai입니다.\n"
          ]
        }
      ]
    },
    {
      "cell_type": "code",
      "source": [
        "# format()\n",
        "\n",
        "zipcode = '06236'\n",
        "print('우편번호 : %s' %zipcode)\n",
        "print('우편번호 : {}'.format(zipcode))"
      ],
      "metadata": {
        "colab": {
          "base_uri": "https://localhost:8080/"
        },
        "id": "z0iGcl29v5oY",
        "outputId": "ce356b6c-27be-4655-c950-257cbf27bb1d"
      },
      "execution_count": 141,
      "outputs": [
        {
          "output_type": "stream",
          "name": "stdout",
          "text": [
            "우편번호 : 06236\n",
            "우편번호 : 06236\n"
          ]
        }
      ]
    },
    {
      "cell_type": "code",
      "source": [
        "# format()의 특징\n",
        "print('My name is {}. I\\'m {} years old'.format('James', 25))\n",
        "print('My name is {1}. I\\'m {0} years old'.format(25, 'James'))\n",
        "# 결과를 출력할 순번을 지정할 수 있다.\n",
        "print('My name is {name}. I\\'m {age} years old'.format(age = 25, name = 'James'))\n",
        "# 변수 값을 결과에 집어 넣을 수 있다."
      ],
      "metadata": {
        "colab": {
          "base_uri": "https://localhost:8080/"
        },
        "id": "3Y9LNuxx15yi",
        "outputId": "a5562fc4-2abf-4b96-ca22-10fb4b9b58b8"
      },
      "execution_count": 153,
      "outputs": [
        {
          "output_type": "stream",
          "name": "stdout",
          "text": [
            "My name is James. I'm 25 years old\n",
            "My name is James. I'm 25 years old\n",
            "My name is James. I'm 25 years old\n"
          ]
        }
      ]
    },
    {
      "cell_type": "code",
      "source": [
        "# f-strings\n",
        "# 파이썬 3.6 이후 부터 사용 가능\n",
        "\n",
        "who = 'you'\n",
        "how = 'happy'\n",
        "print(f'{who} make me {how}') #앞에 f를 붙인 후 {}안에 변수를 넣어서 사용\n"
      ],
      "metadata": {
        "colab": {
          "base_uri": "https://localhost:8080/"
        },
        "id": "p2oosUWE2-r4",
        "outputId": "780fa8db-ec51-4578-8c8f-98e9f9341a5d"
      },
      "execution_count": 156,
      "outputs": [
        {
          "output_type": "stream",
          "name": "stdout",
          "text": [
            "you make me happy\n"
          ]
        }
      ]
    },
    {
      "cell_type": "code",
      "source": [
        "# f-strings 은 계산도 가능\n",
        "age = 25\n",
        "print(f'내년에는 {age+1} 입니다.')"
      ],
      "metadata": {
        "colab": {
          "base_uri": "https://localhost:8080/"
        },
        "id": "PFVWMszZ3qLP",
        "outputId": "35a2e92d-0016-4aa6-96d7-43e5e47f9b25"
      },
      "execution_count": 160,
      "outputs": [
        {
          "output_type": "stream",
          "name": "stdout",
          "text": [
            "내년에는 26 입니다.\n"
          ]
        }
      ]
    },
    {
      "cell_type": "code",
      "source": [
        "##############\n",
        "# 입력 input()\n",
        "##############\n",
        "\n",
        "n = input('당신의 나이를 입력하세요 ') # 변수에 입력받는 것, 괄호 안에 나타낼 내용 작성 가능\n",
        "print(f'당신의 나이는 {n}입니다.') # f-strings 사용\n",
        "\n",
        "print('당신이 입력한 나이는',n,'입니다.') # 일반적 표현"
      ],
      "metadata": {
        "colab": {
          "base_uri": "https://localhost:8080/"
        },
        "id": "59bc4ACs4Vdz",
        "outputId": "d3805ee4-d0fb-4f08-d3a4-78c8e95b080b"
      },
      "execution_count": 167,
      "outputs": [
        {
          "output_type": "stream",
          "name": "stdout",
          "text": [
            "당신의 나이를 입력하세요 \n",
            "당신의 나이는 입니다.\n",
            "당신이 입력한 나이는  입니다.\n"
          ]
        }
      ]
    },
    {
      "cell_type": "code",
      "source": [
        "a = input('이름을 입력하세요 ')\n",
        "b = input('나이를 입력하세요 ')\n",
        "# 1. 기본\n",
        "print('당신의 이름은',a,'이고, 나이는 ',b,'입니다.')\n",
        "# 2. %연산자\n",
        "print('당신의 이름은 %s이고, 나이는 %s입니다.' %(a,b))\n",
        "# 3. format()\n",
        "print('당신의 이름은 {}이고, 나이는 {} 입니다.' .format(a,b))\n",
        "# 4. f-strings\n",
        "print(f'당신의 이름은 {a}이고, 나이는 {b}입니다.')\n",
        "\n",
        "print(a,type(a))\n",
        "print(a,type(b))\n",
        "\n",
        "# input으로 입력받을 때 모두 string 타입으로 받는다.\n",
        "# 입력받을때 int(input())으로 바꿔서 입력받으면 int형으로 받을 수 있음이"
      ],
      "metadata": {
        "colab": {
          "base_uri": "https://localhost:8080/"
        },
        "id": "3BMHJKHZ5k7S",
        "outputId": "b32ddacb-53f7-4326-f736-4c14fb97d9f9"
      },
      "execution_count": 180,
      "outputs": [
        {
          "output_type": "stream",
          "name": "stdout",
          "text": [
            "이름을 입력하세요 이름\n",
            "나이를 입력하세요 19\n",
            "당신의 이름은 이름 이고, 나이는  19 입니다.\n",
            "당신의 이름은 이름이고, 나이는 19입니다.\n",
            "당신의 이름은 이름이고, 나이는 19 입니다.\n",
            "당신의 이름은 이름이고, 나이는 19입니다.\n",
            "이름 <class 'str'>\n",
            "이름 <class 'str'>\n"
          ]
        }
      ]
    },
    {
      "cell_type": "code",
      "source": [
        "month = int(input('할부 개월 입력 : '))\n",
        "price = round(50000 / month) # 반올림 함수\n",
        "\n",
        "print(month,'개월 동안 매달 내는 금액은',price,'입니다.')\n",
        "print('%d개월 동안 매달 내는 금액은 %s3입니다.' %(month,price))\n",
        "print('{}개월 동안 매달 내는 금액은 {}입니다.' .format(month,price))\n",
        "print(f'{month}개월 동안 매달 내는 금액은 {price}입니다.')\n"
      ],
      "metadata": {
        "colab": {
          "base_uri": "https://localhost:8080/"
        },
        "id": "lhl97rlg-ArA",
        "outputId": "f8608e51-0878-4dc8-cf02-961139f63910"
      },
      "execution_count": 191,
      "outputs": [
        {
          "output_type": "stream",
          "name": "stdout",
          "text": [
            "할부 개월 입력 : 3\n",
            "3 개월 동안 매달 내는 금액은 16667 입니다.\n",
            "3개월 동안 매달 내는 금액은 16667입니다.\n",
            "3개월 동안 매달 내는 금액은 16667입니다.\n",
            "3개월 동안 매달 내는 금액은 16667입니다.\n"
          ]
        }
      ]
    },
    {
      "cell_type": "code",
      "source": [
        "num1 = float(input('실수 1 : '))\n",
        "num2 = float(input('실수 2 : '))\n",
        "sum = num1 + num2\n",
        "\n",
        "print(f'{num1}과 {num2}의 합계는 {sum}입니다.')"
      ],
      "metadata": {
        "colab": {
          "base_uri": "https://localhost:8080/"
        },
        "id": "kC2tzL8DFFEi",
        "outputId": "1961ca9d-69ff-40db-e93a-10104436f729"
      },
      "execution_count": 192,
      "outputs": [
        {
          "output_type": "stream",
          "name": "stdout",
          "text": [
            "실수 1 : 1\n",
            "실수 2 : 2\n",
            "1.0과 2.0의 합계는 3.0입니다.\n"
          ]
        }
      ]
    }
  ]
}