{
  "nbformat": 4,
  "nbformat_minor": 0,
  "metadata": {
    "colab": {
      "name": "Day 2.ipynb",
      "provenance": [],
      "collapsed_sections": [],
      "authorship_tag": "ABX9TyPJJTmmjkaN1t5shyPPE+95",
      "include_colab_link": true
    },
    "kernelspec": {
      "name": "python3",
      "display_name": "Python 3"
    },
    "language_info": {
      "name": "python"
    }
  },
  "cells": [
    {
      "cell_type": "markdown",
      "metadata": {
        "id": "view-in-github",
        "colab_type": "text"
      },
      "source": [
        "<a href=\"https://colab.research.google.com/github/kkkukkk/ai/blob/main/Day_2.ipynb\" target=\"_parent\"><img src=\"https://colab.research.google.com/assets/colab-badge.svg\" alt=\"Open In Colab\"/></a>"
      ]
    },
    {
      "cell_type": "code",
      "execution_count": null,
      "metadata": {
        "id": "OsYKR0GMrzJl"
      },
      "outputs": [],
      "source": [
        "###################################\n",
        "# Review\n",
        "###################################\n",
        "\n",
        "# Comment        주석 - 코드에 대한 설명, 컴퓨터는 읽지 않고 사람만\n",
        "#                읽는 내용, 또 다른 용법으로는 코드를 임시로\n",
        "#                실행하지 않고 감추고 에러를 확인하는 용도로도 사용된다.\n",
        "#                본인이 기록한 내용을 나중에 확인할 때 또는 다른 팀원이\n",
        "#                작성한 내용을 파악하기 용이하게 만든다.\n",
        "\n",
        "# #을 사용하여 주석을 표시한다. ('ctrl + /')\n",
        "\n",
        "# doc string (주석의 용도로도 쓰이는...)\n",
        "'''\n",
        "작성일 : 2022/01/26\n",
        "담당자 : 박진욱\n",
        "비고: jin960828@naver.com\n",
        "'''\n",
        "\"\"\"\n",
        "작성일 : 2022/01/26\n",
        "담당자 : 박진욱\n",
        "비고: jin960828@naver.com\n",
        "\"\"\"\n",
        "# 코드의 위쪽 또는 오른쪽에 주석을 붙인다.\n",
        "print('Hello World')  # 코드의 우측 또는 코드의 윗줄에 적는다.\n"
      ]
    },
    {
      "cell_type": "code",
      "source": [
        "# 변수 Variable\n",
        "# 어떤 값을 저장하는 저장소 (a- 짜리 설명)\n",
        "a = 100\n",
        "print(a)\n",
        "\n",
        "stumath = 350\n",
        "stu_math_sum = 350 # 스네이크 케이스 (단어사이에 _ 를 넣어서 표현) snake_case\n",
        "StuMathSum = 350 # 캐멀 케이스 (첫 단어를 대문자로 표현) CamelCase"
      ],
      "metadata": {
        "id": "1hMWgM7PxAFf"
      },
      "execution_count": null,
      "outputs": []
    },
    {
      "cell_type": "code",
      "source": [
        "# 1a = 100 숫자가 먼저 올 수 없다.\n",
        "a1 = 100"
      ],
      "metadata": {
        "id": "MZHTqG0Xy5eb"
      },
      "execution_count": null,
      "outputs": []
    },
    {
      "cell_type": "code",
      "source": [
        "# _는 변수명으로 사용 가능\n",
        "# 이외 특수문자는 거의 불가능\n",
        "_a = 100\n",
        "print (_a)"
      ],
      "metadata": {
        "colab": {
          "base_uri": "https://localhost:8080/"
        },
        "id": "Z6kTazI3y9CS",
        "outputId": "0daaf072-3803-4ad3-c497-a80bcc0ce10b"
      },
      "execution_count": null,
      "outputs": [
        {
          "output_type": "stream",
          "name": "stdout",
          "text": [
            "100\n"
          ]
        }
      ]
    },
    {
      "cell_type": "code",
      "source": [
        "# 한글 변수명 사용 가능\n",
        "홍길동 = 55\n",
        "# 사용이 가능하지만 아예 쓰지 말자"
      ],
      "metadata": {
        "id": "8bU9p-0mzL_l"
      },
      "execution_count": null,
      "outputs": []
    },
    {
      "cell_type": "code",
      "source": [
        "# 인덱싱 (슬라이싱)\n",
        "\n",
        "s = 'world'\n",
        "print(s[2]) # 문자열 중 두번째 문자 출력 (파이썬은 인덱스 시작이 0)\n",
        "print(s[-1]) # -1은 문자열의 마지막 인덱스\n",
        "print(s[4])\n",
        "\n",
        "ss = '900101-2547389'\n",
        "print(ss[7])\n",
        "addr = '서울시 강남구 역삼동 1번지'\n",
        "print(addr[4:7]) # 컴퓨터는 빈칸도 인덱스로 (슬라이싱)"
      ],
      "metadata": {
        "colab": {
          "base_uri": "https://localhost:8080/"
        },
        "id": "hPznh5G7zmzl",
        "outputId": "2988a5e9-08bf-41fe-8cd1-55db0761a111"
      },
      "execution_count": null,
      "outputs": [
        {
          "output_type": "stream",
          "name": "stdout",
          "text": [
            "r\n",
            "d\n",
            "d\n",
            "2\n",
            "강남구\n"
          ]
        }
      ]
    },
    {
      "cell_type": "code",
      "source": [
        "when = '저녁'\n",
        "print('좋은 ',when,'입니다.')"
      ],
      "metadata": {
        "colab": {
          "base_uri": "https://localhost:8080/"
        },
        "id": "Jv-0FFhS1kpX",
        "outputId": "48e71d50-7e9b-4e72-c481-6dff8d1a7d0d"
      },
      "execution_count": null,
      "outputs": [
        {
          "output_type": "stream",
          "name": "stdout",
          "text": [
            "좋은  저녁 입니다.\n"
          ]
        }
      ]
    },
    {
      "cell_type": "code",
      "source": [
        "when = '저녁'\n",
        "print('좋은',when,'입니다.')\n",
        "\n",
        "print('좋은 %s입니다.' %when)\n",
        "print('좋은 {}입니다.' .format(when))\n",
        "\n",
        "print(f'좋은 {when}입니다.') # *****"
      ],
      "metadata": {
        "id": "UfbOd4qw18Vc",
        "colab": {
          "base_uri": "https://localhost:8080/"
        },
        "outputId": "0957ffd8-90c1-4f0b-802c-c800a06c3e0f"
      },
      "execution_count": null,
      "outputs": [
        {
          "output_type": "stream",
          "name": "stdout",
          "text": [
            "좋은 저녁 입니다.\n",
            "좋은 저녁입니다.\n",
            "좋은 저녁입니다.\n",
            "좋은 저녁입니다.\n"
          ]
        }
      ]
    },
    {
      "cell_type": "code",
      "source": [
        "##############################################\n",
        "# 리스트 List 튜플 Tuple 딕셔너리 Dict 셋 Set\n",
        "##############################################\n",
        "# 여러개의 값을 한번에 저장하는 자료형이 필요하다.\n",
        "\n",
        "# 리스트 List\n",
        "# 지금까지 사용한 숫자 1, 문자 1 등 개별적, 독립적인 자료가 아닌\n",
        "# 리스트는 이러한 자료들 여러개를 모아서 사용할 수 있게 해준다.\n",
        "# 리스트에 넣는 자료를 요소(element)라고 한다.\n",
        "\n",
        "# 리스트는 []로 구성한다.\n",
        "list = [1,2,3,4,5]\n",
        "print(list)\n",
        "# 리스트는 다양한 자료형의 데이터를 한번에 담을 수 있다.\n",
        "# (but, 하나의 리스트에는 한가지 자료형만 저장하는 것이 오히려 바람직하다)\n",
        "list = [1,2,3,'대한','민국',True,False]\n",
        "print(list)\n",
        "score = [80,90,70,60]\n",
        "print(score)\n",
        "\n",
        "# 리스트는 인덱싱(indexint)과 슬라이싱(slicing)이 가능하다.\n",
        "print(score[0])   # 파이썬은 0부터 시작한다.\n",
        "print(score[0:2]) # 슬라이싱은 0부터 2미만...처럼 끝은 미만을 나타낸다.\n",
        "\n",
        "# 리스트는 수정/삭제 가 가능하다. (mutable) / 튜플은 불가능 (immutable)\n",
        "score[0] = 100\n",
        "print(score)\n",
        "score[-1] = 100\n",
        "print(score)\n",
        "# score[4] # indexerror 아주 많이 접하게 될 에러(예외)\n",
        "\n",
        "# 리스트는 연산이 가능하다.\n",
        "list_a = [1,2,3]\n",
        "list_b = [4,5,6]\n",
        "print('list_a = ', list_a)\n",
        "print('list_b = ', list_b)\n",
        "print(list_a+list_b)\n",
        "print(list_a*3)\n",
        "print(len(list_a))"
      ],
      "metadata": {
        "colab": {
          "base_uri": "https://localhost:8080/"
        },
        "id": "eEYiqQ5E9Vic",
        "outputId": "8e058bef-556f-4b58-a33c-f783e9825c5a"
      },
      "execution_count": null,
      "outputs": [
        {
          "output_type": "stream",
          "name": "stdout",
          "text": [
            "[1, 2, 3, 4, 5]\n",
            "[1, 2, 3, '대한', '민국', True, False]\n",
            "[80, 90, 70, 60]\n",
            "80\n",
            "[80, 90]\n",
            "[100, 90, 70, 60]\n",
            "[100, 90, 70, 100]\n",
            "list_a =  [1, 2, 3]\n",
            "list_b =  [4, 5, 6]\n",
            "[1, 2, 3, 4, 5, 6]\n",
            "[1, 2, 3, 1, 2, 3, 1, 2, 3]\n",
            "3\n"
          ]
        }
      ]
    },
    {
      "cell_type": "code",
      "source": [
        "# 리스트에 자주 사용되는 함수들...\n",
        "\n",
        "# append() (*****) 리스트에 요소를 추가할 때 사용, 끝에만 추가\n",
        "print(score)\n",
        "score.append(60)\n",
        "print(score)\n",
        "score.append(70)\n",
        "print(score)"
      ],
      "metadata": {
        "colab": {
          "base_uri": "https://localhost:8080/"
        },
        "id": "5p55UwSHFXuy",
        "outputId": "1f38fd7a-df31-4427-af64-5fa2a91fb140"
      },
      "execution_count": null,
      "outputs": [
        {
          "output_type": "stream",
          "name": "stdout",
          "text": [
            "[100, 90, 70, 100, 60, 60, 70]\n",
            "[100, 90, 70, 100, 60, 60, 70, 60]\n",
            "[100, 90, 70, 100, 60, 60, 70, 60, 70]\n"
          ]
        }
      ]
    },
    {
      "cell_type": "code",
      "source": [
        "# insert() 리스트에 요소를 추가할 때 사용, 특정 위치를 지정하여 추가\n",
        "\n",
        "list = []\n",
        "list.insert(0,10)\n",
        "print(list)\n",
        "\n",
        "list.insert(-1, 50)\n",
        "print(list)\n",
        "\n",
        "# append를 주로 사용한다."
      ],
      "metadata": {
        "colab": {
          "base_uri": "https://localhost:8080/"
        },
        "id": "tJTTDQKlJSku",
        "outputId": "bb371d72-3363-4739-b07e-e431038e5e1e"
      },
      "execution_count": null,
      "outputs": [
        {
          "output_type": "stream",
          "name": "stdout",
          "text": [
            "[10]\n",
            "[50, 10]\n"
          ]
        }
      ]
    },
    {
      "cell_type": "code",
      "source": [
        "list_a = [1,2,3]\n",
        "list_a.extend([4,5,6]) # extend는 리스트에 여러개를 집어넣을 때 사용\n",
        "\n",
        "print(list_a) # 파괴적 처리"
      ],
      "metadata": {
        "colab": {
          "base_uri": "https://localhost:8080/"
        },
        "id": "WiZeg5GLKPtW",
        "outputId": "f24eb49f-9639-476d-987b-517ba170d82c"
      },
      "execution_count": null,
      "outputs": [
        {
          "output_type": "stream",
          "name": "stdout",
          "text": [
            "[1, 2, 3, 4, 5, 6]\n"
          ]
        }
      ]
    },
    {
      "cell_type": "code",
      "source": [
        "list_a = [1,2,3]\n",
        "list_b = [4,5,6]\n",
        "print(list_a + list_b)\n",
        "print(list_a)\n",
        "\n",
        "# 덧셈은 결과가 서로 붙긴 하지만 extend 처럼 값이 저장되지 않음\n",
        "# 비파괴적 처리\n",
        "# 리스트 연결만으로는 list_a에 어떠한 영향도 주지 않는다. (비파괴적 처리)\n",
        "# 하지만 extend() 를 사용하면 list_a에 직접적으로 영향을 주게 된다.(파괴적 처리)\n",
        "\n",
        "# 원래 자료를 사용할 때는 비파괴적으로 사용하는 것이 바람직하다.\n",
        "# 가능하면 원본데이터는 그대로 유지하고 사용하는 것이 선택지가 더 넓다."
      ],
      "metadata": {
        "colab": {
          "base_uri": "https://localhost:8080/"
        },
        "id": "MDf9I_P0Kqar",
        "outputId": "c84dfdaf-295a-4301-836d-9d78f71eb578"
      },
      "execution_count": null,
      "outputs": [
        {
          "output_type": "stream",
          "name": "stdout",
          "text": [
            "[1, 2, 3, 4, 5, 6]\n",
            "[1, 2, 3]\n"
          ]
        }
      ]
    },
    {
      "cell_type": "code",
      "source": [
        "# del() 리스트에서 데이터 삭제\n",
        "\n",
        "list_a = [0,1,2,3,4,5]\n",
        "del list_a[1] # index 값으로 위치값을 삭제\n",
        "list_a\n",
        "\n",
        "del list_a[1:3] # del은 범위 삭제가 가능, (1부터 3미만 즉 2까지 삭제)\n",
        "list_a\n",
        "\n",
        "del list_a[:] # 생략하면 처음부터 끝까지\n",
        "print(list_a)\n",
        "\n",
        "# list_a.clear() 리스트 요소를 전부 한번에 삭제"
      ],
      "metadata": {
        "colab": {
          "base_uri": "https://localhost:8080/"
        },
        "id": "wws_EHA8MYKK",
        "outputId": "c19dffb3-b41e-4078-92be-eeb82b7086dc"
      },
      "execution_count": null,
      "outputs": [
        {
          "output_type": "execute_result",
          "data": {
            "text/plain": [
              "[0, 2, 3, 4, 5]"
            ]
          },
          "metadata": {},
          "execution_count": 33
        }
      ]
    },
    {
      "cell_type": "code",
      "source": [
        "# pop() 리스트에서 마지막 위치 데이터 삭제\n",
        "list_a.pop()\n",
        "list_a"
      ],
      "metadata": {
        "colab": {
          "base_uri": "https://localhost:8080/"
        },
        "id": "afPG5MEYNDXb",
        "outputId": "c19cf965-2a15-4fd1-ff38-3a195177295f"
      },
      "execution_count": null,
      "outputs": [
        {
          "output_type": "execute_result",
          "data": {
            "text/plain": [
              "[0, 2]"
            ]
          },
          "metadata": {},
          "execution_count": 36
        }
      ]
    },
    {
      "cell_type": "code",
      "source": [
        "list_a = [0,1,2,3,4,5]\n",
        "list_a.pop(1) # 특정 위치 데이터도 삭제가 가능하지만 마지막 데이터 삭제용으로 주로 사용\n",
        "list_a"
      ],
      "metadata": {
        "colab": {
          "base_uri": "https://localhost:8080/"
        },
        "id": "GxYFX0xXNbpU",
        "outputId": "d72c76a4-b714-4604-81b7-2f3c837f9369"
      },
      "execution_count": null,
      "outputs": [
        {
          "output_type": "execute_result",
          "data": {
            "text/plain": [
              "[0, 2, 3, 4, 5]"
            ]
          },
          "metadata": {},
          "execution_count": 39
        }
      ]
    },
    {
      "cell_type": "code",
      "source": [
        "# remove 특정 값으로 삭제\n",
        "\n",
        "list_c = [1,2,1,2]\n",
        "                 # remove 는 요소의 값을 찾아 삭제한다. \n",
        "                 # 동일한 값이 여러개 있을때는 하나씩 순차적으로 삭제한다. \n",
        "                 # 리스트에서 중복된 여러개의 값을 제거하려면 반복문을 사용한다.\n",
        "list_c.remove(2)\n",
        "print (list_c)\n",
        "\n",
        "list_c.remove(2)\n",
        "print(list_c)"
      ],
      "metadata": {
        "colab": {
          "base_uri": "https://localhost:8080/"
        },
        "id": "TRZJA_PiPfOs",
        "outputId": "2bfc80c4-862b-479d-9e4f-cd286b49b360"
      },
      "execution_count": null,
      "outputs": [
        {
          "output_type": "stream",
          "name": "stdout",
          "text": [
            "[1, 1, 2]\n",
            "[1, 1]\n"
          ]
        }
      ]
    },
    {
      "cell_type": "code",
      "source": [
        "list = [1,2,3,4,5]\n",
        "print(list[0]) # indexing 비파괴적으로 동작한다.\n",
        "print(list)\n",
        "\n",
        "print(list.pop()) # pop은 파괴적으로 동작한다.\n",
        "print(list)"
      ],
      "metadata": {
        "colab": {
          "base_uri": "https://localhost:8080/"
        },
        "id": "SeL-XfK9P_uB",
        "outputId": "aeb5f644-9c84-4fed-ad42-bb9b944c34d5"
      },
      "execution_count": null,
      "outputs": [
        {
          "output_type": "stream",
          "name": "stdout",
          "text": [
            "1\n",
            "[1, 2, 3, 4, 5]\n",
            "5\n",
            "[1, 2, 3, 4]\n"
          ]
        }
      ]
    },
    {
      "cell_type": "code",
      "source": [
        "# in / not in 리스트에 존재하는 요소인지를 확인\n",
        "\n",
        "list = [222,434,65,123,547,876]\n",
        "print(222 in list) # in 리스트에 존재하는지 (있으면 True, 없으면 False)\n",
        "print(221 in list)\n",
        "print(221 not in list) # not in 리스트에 존재하지 않는지 (있으면 False, 없으면 True)\n"
      ],
      "metadata": {
        "colab": {
          "base_uri": "https://localhost:8080/"
        },
        "id": "kA88NXQAQWPy",
        "outputId": "891923a0-028f-4386-f3a9-da51818ba269"
      },
      "execution_count": null,
      "outputs": [
        {
          "output_type": "stream",
          "name": "stdout",
          "text": [
            "True\n",
            "False\n",
            "True\n"
          ]
        }
      ]
    },
    {
      "cell_type": "code",
      "source": [
        "# Dict 딕셔너리 (java 의 map, JS 의 json 과 유사한 자료구조)\n",
        "# 리스트가 인덱스를 기반으로 값을 저장한다면 딕셔너리는 키값을 기반으로 값을 저장한다.\n",
        "\n",
        "# {} 를 사용하여 데이터들을 저장한다. \n",
        "# 삽입/삭제 가 가능하다. mutable\n",
        "# 순서가 없으므로 인덱싱과 슬라이싱이 불가능하다.\n",
        "\n",
        "dict = {\n",
        "    \"name\" : \"엔드 게임\", # \"key값\" : \"value값\"\n",
        "    \"no\" : 1,\n",
        "    \"type\" : \"히어로 무비\",\n",
        "    \"price\" : 10000\n",
        "\n",
        "}\n",
        "print(dict)\n",
        "dict['name'] # key 값으로 저장했던 데이터 불러오기"
      ],
      "metadata": {
        "colab": {
          "base_uri": "https://localhost:8080/",
          "height": 54
        },
        "id": "AIxzzDAaRkkr",
        "outputId": "1a5a4550-c61f-4a7b-e987-57387b52e180"
      },
      "execution_count": null,
      "outputs": [
        {
          "output_type": "stream",
          "name": "stdout",
          "text": [
            "{'name': '엔드 게임', 'no': 1, 'type': '히어로 무비', 'price': 10000}\n"
          ]
        },
        {
          "output_type": "execute_result",
          "data": {
            "application/vnd.google.colaboratory.intrinsic+json": {
              "type": "string"
            },
            "text/plain": [
              "'엔드 게임'"
            ]
          },
          "metadata": {},
          "execution_count": 54
        }
      ]
    },
    {
      "cell_type": "code",
      "source": [
        "dict = {\n",
        "    \"감독\" : [\"안소니\",\"루소\"], # value값을 list로 여러개를 넣을 수 있음\n",
        "    \"배우\" : [\"타노스\",\"토르\",\"헐크\"]\n",
        "}\n",
        "dict[\"감독\"]"
      ],
      "metadata": {
        "colab": {
          "base_uri": "https://localhost:8080/"
        },
        "id": "3HfHrhhElY0Z",
        "outputId": "a7c934cb-a702-430e-8db2-c613ee9b98b5"
      },
      "execution_count": null,
      "outputs": [
        {
          "output_type": "execute_result",
          "data": {
            "text/plain": [
              "['안소니', '루소']"
            ]
          },
          "metadata": {},
          "execution_count": 55
        }
      ]
    },
    {
      "cell_type": "code",
      "source": [
        "dict = {\n",
        "    'name' : '건조 망고', # value 값을 하나 혹은 여러개를 넣을 수 있음\n",
        "    'type' : '절임 과일',\n",
        "    'ingredient' : ['망고','설탕','색소'],\n",
        "    'origin' : '필리핀'\n",
        "}\n",
        "\n",
        "print('name:', dict['name'])\n",
        "print('type:', dict['type'])\n",
        "print('ingredient:', dict['ingredient'])\n",
        "print('origin:', dict['origin'])\n",
        "\n",
        "\n",
        "dict['name'] = '망고' # key값을 호출하여 value값 변경\n",
        "print('name:', dict['name'])\n",
        "\n",
        "print(dict['ingredient'][0]) # dict 안의 list의 0번째 값을 출력\n",
        "\n",
        "dict['price'] = 5000 # dict에 없는 key와 value 추가 가능\n",
        "\n",
        "print(dict)\n",
        "\n",
        "dict['price'] = 4000 # 들어간 key의 value 변경\n",
        "\n",
        "print(dict)\n",
        "\n",
        "# 삭제\n",
        "del dict['price'] # price에 해당하는 key값을 삭제\n",
        "print(dict)"
      ],
      "metadata": {
        "colab": {
          "base_uri": "https://localhost:8080/"
        },
        "id": "8VLWnStbl_mJ",
        "outputId": "ef0baf7a-d679-4037-967b-027d7a9dd186"
      },
      "execution_count": null,
      "outputs": [
        {
          "output_type": "stream",
          "name": "stdout",
          "text": [
            "name: 건조 망고\n",
            "type: 절임 과일\n",
            "ingredient: ['망고', '설탕', '색소']\n",
            "origin: 필리핀\n",
            "name: 망고\n",
            "망고\n",
            "{'name': '망고', 'type': '절임 과일', 'ingredient': ['망고', '설탕', '색소'], 'origin': '필리핀', 'price': 5000}\n",
            "{'name': '망고', 'type': '절임 과일', 'ingredient': ['망고', '설탕', '색소'], 'origin': '필리핀', 'price': 4000}\n",
            "{'name': '망고', 'type': '절임 과일', 'ingredient': ['망고', '설탕', '색소'], 'origin': '필리핀'}\n"
          ]
        }
      ]
    },
    {
      "cell_type": "code",
      "source": [
        "dict = {}\n",
        "\n",
        "dict['name'] = '새이름'\n",
        "dict['height'] = 185\n",
        "dict['weight'] = 75\n",
        "\n",
        "print (dict)\n",
        "\n",
        "del dict['weight']\n",
        "\n",
        "print (dict)"
      ],
      "metadata": {
        "colab": {
          "base_uri": "https://localhost:8080/"
        },
        "id": "hbT5Zif3nAer",
        "outputId": "27eaff01-5423-444a-a18f-be9b12d8c2e7"
      },
      "execution_count": null,
      "outputs": [
        {
          "output_type": "stream",
          "name": "stdout",
          "text": [
            "{'name': '새이름', 'height': 185, 'weight': 75}\n",
            "{'name': '새이름', 'height': 185}\n"
          ]
        }
      ]
    },
    {
      "cell_type": "code",
      "source": [
        "# dict 자주 등장하는 에러(예외)\n",
        "\n",
        "# KeyError 리스트에서 없는 인덱스에 접근하려고 하면 indexError 가 발생되는 것처럼\n",
        "#          딕에서도 존재하지 않는 키값을 사용하면 예외 또는 에러를 발생시킨다.\n",
        "dict = {\n",
        "    'name' : '건조 망고', # value 값을 하나 혹은 여러개를 넣을 수 있음\n",
        "    'type' : '절임 과일',\n",
        "    'ingredient' : ['망고','설탕','색소'],\n",
        "    'origin' : '필리핀'\n",
        "}\n",
        "\n",
        "# del dict['nana'] # 없는 key값을 사용했으므로 에러"
      ],
      "metadata": {
        "id": "XfBX3yBBpCu6"
      },
      "execution_count": null,
      "outputs": []
    },
    {
      "cell_type": "code",
      "source": [
        "dict = {\n",
        "    'name' : '건조 망고', # value 값을 하나 혹은 여러개를 넣을 수 있음\n",
        "    'type' : '절임 과일',\n",
        "    'ingredient' : ['망고','설탕','색소'],\n",
        "    'origin' : '필리핀'\n",
        "}\n",
        "\n",
        "key = input('> 삭제를 원하는 데이터의 키값을 입력하세요 : ')\n",
        "\n",
        "if key in dict :\n",
        "  print(dict[key])\n",
        "else :\n",
        "  print('존재하지 않은 키에 접근하고 있습니다.')\n"
      ],
      "metadata": {
        "colab": {
          "base_uri": "https://localhost:8080/"
        },
        "id": "RcgvhOOopsLR",
        "outputId": "05983cec-9c68-4cda-feab-b080873a757d"
      },
      "execution_count": null,
      "outputs": [
        {
          "output_type": "stream",
          "name": "stdout",
          "text": [
            "> 삭제를 원하는 데이터의 키값을 입력하세요 : origin\n",
            "필리핀\n"
          ]
        }
      ]
    },
    {
      "cell_type": "code",
      "source": [
        "# 튜플 tuple\n",
        "# () 를 사용하여 작성한다.\n",
        "# 리스트와 거의 대부분 유사하나, 튜플은 삽입,수정 등이 불가능하다 (immutable)\n",
        "# 튜플은 1개의 원소로 작성할 때는 ,를 삽입한다. ex) (1,) (1,2)\n",
        "# 튜플은 괄호를 생략할 수 있다.\n",
        "\n",
        "\n",
        "t = (1, 2)\n",
        "print(t)\n",
        "print(type(t))\n",
        "\n",
        "t2 = 3, 4\n",
        "print(t2)\n",
        "print(type(t2))\n",
        "\n",
        "t3 = (5) # (5) == 5 괄호는 값이 하나일때 그냥 벗겨지므로, 괄호를 생략할경우 그냥 int형이 됨\n",
        "print(t3)\n",
        "print(type(3))\n",
        "\n",
        "t4 = (5,)\n",
        "print(t4)\n",
        "print(type(t4))\n"
      ],
      "metadata": {
        "colab": {
          "base_uri": "https://localhost:8080/"
        },
        "id": "w6lroBFbtReb",
        "outputId": "33fd208a-be92-4107-898b-86fdba7c722f"
      },
      "execution_count": null,
      "outputs": [
        {
          "output_type": "stream",
          "name": "stdout",
          "text": [
            "(1, 2)\n",
            "<class 'tuple'>\n",
            "(3, 4)\n",
            "<class 'tuple'>\n",
            "5\n",
            "<class 'int'>\n",
            "(5,)\n",
            "<class 'tuple'>\n"
          ]
        }
      ]
    },
    {
      "cell_type": "code",
      "source": [
        "# tuple은 수정/삭제 불가능\n",
        "\n",
        "t = (1,2,3,4,5)\n",
        "# t[0] = 8 # 수정 불가능\n",
        "# del t[0] # 삭제 불가능"
      ],
      "metadata": {
        "id": "Su4fctkYyyuv"
      },
      "execution_count": null,
      "outputs": []
    },
    {
      "cell_type": "code",
      "source": [
        "t = (1,2,3,4,5)\n",
        "\n",
        "print(t[1]) # 튜플은 인덱싱이 가능하다.\n",
        "print(t[2:]) # 튜플은 슬라이싱이 가능하다."
      ],
      "metadata": {
        "colab": {
          "base_uri": "https://localhost:8080/"
        },
        "id": "zk8PQpHWzfqN",
        "outputId": "6b299ead-f430-4d5a-f42d-3d31b385e2dc"
      },
      "execution_count": null,
      "outputs": [
        {
          "output_type": "stream",
          "name": "stdout",
          "text": [
            "2\n",
            "(3, 4, 5)\n"
          ]
        }
      ]
    },
    {
      "cell_type": "code",
      "source": [
        "t1 = (1,2,3,4,5)\n",
        "t2 = (6,7,8,9)\n",
        "\n",
        "print(t1+t2)\n",
        "print(t1)\n",
        "print(t2)\n",
        "\n",
        "# 비파괴적인 연산은 가능하다"
      ],
      "metadata": {
        "colab": {
          "base_uri": "https://localhost:8080/"
        },
        "id": "AhNd7ujKzvwV",
        "outputId": "39d6170a-6b10-401f-8604-eacba3a9f0f0"
      },
      "execution_count": null,
      "outputs": [
        {
          "output_type": "stream",
          "name": "stdout",
          "text": [
            "(1, 2, 3, 4, 5, 6, 7, 8, 9)\n",
            "(1, 2, 3, 4, 5)\n",
            "(6, 7, 8, 9)\n"
          ]
        }
      ]
    },
    {
      "cell_type": "code",
      "source": [
        "# Set 집합\n",
        "# {} 를 사용하여 작성한다.\n",
        "# 중복을 허용하지 않는다.\n",
        "# 순서가 없다. (unordered)\n",
        "# 리스트나 튜플은 순서가 있기 때문에 ordered\n",
        "# 인덱싱과 슬라이싱을 통해 값을 꺼낼 수 있지만\n",
        "# 딕셔너리와 셋은 순서가 없어 불가능하다.\n",
        "# 중복을 허용하지 않는다는 특성을 활용하여 중복 제거 필터용으로 많이 사용된다.\n",
        "# set 자료형에 저장된 값을 꺼내려면 리스트나 튜플로 변환하여 사용한다.\n",
        "# set은 수정가능(mutable) 하다.\n",
        "\n",
        "set = {1,1,2,2,2,3,4}\n",
        "print(set)"
      ],
      "metadata": {
        "colab": {
          "base_uri": "https://localhost:8080/"
        },
        "id": "_Yn_a3mj0BL1",
        "outputId": "a8637793-561c-4234-8164-086a4a55572b"
      },
      "execution_count": null,
      "outputs": [
        {
          "output_type": "stream",
          "name": "stdout",
          "text": [
            "{1, 2, 3, 4}\n"
          ]
        }
      ]
    },
    {
      "cell_type": "code",
      "source": [
        "s1 = set([1,1,2,2,3]) # set은 중복을 허용하지 않음, set을 활용해 중복된 값 제거\n",
        "print(type(s1))\n",
        "print(s1)\n",
        "\n",
        "li = list(s1) # 중복된 값을 제거한 후 리스트로 사용\n",
        "print(type(li))\n",
        "print(li)\n",
        "li[0]"
      ],
      "metadata": {
        "colab": {
          "base_uri": "https://localhost:8080/"
        },
        "id": "x9E8Melg2opt",
        "outputId": "6f96d749-5857-4cd5-d605-5535a48a8851"
      },
      "execution_count": null,
      "outputs": [
        {
          "output_type": "stream",
          "name": "stdout",
          "text": [
            "<class 'set'>\n",
            "{1, 2, 3}\n",
            "<class 'list'>\n",
            "[1, 2, 3]\n"
          ]
        },
        {
          "output_type": "execute_result",
          "data": {
            "text/plain": [
              "1"
            ]
          },
          "metadata": {},
          "execution_count": 4
        }
      ]
    },
    {
      "cell_type": "code",
      "source": [
        "# 집합 계산\n",
        "\n",
        "set1 = {1,2,3}\n",
        "set2 = {2,3,4}\n",
        "\n",
        "print(type(set1))\n",
        "print(type(set2))\n",
        "\n",
        "# 양쪽 집합에 모두 공통적으로 포함되는 원소\n",
        "print(set1 & set2 ) # 교집합 (and)\n",
        "print(set1.intersection(set2)) # 교집합\n",
        "\n",
        "# 양쪽 집합 모든 원소\n",
        "print(set1 | set2) # 합집합 (or)\n",
        "print(set1.union(set2)) # 합집합\n",
        "\n",
        "# 두개 집합의 차\n",
        "print(set1 - set2) # 차집합\n",
        "print(set1.difference(set2)) # 차집합"
      ],
      "metadata": {
        "colab": {
          "base_uri": "https://localhost:8080/"
        },
        "id": "0uHv1U7I4i3J",
        "outputId": "6c9fe037-6329-4085-8a59-2449aeef1f0f"
      },
      "execution_count": null,
      "outputs": [
        {
          "output_type": "stream",
          "name": "stdout",
          "text": [
            "<class 'set'>\n",
            "<class 'set'>\n",
            "{2, 3}\n",
            "{2, 3}\n",
            "{1, 2, 3, 4}\n",
            "{1, 2, 3, 4}\n",
            "{1}\n",
            "{1}\n"
          ]
        }
      ]
    },
    {
      "cell_type": "code",
      "source": [
        "# set(집합)은 삽입 가능 mutable\n",
        "set1 = {1,2,3}\n",
        "print(set1)\n",
        "set1.add(4) # data를 삽입할 때 사용 파괴적인 접근\n",
        "print(set1) \n",
        "\n",
        "s1.update([5,6,7,8]) # 여러개를 삽입할 때 사용\n",
        "print(set1)\n",
        "\n",
        "# set은 삭제가 가능하다. mutable\n",
        "# set은 인덱스 개념이 존재하지 않는다. 따라서 값을 지정하여 직접 삭제한다.\n",
        "\n",
        "set1.remove(4) # set은 index 개념이 없으므로 해당하는 값을 삭제한다.\n",
        "print(set1)\n",
        "\n"
      ],
      "metadata": {
        "colab": {
          "base_uri": "https://localhost:8080/"
        },
        "id": "vpa9Ymw06c9-",
        "outputId": "f36ce239-75ab-4ae2-aa7e-b62e8671b451"
      },
      "execution_count": null,
      "outputs": [
        {
          "output_type": "stream",
          "name": "stdout",
          "text": [
            "{1, 2, 3}\n",
            "{1, 2, 3, 4}\n",
            "{1, 2, 3, 4}\n",
            "{1, 2, 3}\n"
          ]
        }
      ]
    },
    {
      "cell_type": "code",
      "source": [
        "# Quiz\n",
        "# Q1. 예) 학번을 입력하세요 >> 31025 \n",
        "#     출력) 3학년 10반 25번\n",
        "\n",
        "std_num = input('학번을 입력하세요 >> ')\n",
        "\n",
        "print(f'{std_num[0]}학년 {std_num[1:3]}반 {std_num[3:]}번')"
      ],
      "metadata": {
        "colab": {
          "base_uri": "https://localhost:8080/"
        },
        "id": "7dsbXr2e7DIZ",
        "outputId": "3f6ef51b-b472-4e39-83bf-72419ccb79a6"
      },
      "execution_count": null,
      "outputs": [
        {
          "output_type": "stream",
          "name": "stdout",
          "text": [
            "학번을 입력하세요 >> 31025\n",
            "3학년 10반 25번\n"
          ]
        }
      ]
    },
    {
      "cell_type": "code",
      "source": [
        "# Q2. 입력) 차량 번호를 입력하세요 >> 서울2가1234 \n",
        "#           차량 번호를 입력하세요 >> 288가1234 \n",
        "#     출력) 서울2가1234의 차량번호 끝 4자리는 1234입니다.\n",
        "\n",
        "c_n = input('차량 번호를 입력하세요 >> ')\n",
        "print(f'{c_n}의 차량번호 끝 4 자리는 {c_n[-4:]}입니다.')"
      ],
      "metadata": {
        "colab": {
          "base_uri": "https://localhost:8080/"
        },
        "id": "4d76K4u2B45E",
        "outputId": "fd9dae78-41aa-4d96-ec1c-c3c3fd4cd6e1"
      },
      "execution_count": null,
      "outputs": [
        {
          "output_type": "stream",
          "name": "stdout",
          "text": [
            "차량 번호를 입력하세요 >> 서울2가  1234 \n",
            "서울2가  1234 의 차량번호 끝 4 자리는 234 입니다.\n"
          ]
        }
      ]
    },
    {
      "cell_type": "code",
      "source": [
        "# Q3. 홀수 갯수의 문자열을 입력받아 가운데 글자를 추출하는 프로그램을 구현하시오\n",
        "#     입력 ) 문자열을 홀수로 입력하세요 >> austins\n",
        "#     출력 ) 문자열의 가운데 글자는 t입니다.\n",
        "\n",
        "ctx = str(input('문자열을 홀수로 입력하세요 >> '))\n",
        "print(ctx[int(len(ctx)/2)])\n",
        "print(ctx[len(ctx)//2])\n",
        "# round 함수는 1.5와 2.5에서 1과 2로 나오는 오류 존재 (가장 가까운 10의 배수를 출력하는 알고리즘 때문)"
      ],
      "metadata": {
        "colab": {
          "base_uri": "https://localhost:8080/"
        },
        "id": "JyVusLUrDhQB",
        "outputId": "878beac9-7e23-4142-bc13-d6d26c62f70c"
      },
      "execution_count": null,
      "outputs": [
        {
          "output_type": "stream",
          "name": "stdout",
          "text": [
            "문자열을 홀수로 입력하세요 >> 12345\n",
            "3\n",
            "3\n"
          ]
        }
      ]
    },
    {
      "cell_type": "code",
      "source": [
        "# [1,2,3,4,5,6,7,8,9] 의 3번째 요소부터 7번째 요소만 추출한 결과에서\n",
        "# 2번째 요소를 출력하는 프로그램을 구현하세요.\n",
        "# 한번에\n",
        "\n",
        "obj = [1,2,3,4,5,6,7,8,9]\n",
        "print(obj[2:7][1])"
      ],
      "metadata": {
        "colab": {
          "base_uri": "https://localhost:8080/"
        },
        "id": "y2_VxwH4Hu5Z",
        "outputId": "7f1dcf47-f781-4666-83ba-c41d7db1b26a"
      },
      "execution_count": null,
      "outputs": [
        {
          "output_type": "stream",
          "name": "stdout",
          "text": [
            "4\n"
          ]
        }
      ]
    },
    {
      "cell_type": "code",
      "source": [
        "######################\n",
        "# if\n",
        "######################\n",
        "\n",
        "# 특정 조건을 만족하는지 여부에 따라 실행되는 코드가 달라져야 할 때 사용된다.\n",
        "# 날씨가 맑으면 소풍을 가고 아니면 공부를 한다.\n",
        "\n",
        "# if 조건식 :\n",
        "#   만족할 때 실행 코드\n",
        "# else : \n",
        "#   만족하지 못할 떄 실행 코드\n",
        "\n",
        "# if 맑으면 :\n",
        "#     소풍을 간다.\n",
        "# else :\n",
        "#     공부를 한다.\n",
        "\n",
        "if True :\n",
        "  print('만족')\n",
        "else :\n",
        "  print('불만족')\n",
        "\n",
        "if False :\n",
        "  print('만족')\n",
        "else :\n",
        "  print('불만족')"
      ],
      "metadata": {
        "colab": {
          "base_uri": "https://localhost:8080/"
        },
        "id": "44eGJ2ipJKxK",
        "outputId": "83627a3c-c2ac-41df-c4ca-4dda8e536da2"
      },
      "execution_count": null,
      "outputs": [
        {
          "output_type": "stream",
          "name": "stdout",
          "text": [
            "만족\n",
            "불만족\n"
          ]
        }
      ]
    },
    {
      "cell_type": "code",
      "source": [
        "age = int(input('나이를 입력하세요 >> '))\n",
        "if age < 10:\n",
        "  print('당신은 유아입니다.')\n",
        "elif age < 20:\n",
        "  print('당신은 10대 입니다.')\n",
        "elif age < 30:\n",
        "  print('당신은 20대 입니다.')\n",
        "elif age < 40:\n",
        "  print('당신은 30대 입니다.')\n",
        "elif age < 50:\n",
        "  print('당신은 40대 입니다.')\n",
        "elif age < 60:\n",
        "  print('당신은 50대 입니다.')\n",
        "elif age < 70:\n",
        "  print('당신은 60대 입니다.')\n",
        "else :\n",
        "  print('당신은 노인입니다.') # 파이썬은 들여쓰기에 민감"
      ],
      "metadata": {
        "colab": {
          "base_uri": "https://localhost:8080/"
        },
        "id": "XJy_k-sQNEqY",
        "outputId": "b662f04d-1126-4ed0-e455-0689a566cfd7"
      },
      "execution_count": null,
      "outputs": [
        {
          "output_type": "stream",
          "name": "stdout",
          "text": [
            "나이를 입력하세요 >> 37\n",
            "당신은 30대 입니다.\n"
          ]
        }
      ]
    },
    {
      "cell_type": "code",
      "source": [
        "# 입력 ) 당신의 점수를 입력하세요 >>> 95\n",
        "# 출력 ) 당신의 점수는 ?? 점이고 학점은 A학점 입니다.\n",
        "\n",
        "scr = int(input('당신의 점수를 입력하세요 >>> '))\n",
        "grd = ''\n",
        "if scr >= 90:\n",
        "  grd = 'A'\n",
        "elif scr >= 80:\n",
        "  grd = 'B'\n",
        "elif scr >= 70:\n",
        "  grd = 'C'\n",
        "elif scr >= 60:\n",
        "  grd = 'D'\n",
        "else :\n",
        "  grd = 'F'\n",
        "print(f'당신의 점수는 {scr}점이고 학점은 {grd}학점 입니다.')"
      ],
      "metadata": {
        "colab": {
          "base_uri": "https://localhost:8080/"
        },
        "id": "Nv5NJHGEPp64",
        "outputId": "c74a2695-c853-4f72-a245-fda82f34e034"
      },
      "execution_count": null,
      "outputs": [
        {
          "output_type": "stream",
          "name": "stdout",
          "text": [
            "당신의 점수를 입력하세요 >>> 12\n",
            "당신의 점수는 12점이고 학점은 F학점 입니다.\n"
          ]
        }
      ]
    },
    {
      "cell_type": "code",
      "source": [
        "# 임의의 정수를 입력받아서 그 수가 3의 배수인지를 확인하는 프로그램을 작성하시오\n",
        "\n",
        "\n",
        "num = int(input('정수를 입력하세요 >>> '))\n",
        "num2 = int(input('배수인지 확인할 수를 입력하세요'))\n",
        "\n",
        "if num%num2 == 0 :\n",
        "  print(f'{num}은 {num2}의 배수입니다.')\n",
        "else :\n",
        "  print(f'{num}은 {num2}의 배수가 아닙니다.')\n"
      ],
      "metadata": {
        "colab": {
          "base_uri": "https://localhost:8080/"
        },
        "id": "1N-DFJ5jTquD",
        "outputId": "550af327-0b3f-4d96-83d4-4516d7b3716c"
      },
      "execution_count": null,
      "outputs": [
        {
          "output_type": "stream",
          "name": "stdout",
          "text": [
            "정수를 입력하세요 >>> 123\n",
            "배수인지 확인할 수를 입력하세요11\n",
            "123은 11의 배수가 아닙니다.\n"
          ]
        }
      ]
    },
    {
      "cell_type": "code",
      "source": [
        "# 정수 3개를 입력받아서 그 중에서 가장 큰 수를 찾아 출력하는 프로그램\n",
        "\n",
        "n1 = int(input('정수1 입력 >>> '))\n",
        "n2 = int(input('정수2 입력 >>> '))\n",
        "n3 = int(input('정수3 입력 >>> '))\n",
        "\n",
        "if n1 > n2 & n1 > n3 :\n",
        "  best = n1\n",
        "elif n2 > n3 :\n",
        "  best = n2\n",
        "else :\n",
        "  best = n3\n",
        "\n",
        "print(f'가장 큰 수는 {best}입니다.')"
      ],
      "metadata": {
        "colab": {
          "base_uri": "https://localhost:8080/"
        },
        "id": "Ntxr7bJ_U9C9",
        "outputId": "4b68d36f-0f20-4a96-a2c6-4b907dfa362b"
      },
      "execution_count": null,
      "outputs": [
        {
          "output_type": "stream",
          "name": "stdout",
          "text": [
            "정수1 입력 >>> 3\n",
            "정수2 입력 >>> 1\n",
            "정수3 입력 >>> 3\n",
            "가장 큰 수는 3입니다.\n"
          ]
        }
      ]
    }
  ]
}
