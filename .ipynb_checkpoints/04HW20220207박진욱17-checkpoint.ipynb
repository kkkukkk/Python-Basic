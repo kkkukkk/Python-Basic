{
 "cells": [
  {
   "cell_type": "code",
   "execution_count": 23,
   "id": "f97b33fb",
   "metadata": {},
   "outputs": [
    {
     "name": "stdout",
     "output_type": "stream",
     "text": [
      "안녕\n",
      "Hi\n"
     ]
    }
   ],
   "source": [
    "#211\n",
    "\n",
    "def 함수(문자열) :\n",
    "    \n",
    "    print(문자열)\n",
    "    \n",
    "함수(\"안녕\")\n",
    "함수(\"Hi\")\n",
    "\n",
    "# 호출 결과 :\n",
    "# 안녕\n",
    "# Hi"
   ]
  },
  {
   "cell_type": "code",
   "execution_count": 7,
   "id": "9bb68fbc",
   "metadata": {},
   "outputs": [],
   "source": [
    "# 212\n",
    "\n",
    "def 함수(a,b) :\n",
    "    print(a+b)\n",
    "    \n",
    "함수(3,4)\n",
    "함수(7,8)\n",
    "\n",
    "# 호출 결과 :\n",
    "# 7\n",
    "# 15"
   ]
  },
  {
   "cell_type": "code",
   "execution_count": null,
   "id": "bef69f8a",
   "metadata": {},
   "outputs": [],
   "source": [
    "# 213\n",
    "\n",
    "def 함수(문자열) :\n",
    "\n",
    "    print(문자열)\n",
    "    \n",
    "함수()\n",
    "\n",
    "# TypeError: 함수() missing 1 required positional argument: '문자열'\n",
    "\n",
    "# 함수의 매개변수에 넣어줄 인수가 존재하지 않으므로 오류"
   ]
  },
  {
   "cell_type": "code",
   "execution_count": 22,
   "id": "ae40e0e8",
   "metadata": {},
   "outputs": [
    {
     "ename": "TypeError",
     "evalue": "can only concatenate str (not \"int\") to str",
     "output_type": "error",
     "traceback": [
      "\u001b[1;31m---------------------------------------------------------------------------\u001b[0m",
      "\u001b[1;31mTypeError\u001b[0m                                 Traceback (most recent call last)",
      "\u001b[1;32m~\\AppData\\Local\\Temp/ipykernel_2092/3419849297.py\u001b[0m in \u001b[0;36m<module>\u001b[1;34m\u001b[0m\n\u001b[0;32m      5\u001b[0m     \u001b[0mprint\u001b[0m\u001b[1;33m(\u001b[0m\u001b[0ma\u001b[0m\u001b[1;33m+\u001b[0m\u001b[0mb\u001b[0m\u001b[1;33m)\u001b[0m\u001b[1;33m\u001b[0m\u001b[1;33m\u001b[0m\u001b[0m\n\u001b[0;32m      6\u001b[0m \u001b[1;33m\u001b[0m\u001b[0m\n\u001b[1;32m----> 7\u001b[1;33m \u001b[0m함수\u001b[0m\u001b[1;33m(\u001b[0m\u001b[1;34m\"안녕\"\u001b[0m\u001b[1;33m,\u001b[0m\u001b[1;36m3\u001b[0m\u001b[1;33m)\u001b[0m\u001b[1;33m\u001b[0m\u001b[1;33m\u001b[0m\u001b[0m\n\u001b[0m\u001b[0;32m      8\u001b[0m \u001b[1;33m\u001b[0m\u001b[0m\n\u001b[0;32m      9\u001b[0m \u001b[1;31m# TypeError : must be str, not int\u001b[0m\u001b[1;33m\u001b[0m\u001b[1;33m\u001b[0m\u001b[0m\n",
      "\u001b[1;32m~\\AppData\\Local\\Temp/ipykernel_2092/3419849297.py\u001b[0m in \u001b[0;36m함수\u001b[1;34m(a, b)\u001b[0m\n\u001b[0;32m      3\u001b[0m \u001b[1;32mdef\u001b[0m \u001b[0m함수\u001b[0m\u001b[1;33m(\u001b[0m\u001b[0ma\u001b[0m \u001b[1;33m,\u001b[0m \u001b[0mb\u001b[0m\u001b[1;33m)\u001b[0m \u001b[1;33m:\u001b[0m\u001b[1;33m\u001b[0m\u001b[1;33m\u001b[0m\u001b[0m\n\u001b[0;32m      4\u001b[0m \u001b[1;33m\u001b[0m\u001b[0m\n\u001b[1;32m----> 5\u001b[1;33m     \u001b[0mprint\u001b[0m\u001b[1;33m(\u001b[0m\u001b[0ma\u001b[0m\u001b[1;33m+\u001b[0m\u001b[0mb\u001b[0m\u001b[1;33m)\u001b[0m\u001b[1;33m\u001b[0m\u001b[1;33m\u001b[0m\u001b[0m\n\u001b[0m\u001b[0;32m      6\u001b[0m \u001b[1;33m\u001b[0m\u001b[0m\n\u001b[0;32m      7\u001b[0m \u001b[0m함수\u001b[0m\u001b[1;33m(\u001b[0m\u001b[1;34m\"안녕\"\u001b[0m\u001b[1;33m,\u001b[0m\u001b[1;36m3\u001b[0m\u001b[1;33m)\u001b[0m\u001b[1;33m\u001b[0m\u001b[1;33m\u001b[0m\u001b[0m\n",
      "\u001b[1;31mTypeError\u001b[0m: can only concatenate str (not \"int\") to str"
     ]
    }
   ],
   "source": [
    "#214\n",
    "\n",
    "def 함수(a , b) :\n",
    "    \n",
    "    print(a+b)\n",
    "    \n",
    "함수(\"안녕\",3)\n",
    "\n",
    "# TypeError : must be str, not int\n",
    "# \"안녕\" 이라는 문자열에 숫자를 연산하므로 오류 발생, 3을 문자열로 변환하여 해결"
   ]
  },
  {
   "cell_type": "code",
   "execution_count": 25,
   "id": "4f2180af",
   "metadata": {},
   "outputs": [],
   "source": [
    "#215\n",
    "\n",
    "def print_with_smile(val):\n",
    "    print(f'{val} :D')"
   ]
  },
  {
   "cell_type": "code",
   "execution_count": 26,
   "id": "0d4096b6",
   "metadata": {},
   "outputs": [
    {
     "name": "stdout",
     "output_type": "stream",
     "text": [
      "안녕하세요 :D\n"
     ]
    }
   ],
   "source": [
    "#216\n",
    "\n",
    "def print_with_smile(val):\n",
    "    print(f'{val} :D')\n",
    "    \n",
    "print_with_smile(\"안녕하세요\")"
   ]
  },
  {
   "cell_type": "code",
   "execution_count": 29,
   "id": "67fd5253",
   "metadata": {},
   "outputs": [
    {
     "name": "stdout",
     "output_type": "stream",
     "text": [
      "3900.0\n"
     ]
    }
   ],
   "source": [
    "#217\n",
    "\n",
    "def print_upper_price(val):\n",
    "    print(val*1.3)\n",
    "\n",
    "print_upper_price(3000)"
   ]
  },
  {
   "cell_type": "code",
   "execution_count": 31,
   "id": "11518adc",
   "metadata": {},
   "outputs": [
    {
     "name": "stdout",
     "output_type": "stream",
     "text": [
      "16\n"
     ]
    }
   ],
   "source": [
    "#218\n",
    "\n",
    "def print_sum(a,b):\n",
    "    print(a+b)\n",
    "    \n",
    "print_sum(5,11)"
   ]
  },
  {
   "cell_type": "code",
   "execution_count": 36,
   "id": "dd628f29",
   "metadata": {},
   "outputs": [
    {
     "name": "stdout",
     "output_type": "stream",
     "text": [
      "3 + 5 = 8\n",
      "3 - 5 = -2\n",
      "3 * 5 = 15\n",
      "3 / 5 = 0.6\n"
     ]
    }
   ],
   "source": [
    "#219\n",
    "\n",
    "def print_arithmetic_operation(a,b):\n",
    "    print(f'{a} + {b} = {a+b}')\n",
    "    print(f'{a} - {b} = {a-b}')\n",
    "    print(f'{a} * {b} = {a*b}')\n",
    "    print(f'{a} / {b} = {a/b}')\n",
    "    \n",
    "print_arithmetic_operation(3,5)"
   ]
  },
  {
   "cell_type": "code",
   "execution_count": 47,
   "id": "b7d62fdd",
   "metadata": {},
   "outputs": [
    {
     "name": "stdout",
     "output_type": "stream",
     "text": [
      "3\n"
     ]
    }
   ],
   "source": [
    "#220\n",
    "\n",
    "def print_max(a,b,c):\n",
    "    if a>b and a>c:\n",
    "        max = a;\n",
    "    elif b>c:\n",
    "        max = b;\n",
    "    else:\n",
    "        max = c;\n",
    "    print(max)\n",
    "        \n",
    "print_max(1,2,3)"
   ]
  },
  {
   "cell_type": "code",
   "execution_count": 85,
   "id": "1d824b52",
   "metadata": {},
   "outputs": [
    {
     "name": "stdout",
     "output_type": "stream",
     "text": [
      "nohtyp\n"
     ]
    }
   ],
   "source": [
    "#221\n",
    "\n",
    "def print_reverse(val):\n",
    "    rev = ''\n",
    "    for i in val:\n",
    "        rev = i + rev\n",
    "    print(rev)\n",
    "\n",
    "#    print(f'{val[::-1]}')\n",
    "\n",
    "print_reverse(\"python\")"
   ]
  },
  {
   "cell_type": "code",
   "execution_count": 95,
   "id": "608de89f",
   "metadata": {},
   "outputs": [
    {
     "name": "stdout",
     "output_type": "stream",
     "text": [
      "2.0\n"
     ]
    }
   ],
   "source": [
    "#222\n",
    "\n",
    "def print_score(val):\n",
    "    print(sum(val)/len(val))\n",
    "\n",
    "print_score([1,2,3])"
   ]
  },
  {
   "cell_type": "code",
   "execution_count": 109,
   "id": "0d00b968",
   "metadata": {},
   "outputs": [
    {
     "name": "stdout",
     "output_type": "stream",
     "text": [
      "2\n",
      "10\n",
      "12\n"
     ]
    }
   ],
   "source": [
    "#223\n",
    "\n",
    "def print_even(val):\n",
    "    for i in val:\n",
    "        if i%2 == 0 :\n",
    "            print(i)\n",
    "\n",
    "print_even([1,3,2,10,12,11,15])"
   ]
  },
  {
   "cell_type": "code",
   "execution_count": 112,
   "id": "09a10194",
   "metadata": {},
   "outputs": [
    {
     "name": "stdout",
     "output_type": "stream",
     "text": [
      "이름\n",
      "나이\n",
      "성별\n"
     ]
    }
   ],
   "source": [
    "#224\n",
    "\n",
    "def print_keys(val):\n",
    "    for keys in val:\n",
    "        print(keys)\n",
    "    \n",
    "print_keys({\"이름\" : \"김말똥\", \"나이\": 30, \"성별\":0})"
   ]
  },
  {
   "cell_type": "code",
   "execution_count": 122,
   "id": "94db059c",
   "metadata": {},
   "outputs": [
    {
     "name": "stdout",
     "output_type": "stream",
     "text": [
      "[100, 130, 100, 100]\n"
     ]
    }
   ],
   "source": [
    "#225\n",
    "\n",
    "my_dict = {\n",
    "    \"10/26\" : [100, 130, 100, 100],\n",
    "    \"10/27\" : [10, 12, 10, 11]\n",
    "}\n",
    "\n",
    "def print_value_by_key (my_dict, keys):\n",
    "    print(my_dict[keys])\n",
    "        \n",
    "print_value_by_key(my_dict, \"10/26\")"
   ]
  },
  {
   "cell_type": "code",
   "execution_count": 188,
   "id": "98f95c43",
   "metadata": {},
   "outputs": [
    {
     "name": "stdout",
     "output_type": "stream",
     "text": [
      "아이엠어보\n",
      "이유알어걸\n",
      "\n",
      "\n",
      "\n",
      "\n"
     ]
    }
   ],
   "source": [
    "#226\n",
    "\n",
    "def print_5xn(val):\n",
    "    num = int(len(val)/2)\n",
    "    for i in range(num+1):\n",
    "        print(f'{val[i*num : i*num+num]}')\n",
    "        \n",
    "print_5xn(\"아이엠어보이유알어걸\")"
   ]
  },
  {
   "cell_type": "code",
   "execution_count": 199,
   "id": "9963e1b5",
   "metadata": {},
   "outputs": [
    {
     "name": "stdout",
     "output_type": "stream",
     "text": [
      "아이엠\n",
      "어보이\n",
      "유알어\n",
      "걸\n"
     ]
    }
   ],
   "source": [
    "#227\n",
    "\n",
    "def print_mxn(val,a):\n",
    "    num = int(len(val)/a)\n",
    "    for i in range(num+1):\n",
    "        print(f'{val[i*num : i*num+num]}')\n",
    "        \n",
    "print_mxn(\"아이엠어보이유알어걸\",3)"
   ]
  },
  {
   "cell_type": "code",
   "execution_count": 207,
   "id": "06f84cd7",
   "metadata": {},
   "outputs": [
    {
     "name": "stdout",
     "output_type": "stream",
     "text": [
      "1000000\n"
     ]
    }
   ],
   "source": [
    "#228\n",
    "\n",
    "def calc_monthly_salary(val):\n",
    "    mon = val / 12\n",
    "    print(int(mon))\n",
    "\n",
    "calc_monthly_salary(12000000)"
   ]
  },
  {
   "cell_type": "code",
   "execution_count": 208,
   "id": "81341481",
   "metadata": {},
   "outputs": [
    {
     "name": "stdout",
     "output_type": "stream",
     "text": [
      "왼쪽: 100\n",
      "오른쪽: 200\n"
     ]
    }
   ],
   "source": [
    "#229\n",
    "\n",
    "def my_print (a, b) :\n",
    "    print(\"왼쪽:\", a)\n",
    "    print(\"오른쪽:\", b)\n",
    "    \n",
    "my_print(a=100, b=200)\n",
    "\n",
    "# 실행결과 :\n",
    "# 왼쪽: 100\n",
    "# 오른쪽: 200"
   ]
  },
  {
   "cell_type": "code",
   "execution_count": 209,
   "id": "6d60fc82",
   "metadata": {},
   "outputs": [
    {
     "name": "stdout",
     "output_type": "stream",
     "text": [
      "왼쪽: 200\n",
      "오른쪽: 100\n"
     ]
    }
   ],
   "source": [
    "#230\n",
    "\n",
    "def my_print (a, b) :\n",
    "    print(\"왼쪽:\", a)\n",
    "    print(\"오른쪽:\", b)\n",
    "\n",
    "    \n",
    "my_print(b=100, a=200)\n",
    "\n",
    "# 실행결과 :\n",
    "# 왼쪽: 200\n",
    "# 오른쪽: 100"
   ]
  }
 ],
 "metadata": {
  "kernelspec": {
   "display_name": "Python 3 (ipykernel)",
   "language": "python",
   "name": "python3"
  },
  "language_info": {
   "codemirror_mode": {
    "name": "ipython",
    "version": 3
   },
   "file_extension": ".py",
   "mimetype": "text/x-python",
   "name": "python",
   "nbconvert_exporter": "python",
   "pygments_lexer": "ipython3",
   "version": "3.9.7"
  }
 },
 "nbformat": 4,
 "nbformat_minor": 5
}
